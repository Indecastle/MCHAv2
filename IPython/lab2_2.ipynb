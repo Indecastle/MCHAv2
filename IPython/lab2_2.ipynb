{
 "cells": [
  {
   "cell_type": "markdown",
   "metadata": {},
   "source": [
    "# lab2_2"
   ]
  },
  {
   "cell_type": "code",
   "execution_count": 2,
   "metadata": {},
   "outputs": [],
   "source": [
    "import math\n",
    "import numpy as np\n",
    "import sympy as sm\n",
    "from sympy import Derivative, diff\n",
    "from itertools import groupby\n",
    "import matplotlib.pyplot as plt\n",
    "from tabulate import tabulate\n",
    "from pprint import pprint\n",
    "\n",
    "from IPython.display import display, Latex, clear_output"
   ]
  },
  {
   "cell_type": "code",
   "execution_count": 3,
   "metadata": {},
   "outputs": [],
   "source": [
    "t, y =sm.symbols('t, y')\n",
    "x=sm.Function('x')\n",
    "p=sm.Function('p')"
   ]
  },
  {
   "cell_type": "code",
   "execution_count": 4,
   "metadata": {},
   "outputs": [
    {
     "data": {
      "text/latex": [
       "$\\displaystyle \\left( u_{i+1}, \\  u_{i-1}, \\  u_{i}\\right)$"
      ],
      "text/plain": [
       "(uᵢ₊₁, uᵢ₋₁, uᵢ)"
      ]
     },
     "execution_count": 4,
     "metadata": {},
     "output_type": "execute_result"
    }
   ],
   "source": [
    "sm.init_printing(use_latex='mathjax')\n",
    "x, y, t = sm.symbols('x, y, t', real=True)\n",
    "C1, C2 = sm.symbols(\"C1, C2\", real=True)\n",
    "c = sm.symbols(\"c\")\n",
    "u = sm.Function('u')\n",
    "ux = u(x)\n",
    "ux1 = Derivative(u(x), x)\n",
    "ux2 = Derivative(u(x), (x, 2))\n",
    "\n",
    "h, uup1, uum1, uu0 = sm.symbols('h, u_i+1, u_i-1, u_i')\n",
    "\n",
    "uup1, uum1, uu0"
   ]
  },
  {
   "cell_type": "code",
   "execution_count": 5,
   "metadata": {},
   "outputs": [],
   "source": [
    "zad1 = {\n",
    "    'a': 0, 'b': 2,\n",
    "    'k': 0.5, 'T': 0.4,\n",
    "    'fx': sm.lambdify(x, 1), 'fxt': 2,\n",
    "    'g1t': sm.lambdify(t, sm.exp(-t)), 'g2t': sm.lambdify(t, sm.exp(-5*t))\n",
    "    \n",
    "}"
   ]
  },
  {
   "cell_type": "code",
   "execution_count": 7,
   "metadata": {},
   "outputs": [
    {
     "name": "stdout",
     "output_type": "stream",
     "text": [
      "0.25 0.021052631578947368\n"
     ]
    },
    {
     "data": {
      "text/latex": [
       "$\\displaystyle \\frac{u_{i} - y}{t}$"
      ],
      "text/plain": [
       "uᵢ - y\n",
       "──────\n",
       "  t   "
      ]
     },
     "metadata": {},
     "output_type": "display_data"
    },
    {
     "data": {
      "text/latex": [
       "$\\displaystyle \\frac{- 2 u_{i} + u_{i+1} + u_{i-1}}{h^{2}}$"
      ],
      "text/plain": [
       "-2⋅uᵢ + uᵢ₊₁ + uᵢ₋₁\n",
       "───────────────────\n",
       "          2        \n",
       "         h         "
      ]
     },
     "metadata": {},
     "output_type": "display_data"
    },
    {
     "data": {
      "text/latex": [
       "$\\displaystyle \\frac{u_{i} - y}{t} = 2 + \\frac{0.5 \\left(- 2 u_{i} + u_{i+1} + u_{i-1}\\right)}{h^{2}}$"
      ],
      "text/plain": [
       "uᵢ - y       0.5⋅(-2⋅uᵢ + uᵢ₊₁ + uᵢ₋₁)\n",
       "────── = 2 + ─────────────────────────\n",
       "  t                       2           \n",
       "                         h            "
      ]
     },
     "metadata": {},
     "output_type": "display_data"
    },
    {
     "name": "stdout",
     "output_type": "stream",
     "text": [
      "(u0, u1, u2, u3, u4, u5, u6, u7, u8)\n"
     ]
    }
   ],
   "source": [
    "n = 9\n",
    "m = 20\n",
    "hh = (zad1['b'] - zad1['a']) / (n-1)\n",
    "tt = zad1['T'] / (m-1)\n",
    "bb = zad1['k'] * tt / hh**2\n",
    "uut1 = (uu0 - y)/(t)\n",
    "uux2 = (uup1 - 2*uu0 + uum1)/(h**2)\n",
    "apro = sm.Eq(uut1, zad1['k']*uux2 + zad1['fxt'])\n",
    "\n",
    "us = sm.symbols(' '.join([f\"u{i}\" for i in range(n)]))\n",
    "list_x = [zad1['a'] + hh*i for i in range(n)]\n",
    "list_tt = [tt*i for i in range(m)]\n",
    "list_g1t = [zad1['g1t'](list_tt[i]) for i in range(m)]\n",
    "list_g2t = [zad1['g2t'](list_tt[i]) for i in range(m)]\n",
    "\n",
    "print(hh, tt)\n",
    "display(uut1, uux2)\n",
    "display(apro)\n",
    "print(us)\n",
    "#print(\"list_x:\", *list_x)\n",
    "#print(\"list_tt:\", *list_tt)\n",
    "#print(\"list_g1t:\", *list_g1t)\n",
    "#print(\"list_g2t:\", *list_g2t)"
   ]
  },
  {
   "cell_type": "code",
   "execution_count": 10,
   "metadata": {
    "scrolled": false
   },
   "outputs": [
    {
     "data": {
      "text/latex": [
       "$\\displaystyle 47.5 u_{1} - 47.5 = 8.0 u_{0} - 16.0 u_{1} + 8.0 u_{2} + 2$"
      ],
      "text/plain": [
       "47.5⋅u₁ - 47.5 = 8.0⋅u₀ - 16.0⋅u₁ + 8.0⋅u₂ + 2"
      ]
     },
     "metadata": {},
     "output_type": "display_data"
    },
    {
     "data": {
      "text/latex": [
       "$\\displaystyle 47.5 u_{2} - 47.5 = 8.0 u_{1} - 16.0 u_{2} + 8.0 u_{3} + 2$"
      ],
      "text/plain": [
       "47.5⋅u₂ - 47.5 = 8.0⋅u₁ - 16.0⋅u₂ + 8.0⋅u₃ + 2"
      ]
     },
     "metadata": {},
     "output_type": "display_data"
    },
    {
     "data": {
      "text/latex": [
       "$\\displaystyle 47.5 u_{3} - 47.5 = 8.0 u_{2} - 16.0 u_{3} + 8.0 u_{4} + 2$"
      ],
      "text/plain": [
       "47.5⋅u₃ - 47.5 = 8.0⋅u₂ - 16.0⋅u₃ + 8.0⋅u₄ + 2"
      ]
     },
     "metadata": {},
     "output_type": "display_data"
    },
    {
     "data": {
      "text/latex": [
       "$\\displaystyle 47.5 u_{4} - 47.5 = 8.0 u_{3} - 16.0 u_{4} + 8.0 u_{5} + 2$"
      ],
      "text/plain": [
       "47.5⋅u₄ - 47.5 = 8.0⋅u₃ - 16.0⋅u₄ + 8.0⋅u₅ + 2"
      ]
     },
     "metadata": {},
     "output_type": "display_data"
    },
    {
     "data": {
      "text/latex": [
       "$\\displaystyle 47.5 u_{5} - 47.5 = 8.0 u_{4} - 16.0 u_{5} + 8.0 u_{6} + 2$"
      ],
      "text/plain": [
       "47.5⋅u₅ - 47.5 = 8.0⋅u₄ - 16.0⋅u₅ + 8.0⋅u₆ + 2"
      ]
     },
     "metadata": {},
     "output_type": "display_data"
    },
    {
     "data": {
      "text/latex": [
       "$\\displaystyle 47.5 u_{6} - 47.5 = 8.0 u_{5} - 16.0 u_{6} + 8.0 u_{7} + 2$"
      ],
      "text/plain": [
       "47.5⋅u₆ - 47.5 = 8.0⋅u₅ - 16.0⋅u₆ + 8.0⋅u₇ + 2"
      ]
     },
     "metadata": {},
     "output_type": "display_data"
    },
    {
     "data": {
      "text/latex": [
       "$\\displaystyle 47.5 u_{7} - 47.5 = 8.0 u_{6} - 16.0 u_{7} + 8.0 u_{8} + 2$"
      ],
      "text/plain": [
       "47.5⋅u₇ - 47.5 = 8.0⋅u₆ - 16.0⋅u₇ + 8.0⋅u₈ + 2"
      ]
     },
     "metadata": {},
     "output_type": "display_data"
    },
    {
     "data": {
      "text/latex": [
       "$\\displaystyle u_{0} = 0.979167428085454$"
      ],
      "text/plain": [
       "u₀ = 0.979167428085454"
      ]
     },
     "metadata": {},
     "output_type": "display_data"
    },
    {
     "data": {
      "text/latex": [
       "$\\displaystyle u_{8} = 0.900087626252259$"
      ],
      "text/plain": [
       "u₈ = 0.900087626252259"
      ]
     },
     "metadata": {},
     "output_type": "display_data"
    },
    {
     "name": "stdout",
     "output_type": "stream",
     "text": [
      "\n"
     ]
    },
    {
     "data": {
      "text/latex": [
       "$\\displaystyle 0.979167428085454$"
      ],
      "text/plain": [
       "0.979167428085454"
      ]
     },
     "metadata": {},
     "output_type": "display_data"
    },
    {
     "data": {
      "text/latex": [
       "$\\displaystyle 1.03404599511775$"
      ],
      "text/plain": [
       "1.03404599511775"
      ]
     },
     "metadata": {},
     "output_type": "display_data"
    },
    {
     "data": {
      "text/latex": [
       "$\\displaystyle 1.04107265816167$"
      ],
      "text/plain": [
       "1.04107265816167"
      ]
     },
     "metadata": {},
     "output_type": "display_data"
    },
    {
     "data": {
      "text/latex": [
       "$\\displaystyle 1.04196822904054$"
      ],
      "text/plain": [
       "1.04196822904054"
      ]
     },
     "metadata": {},
     "output_type": "display_data"
    },
    {
     "data": {
      "text/latex": [
       "$\\displaystyle 1.04205015984761$"
      ],
      "text/plain": [
       "1.04205015984761"
      ]
     },
     "metadata": {},
     "output_type": "display_data"
    },
    {
     "data": {
      "text/latex": [
       "$\\displaystyle 1.04180491474983$"
      ],
      "text/plain": [
       "1.04180491474983"
      ]
     },
     "metadata": {},
     "output_type": "display_data"
    },
    {
     "data": {
      "text/latex": [
       "$\\displaystyle 1.03977635097916$"
      ],
      "text/plain": [
       "1.03977635097916"
      ]
     },
     "metadata": {},
     "output_type": "display_data"
    },
    {
     "data": {
      "text/latex": [
       "$\\displaystyle 1.02391987114727$"
      ],
      "text/plain": [
       "1.02391987114727"
      ]
     },
     "metadata": {},
     "output_type": "display_data"
    },
    {
     "data": {
      "text/latex": [
       "$\\displaystyle 0.900087626252259$"
      ],
      "text/plain": [
       "0.900087626252259"
      ]
     },
     "metadata": {},
     "output_type": "display_data"
    },
    {
     "name": "stdout",
     "output_type": "stream",
     "text": [
      "╒════╤══════════════════════════╤════════╤══════╤═════╤══════╤═════╤══════╤═════╤══════╤════════╕\n",
      "│    │ i                        │ 0.0    │ 1.0  │ 2.0 │ 3.0  │ 4.0 │ 5.0  │ 6.0 │ 7.0  │ 8.0    │\n",
      "├────┼──────────────────────────┼────────┼──────┼─────┼──────┼─────┼──────┼─────┼──────┼────────┤\n",
      "│ j  │ tj \\ xi                  │ 0.0    │ 0.25 │ 0.5 │ 0.75 │ 1.0 │ 1.25 │ 1.5 │ 1.75 │ 2.0    │\n",
      "├────┼──────────────────────────┼────────┼──────┼─────┼──────┼─────┼──────┼─────┼──────┼────────┤\n",
      "│ 0  │ 0.0                      │ 1.0    │ 1.0  │ 1.0 │ 1.0  │ 1.0 │ 1.0  │ 1.0 │ 1.0  │ 1.0    │\n",
      "├────┼──────────────────────────┼────────┼──────┼─────┼──────┼─────┼──────┼─────┼──────┼────────┤\n",
      "│ 1  │ 0.021052631578947368     │ 0.9792 │      │     │      │     │      │     │      │ 0.9001 │\n",
      "├────┼──────────────────────────┼────────┼──────┼─────┼──────┼─────┼──────┼─────┼──────┼────────┤\n",
      "│ 2  │ 0.042105263157894736     │ 0.9588 │      │     │      │     │      │     │      │ 0.8102 │\n",
      "├────┼──────────────────────────┼────────┼──────┼─────┼──────┼─────┼──────┼─────┼──────┼────────┤\n",
      "│ 3  │ 0.06315789473684211      │ 0.9388 │      │     │      │     │      │     │      │ 0.7292 │\n",
      "├────┼──────────────────────────┼────────┼──────┼─────┼──────┼─────┼──────┼─────┼──────┼────────┤\n",
      "│ 4  │ 0.08421052631578947      │ 0.9192 │      │     │      │     │      │     │      │ 0.6564 │\n",
      "├────┼──────────────────────────┼────────┼──────┼─────┼──────┼─────┼──────┼─────┼──────┼────────┤\n",
      "│ 5  │ 0.10526315789473684      │ 0.9001 │      │     │      │     │      │     │      │ 0.5908 │\n",
      "├────┼──────────────────────────┼────────┼──────┼─────┼──────┼─────┼──────┼─────┼──────┼────────┤\n",
      "│ 6  │ 0.12631578947368421      │ 0.8813 │      │     │      │     │      │     │      │ 0.5318 │\n",
      "├────┼──────────────────────────┼────────┼──────┼─────┼──────┼─────┼──────┼─────┼──────┼────────┤\n",
      "│ 7  │ 0.14736842105263157      │ 0.863  │      │     │      │     │      │     │      │ 0.4786 │\n",
      "├────┼──────────────────────────┼────────┼──────┼─────┼──────┼─────┼──────┼─────┼──────┼────────┤\n",
      "│ 8  │ 0.16842105263157894      │ 0.845  │      │     │      │     │      │     │      │ 0.4308 │\n",
      "├────┼──────────────────────────┼────────┼──────┼─────┼──────┼─────┼──────┼─────┼──────┼────────┤\n",
      "│ 9  │ 0.18947368421052632      │ 0.8274 │      │     │      │     │      │     │      │ 0.3878 │\n",
      "├────┼──────────────────────────┼────────┼──────┼─────┼──────┼─────┼──────┼─────┼──────┼────────┤\n",
      "│ 10 │ 0.21052631578947367      │ 0.8102 │      │     │      │     │      │     │      │ 0.349  │\n",
      "├────┼──────────────────────────┼────────┼──────┼─────┼──────┼─────┼──────┼─────┼──────┼────────┤\n",
      "│ 11 │ 0.23157894736842105      │ 0.7933 │      │     │      │     │      │     │      │ 0.3141 │\n",
      "├────┼──────────────────────────┼────────┼──────┼─────┼──────┼─────┼──────┼─────┼──────┼────────┤\n",
      "│ 12 │ 0.25263157894736843      │ 0.7768 │      │     │      │     │      │     │      │ 0.2828 │\n",
      "├────┼──────────────────────────┼────────┼──────┼─────┼──────┼─────┼──────┼─────┼──────┼────────┤\n",
      "│ 13 │ 0.2736842105263158       │ 0.7606 │      │     │      │     │      │     │      │ 0.2545 │\n",
      "├────┼──────────────────────────┼────────┼──────┼─────┼──────┼─────┼──────┼─────┼──────┼────────┤\n",
      "│ 14 │ 0.29473684210526313      │ 0.7447 │      │     │      │     │      │     │      │ 0.2291 │\n",
      "├────┼──────────────────────────┼────────┼──────┼─────┼──────┼─────┼──────┼─────┼──────┼────────┤\n",
      "│ 15 │ 0.3157894736842105       │ 0.7292 │      │     │      │     │      │     │      │ 0.2062 │\n",
      "├────┼──────────────────────────┼────────┼──────┼─────┼──────┼─────┼──────┼─────┼──────┼────────┤\n",
      "│ 16 │ 0.3368421052631579       │ 0.714  │      │     │      │     │      │     │      │ 0.1856 │\n",
      "├────┼──────────────────────────┼────────┼──────┼─────┼──────┼─────┼──────┼─────┼──────┼────────┤\n",
      "│ 17 │ 0.35789473684210527      │ 0.6991 │      │     │      │     │      │     │      │ 0.167  │\n",
      "├────┼──────────────────────────┼────────┼──────┼─────┼──────┼─────┼──────┼─────┼──────┼────────┤\n",
      "│ 18 │ 0.37894736842105264      │ 0.6846 │      │     │      │     │      │     │      │ 0.1504 │\n",
      "├────┼──────────────────────────┼────────┼──────┼─────┼──────┼─────┼──────┼─────┼──────┼────────┤\n",
      "│ 19 │ 0.39999999999999997      │ 0.6703 │      │     │      │     │      │     │      │ 0.1353 │\n",
      "├────┼──────────────────────────┼────────┼──────┼─────┼──────┼─────┼──────┼─────┼──────┼────────┤\n",
      "│    │ й(х;0.39999999999999997) │        │      │     │      │     │      │     │      │        │\n",
      "├────┼──────────────────────────┼────────┼──────┼─────┼──────┼─────┼──────┼─────┼──────┼────────┤\n",
      "│    │ |й - u|                  │        │      │     │      │     │      │     │      │        │\n",
      "╘════╧══════════════════════════╧════════╧══════╧═════╧══════╧═════╧══════╧═════╧══════╧════════╛\n"
     ]
    }
   ],
   "source": [
    "table = [[None]*(n+2) for _ in range(m+4)]\n",
    "table[0][0] = ''\n",
    "table[0][1] = 'i'\n",
    "for i in range(2, n+2):\n",
    "    table[0][i] = i-2\n",
    "table[1][0] = 'j'\n",
    "table[1][1] = 'tj \\\\ xi'\n",
    "for i in range(2, n+2):\n",
    "    table[1][i] = list_x[i-2]\n",
    "    \n",
    "for i in range(2, m+2):\n",
    "    table[i][0] = i-2\n",
    "for i in range(2, m+2):\n",
    "    table[i][1] = list_tt[i-2]\n",
    "table[m+4-2][1] = \"й(х;%s)\" % table[m+4-3][1]\n",
    "table[m+4-1][1] = \"|й - u|\"\n",
    "for i in range(m):\n",
    "    table[i+2][2] = list_g1t[i]\n",
    "    table[i+2][n+2-1] = list_g2t[i]\n",
    " \n",
    "for i in range(1, n-1):\n",
    "    table[2][i+2] = zad1['fx'](list_x[i])\n",
    "\n",
    "for i in range(1, m):\n",
    "    tyts = [apro.subs({x: table[1][2+j], y: table[2+i-1][2+j], h: hh, t: tt, uum1: us[j-1], uu0: us[j], uup1: us[j+1]})  for j in range(1,n-1)]\n",
    "    tyts.append(sm.Eq(us[0], table[2+i][2]))\n",
    "    tyts.append(sm.Eq(us[n-1], table[2+i][2+n-1]))\n",
    "    #display(*tyts)\n",
    "    result = list(sm.solve(tyts, us).values())\n",
    "    #print()\n",
    "    #display(*result)\n",
    "    #break\n",
    "    for j in range(1, n-1):\n",
    "        table[2+i][2+j] = result[j]\n",
    "        \n",
    "print(tabulate(table, floatfmt=\".04\", tablefmt='fancy_grid'))"
   ]
  },
  {
   "cell_type": "code",
   "execution_count": null,
   "metadata": {},
   "outputs": [],
   "source": [
    "hello = 'hello'"
   ]
  },
  {
   "cell_type": "code",
   "execution_count": null,
   "metadata": {},
   "outputs": [],
   "source": []
  },
  {
   "cell_type": "code",
   "execution_count": null,
   "metadata": {},
   "outputs": [],
   "source": []
  }
 ],
 "metadata": {
  "hide_input": false,
  "kernelspec": {
   "display_name": "Python 3",
   "language": "python",
   "name": "python3"
  },
  "language_info": {
   "codemirror_mode": {
    "name": "ipython",
    "version": 3
   },
   "file_extension": ".py",
   "mimetype": "text/x-python",
   "name": "python",
   "nbconvert_exporter": "python",
   "pygments_lexer": "ipython3",
   "version": "3.7.4"
  },
  "toc": {
   "base_numbering": 1,
   "nav_menu": {},
   "number_sections": true,
   "sideBar": true,
   "skip_h1_title": false,
   "title_cell": "Table of Contents",
   "title_sidebar": "Contents",
   "toc_cell": false,
   "toc_position": {},
   "toc_section_display": true,
   "toc_window_display": false
  },
  "varInspector": {
   "cols": {
    "lenName": 16,
    "lenType": 16,
    "lenVar": 40
   },
   "kernels_config": {
    "python": {
     "delete_cmd_postfix": "",
     "delete_cmd_prefix": "del ",
     "library": "var_list.py",
     "varRefreshCmd": "print(var_dic_list())"
    },
    "r": {
     "delete_cmd_postfix": ") ",
     "delete_cmd_prefix": "rm(",
     "library": "var_list.r",
     "varRefreshCmd": "cat(var_dic_list()) "
    }
   },
   "position": {
    "height": "476.4px",
    "left": "1102px",
    "right": "20px",
    "top": "120px",
    "width": "350px"
   },
   "types_to_exclude": [
    "module",
    "function",
    "builtin_function_or_method",
    "instance",
    "_Feature"
   ],
   "window_display": false
  }
 },
 "nbformat": 4,
 "nbformat_minor": 2
}
