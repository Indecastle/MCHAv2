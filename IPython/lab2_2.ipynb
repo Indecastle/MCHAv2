{
 "cells": [
  {
   "cell_type": "markdown",
   "metadata": {},
   "source": [
    "# lab2_2"
   ]
  },
  {
   "cell_type": "code",
   "execution_count": 3,
   "metadata": {},
   "outputs": [],
   "source": [
    "import math\n",
    "import numpy as np\n",
    "import sympy as sm\n",
    "from sympy import Derivative, diff\n",
    "from itertools import groupby\n",
    "import matplotlib.pyplot as plt\n",
    "from tabulate import tabulate\n",
    "from pprint import pprint\n",
    "import TDMA\n",
    "\n",
    "from IPython.display import display, Latex, clear_output"
   ]
  },
  {
   "cell_type": "code",
   "execution_count": 4,
   "metadata": {},
   "outputs": [
    {
     "data": {
      "text/latex": [
       "$\\displaystyle \\left( u_{i+1}, \\  u_{i-1}, \\  u_{i}\\right)$"
      ],
      "text/plain": [
       "(uᵢ₊₁, uᵢ₋₁, uᵢ)"
      ]
     },
     "execution_count": 4,
     "metadata": {},
     "output_type": "execute_result"
    }
   ],
   "source": [
    "sm.init_printing(use_latex='mathjax')\n",
    "x, y, t, l = sm.symbols('x, y, t, l', real=True)\n",
    "C1, C2 = sm.symbols(\"C1, C2\", real=True)\n",
    "c = sm.symbols(\"c\")\n",
    "u = sm.Function('u')\n",
    "ux = u(x)\n",
    "ux1 = Derivative(u(x), x)\n",
    "ux2 = Derivative(u(x), (x, 2))\n",
    "\n",
    "h, uup1, uum1, uu0 = sm.symbols('h, u_i+1, u_i-1, u_i')\n",
    "\n",
    "uup1, uum1, uu0"
   ]
  },
  {
   "cell_type": "code",
   "execution_count": 5,
   "metadata": {},
   "outputs": [],
   "source": [
    "zad1 = {\n",
    "    'a': 0, 'b': 2,\n",
    "    'k': 0.5, 'T': 0.4,\n",
    "    'fx': sm.lambdify(x, 1), 'fxt': 2,\n",
    "    'g1t': sm.lambdify(t, sm.exp(-t)), 'g2t': sm.lambdify(t, sm.exp(-5*t))\n",
    "    \n",
    "}"
   ]
  },
  {
   "cell_type": "code",
   "execution_count": 10,
   "metadata": {},
   "outputs": [
    {
     "name": "stdout",
     "output_type": "stream",
     "text": [
      "0.25 0.021052631578947368\n"
     ]
    },
    {
     "data": {
      "text/latex": [
       "$\\displaystyle \\frac{u_{i} - y}{t}$"
      ],
      "text/plain": [
       "uᵢ - y\n",
       "──────\n",
       "  t   "
      ]
     },
     "metadata": {},
     "output_type": "display_data"
    },
    {
     "data": {
      "text/latex": [
       "$\\displaystyle \\frac{- 2 u_{i} + u_{i+1} + u_{i-1}}{h^{2}}$"
      ],
      "text/plain": [
       "-2⋅uᵢ + uᵢ₊₁ + uᵢ₋₁\n",
       "───────────────────\n",
       "          2        \n",
       "         h         "
      ]
     },
     "metadata": {},
     "output_type": "display_data"
    },
    {
     "data": {
      "text/latex": [
       "$\\displaystyle \\frac{u_{i} - y}{t} = 2 + \\frac{0.5 \\left(- 2 u_{i} + u_{i+1} + u_{i-1}\\right)}{h^{2}}$"
      ],
      "text/plain": [
       "uᵢ - y       0.5⋅(-2⋅uᵢ + uᵢ₊₁ + uᵢ₋₁)\n",
       "────── = 2 + ─────────────────────────\n",
       "  t                       2           \n",
       "                         h            "
      ]
     },
     "metadata": {},
     "output_type": "display_data"
    },
    {
     "data": {
      "text/latex": [
       "$\\displaystyle 1.33684210526316 u_{i} - 0.168421052631579 u_{i+1} - 0.168421052631579 u_{i-1} = 2 l + y$"
      ],
      "text/plain": [
       "1.33684210526316⋅uᵢ - 0.168421052631579⋅uᵢ₊₁ - 0.168421052631579⋅uᵢ₋₁ = 2⋅l + \n",
       "y"
      ]
     },
     "metadata": {},
     "output_type": "display_data"
    },
    {
     "name": "stdout",
     "output_type": "stream",
     "text": [
      "(u0, u1, u2, u3, u4, u5, u6, u7, u8)\n"
     ]
    }
   ],
   "source": [
    "n = 9\n",
    "m = 20\n",
    "hh = (zad1['b'] - zad1['a']) / (n-1)\n",
    "ll = zad1['T'] / (m-1)\n",
    "bb = zad1['k'] * ll / hh**2\n",
    "uut1 = (uu0 - y)/(t)\n",
    "uux2 = (uup1 - 2*uu0 + uum1)/(h**2)\n",
    "apro = sm.Eq(uut1, zad1['k']*uux2 + zad1['fxt'])\n",
    "apro2 = sm.Eq(uu0 - bb*(uup1 - 2*uu0 + uum1), y + l*zad1['fxt'])\n",
    "\n",
    "us = sm.symbols(' '.join([f\"u{i}\" for i in range(n)]))\n",
    "list_x = [zad1['a'] + hh*i for i in range(n)]\n",
    "list_t = [ll*i for i in range(m)]\n",
    "list_g1t = [zad1['g1t'](list_t[i]) for i in range(m)]\n",
    "list_g2t = [zad1['g2t'](list_t[i]) for i in range(m)]\n",
    "\n",
    "print(hh, ll)\n",
    "display(uut1, uux2)\n",
    "display(apro, apro2)\n",
    "print(us)\n",
    "#print(\"list_x:\", *list_x)\n",
    "#print(\"list_tt:\", *list_tt)\n",
    "#print(\"list_g1t:\", *list_g1t)\n",
    "#print(\"list_g2t:\", *list_g2t)"
   ]
  },
  {
   "cell_type": "code",
   "execution_count": 11,
   "metadata": {
    "scrolled": true
   },
   "outputs": [
    {
     "name": "stdout",
     "output_type": "stream",
     "text": [
      "╒════╤══════════╤════════╤═══════╤═══════╤═══════╤═══════╤═══════╤═══════╤════════╤════════╕\n",
      "│    │ i        │ 0.0    │ 1.0   │ 2.0   │ 3.0   │ 4.0   │ 5.0   │ 6.0   │ 7.0    │ 8.0    │\n",
      "├────┼──────────┼────────┼───────┼───────┼───────┼───────┼───────┼───────┼────────┼────────┤\n",
      "│ j  │ tj \\ xi  │ 0.0    │ 0.25  │ 0.5   │ 0.75  │ 1.0   │ 1.25  │ 1.5   │ 1.75   │ 2.0    │\n",
      "├────┼──────────┼────────┼───────┼───────┼───────┼───────┼───────┼───────┼────────┼────────┤\n",
      "│ 0  │ 0.0      │ 1.0    │ 1.0   │ 1.0   │ 1.0   │ 1.0   │ 1.0   │ 1.0   │ 1.0    │ 1.0    │\n",
      "├────┼──────────┼────────┼───────┼───────┼───────┼───────┼───────┼───────┼────────┼────────┤\n",
      "│ 1  │ 0.021    │ 0.9792 │ 1.034 │ 1.041 │ 1.042 │ 1.042 │ 1.042 │ 1.04  │ 1.024  │ 0.9001 │\n",
      "├────┼──────────┼────────┼───────┼───────┼───────┼───────┼───────┼───────┼────────┼────────┤\n",
      "│ 2  │ 0.042    │ 0.9588 │ 1.062 │ 1.081 │ 1.084 │ 1.084 │ 1.083 │ 1.076 │ 1.035  │ 0.8102 │\n",
      "├────┼──────────┼────────┼───────┼───────┼───────┼───────┼───────┼───────┼────────┼────────┤\n",
      "│ 3  │ 0.063    │ 0.9388 │ 1.085 │ 1.118 │ 1.125 │ 1.125 │ 1.123 │ 1.109 │ 1.037  │ 0.7292 │\n",
      "├────┼──────────┼────────┼───────┼───────┼───────┼───────┼───────┼───────┼────────┼────────┤\n",
      "│ 4  │ 0.084    │ 0.9192 │ 1.104 │ 1.154 │ 1.165 │ 1.167 │ 1.162 │ 1.137 │ 1.033  │ 0.6564 │\n",
      "├────┼──────────┼────────┼───────┼───────┼───────┼───────┼───────┼───────┼────────┼────────┤\n",
      "│ 5  │ 0.105    │ 0.9001 │ 1.121 │ 1.188 │ 1.205 │ 1.207 │ 1.199 │ 1.163 │ 1.025  │ 0.5908 │\n",
      "├────┼──────────┼────────┼───────┼───────┼───────┼───────┼───────┼───────┼────────┼────────┤\n",
      "│ 6  │ 0.126    │ 0.8813 │ 1.134 │ 1.219 │ 1.243 │ 1.247 │ 1.235 │ 1.184 │ 1.015  │ 0.5318 │\n",
      "├────┼──────────┼────────┼───────┼───────┼───────┼───────┼───────┼───────┼────────┼────────┤\n",
      "│ 7  │ 0.147    │ 0.863  │ 1.146 │ 1.249 │ 1.281 │ 1.285 │ 1.269 │ 1.204 │ 1.003  │ 0.4786 │\n",
      "├────┼──────────┼────────┼───────┼───────┼───────┼───────┼───────┼───────┼────────┼────────┤\n",
      "│ 8  │ 0.168    │ 0.845  │ 1.156 │ 1.278 │ 1.317 │ 1.323 │ 1.301 │ 1.22  │ 0.9894 │ 0.4308 │\n",
      "├────┼──────────┼────────┼───────┼───────┼───────┼───────┼───────┼───────┼────────┼────────┤\n",
      "│ 9  │ 0.189    │ 0.8274 │ 1.165 │ 1.304 │ 1.352 │ 1.359 │ 1.331 │ 1.235 │ 0.9761 │ 0.3878 │\n",
      "├────┼──────────┼────────┼───────┼───────┼───────┼───────┼───────┼───────┼────────┼────────┤\n",
      "│ 10 │ 0.211    │ 0.8102 │ 1.173 │ 1.33  │ 1.386 │ 1.394 │ 1.36  │ 1.248 │ 0.9628 │ 0.349  │\n",
      "├────┼──────────┼────────┼───────┼───────┼───────┼───────┼───────┼───────┼────────┼────────┤\n",
      "│ 11 │ 0.232    │ 0.7933 │ 1.179 │ 1.353 │ 1.419 │ 1.428 │ 1.388 │ 1.26  │ 0.95   │ 0.3141 │\n",
      "├────┼──────────┼────────┼───────┼───────┼───────┼───────┼───────┼───────┼────────┼────────┤\n",
      "│ 12 │ 0.253    │ 0.7768 │ 1.185 │ 1.376 │ 1.45  │ 1.46  │ 1.413 │ 1.27  │ 0.9377 │ 0.2828 │\n",
      "├────┼──────────┼────────┼───────┼───────┼───────┼───────┼───────┼───────┼────────┼────────┤\n",
      "│ 13 │ 0.274    │ 0.7606 │ 1.189 │ 1.397 │ 1.48  │ 1.492 │ 1.438 │ 1.279 │ 0.9262 │ 0.2545 │\n",
      "├────┼──────────┼────────┼───────┼───────┼───────┼───────┼───────┼───────┼────────┼────────┤\n",
      "│ 14 │ 0.295    │ 0.7447 │ 1.194 │ 1.417 │ 1.509 │ 1.521 │ 1.461 │ 1.288 │ 0.9154 │ 0.2291 │\n",
      "├────┼──────────┼────────┼───────┼───────┼───────┼───────┼───────┼───────┼────────┼────────┤\n",
      "│ 15 │ 0.316    │ 0.7292 │ 1.197 │ 1.436 │ 1.536 │ 1.55  │ 1.483 │ 1.296 │ 0.9055 │ 0.2062 │\n",
      "├────┼──────────┼────────┼───────┼───────┼───────┼───────┼───────┼───────┼────────┼────────┤\n",
      "│ 16 │ 0.337    │ 0.714  │ 1.2   │ 1.454 │ 1.563 │ 1.577 │ 1.504 │ 1.303 │ 0.8964 │ 0.1856 │\n",
      "├────┼──────────┼────────┼───────┼───────┼───────┼───────┼───────┼───────┼────────┼────────┤\n",
      "│ 17 │ 0.358    │ 0.6991 │ 1.202 │ 1.47  │ 1.588 │ 1.603 │ 1.523 │ 1.31  │ 0.8881 │ 0.167  │\n",
      "├────┼──────────┼────────┼───────┼───────┼───────┼───────┼───────┼───────┼────────┼────────┤\n",
      "│ 18 │ 0.379    │ 0.6846 │ 1.204 │ 1.486 │ 1.611 │ 1.628 │ 1.542 │ 1.317 │ 0.8806 │ 0.1504 │\n",
      "├────┼──────────┼────────┼───────┼───────┼───────┼───────┼───────┼───────┼────────┼────────┤\n",
      "│ 19 │ 0.4      │ 0.6703 │ 1.206 │ 1.501 │ 1.634 │ 1.652 │ 1.56  │ 1.323 │ 0.874  │ 0.1353 │\n",
      "├────┼──────────┼────────┼───────┼───────┼───────┼───────┼───────┼───────┼────────┼────────┤\n",
      "│    │ й(х;0.4) │        │       │       │       │       │       │       │        │        │\n",
      "├────┼──────────┼────────┼───────┼───────┼───────┼───────┼───────┼───────┼────────┼────────┤\n",
      "│    │ |й - u|  │        │       │       │       │       │       │       │        │        │\n",
      "╘════╧══════════╧════════╧═══════╧═══════╧═══════╧═══════╧═══════╧═══════╧════════╧════════╛\n"
     ]
    }
   ],
   "source": [
    "table = [[None]*(n+2) for _ in range(m+4)]\n",
    "table[0][0] = ''\n",
    "table[0][1] = 'i'\n",
    "for i in range(2, n+2):\n",
    "    table[0][i] = i-2\n",
    "table[1][0] = 'j'\n",
    "table[1][1] = 'tj \\\\ xi'\n",
    "for i in range(2, n+2):\n",
    "    table[1][i] = list_x[i-2]\n",
    "    \n",
    "for i in range(2, m+2):\n",
    "    table[i][0] = i-2\n",
    "for i in range(2, m+2):\n",
    "    table[i][1] = round(list_t[i-2], 3)\n",
    "table[m+4-2][1] = \"й(х;%s)\" % table[m+4-3][1]\n",
    "table[m+4-1][1] = \"|й - u|\"\n",
    "for i in range(m):\n",
    "    table[i+2][2] = list_g1t[i]\n",
    "    table[i+2][n+2-1] = list_g2t[i]\n",
    " \n",
    "for i in range(1, n-1):\n",
    "    table[2][i+2] = zad1['fx'](list_x[i])\n",
    "\n",
    "for i in range(1, m):\n",
    "    tyts = []\n",
    "    tyts.append(sm.Eq(us[0], table[2+i][2]))\n",
    "    tyts.extend([apro2.subs({x: list_x[j], y: table[2+i-1][2+j], h: hh, t: list_t[j],\n",
    "                             l: ll, uum1: us[j-1], uu0: us[j], uup1: us[j+1]})  for j in range(1,n-1)])\n",
    "    tyts.append(sm.Eq(us[n-1], table[2+i][2+n-1]))\n",
    "    \n",
    "    express = list(map(lambda t: TDMA.maper(t.lhs), tyts))\n",
    "    TDMA.maper3(express, n)\n",
    "    expr_values = list(map(lambda t: list(map(lambda t2: TDMA.maper2(t2), t)), express))\n",
    "    f_values = list(map(lambda t: float(t.rhs), tyts))\n",
    "    #print(tabulate(expr_values, floatfmt=\".3\"))\n",
    "    a = [0] + [expr_values[i+1][i] for i in range(n-1)]\n",
    "    b = [expr_values[i][i] for i in range(n)]\n",
    "    c = [expr_values[i][i+1] for i in range(n-1)] + [0]\n",
    "    xxx = TDMA.TDMA(*[a,b,c], f_values)\n",
    "    #result = sm.solve(tyts, us)\n",
    "    #print(tabulate({'U':result.keys(), 'TDMA':xxx, 'SymPy':result.values()}, headers='keys', tablefmt=\"github\" , floatfmt=\"10.5f\"))    #print()\n",
    "    #display(*result)\n",
    "    #break\n",
    "    for j in range(1, n-1):\n",
    "        table[2+i][2+j] = xxx[j]\n",
    "        \n",
    "print(tabulate(table, floatfmt=\".4\", tablefmt='fancy_grid'))"
   ]
  },
  {
   "cell_type": "code",
   "execution_count": null,
   "metadata": {},
   "outputs": [],
   "source": [
    "hello = 'hello'"
   ]
  },
  {
   "cell_type": "code",
   "execution_count": null,
   "metadata": {},
   "outputs": [],
   "source": []
  },
  {
   "cell_type": "code",
   "execution_count": null,
   "metadata": {},
   "outputs": [],
   "source": []
  }
 ],
 "metadata": {
  "hide_input": false,
  "kernelspec": {
   "display_name": "Python 3",
   "language": "python",
   "name": "python3"
  },
  "language_info": {
   "codemirror_mode": {
    "name": "ipython",
    "version": 3
   },
   "file_extension": ".py",
   "mimetype": "text/x-python",
   "name": "python",
   "nbconvert_exporter": "python",
   "pygments_lexer": "ipython3",
   "version": "3.7.4"
  },
  "toc": {
   "base_numbering": 1,
   "nav_menu": {},
   "number_sections": true,
   "sideBar": true,
   "skip_h1_title": false,
   "title_cell": "Table of Contents",
   "title_sidebar": "Contents",
   "toc_cell": false,
   "toc_position": {},
   "toc_section_display": true,
   "toc_window_display": false
  },
  "varInspector": {
   "cols": {
    "lenName": 16,
    "lenType": 16,
    "lenVar": 40
   },
   "kernels_config": {
    "python": {
     "delete_cmd_postfix": "",
     "delete_cmd_prefix": "del ",
     "library": "var_list.py",
     "varRefreshCmd": "print(var_dic_list())"
    },
    "r": {
     "delete_cmd_postfix": ") ",
     "delete_cmd_prefix": "rm(",
     "library": "var_list.r",
     "varRefreshCmd": "cat(var_dic_list()) "
    }
   },
   "position": {
    "height": "476.4px",
    "left": "1102px",
    "right": "20px",
    "top": "120px",
    "width": "350px"
   },
   "types_to_exclude": [
    "module",
    "function",
    "builtin_function_or_method",
    "instance",
    "_Feature"
   ],
   "window_display": false
  }
 },
 "nbformat": 4,
 "nbformat_minor": 2
}
