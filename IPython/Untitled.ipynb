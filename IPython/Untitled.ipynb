{
 "cells": [
  {
   "cell_type": "code",
   "execution_count": 336,
   "metadata": {},
   "outputs": [],
   "source": [
    "import math\n",
    "import numpy as np\n",
    "import sympy as sm\n",
    "from sympy import Derivative\n",
    "from itertools import groupby\n",
    "import matplotlib.pyplot as plt\n",
    "from tabulate import tabulate\n",
    "from pprint import pprint\n",
    "\n",
    "from IPython.display import display, Latex"
   ]
  },
  {
   "cell_type": "code",
   "execution_count": 434,
   "metadata": {},
   "outputs": [
    {
     "data": {
      "text/latex": [
       "$\\displaystyle \\frac{d}{d x} u{\\left(x \\right)}$"
      ],
      "text/plain": [
       "d       \n",
       "──(u(x))\n",
       "dx      "
      ]
     },
     "execution_count": 434,
     "metadata": {},
     "output_type": "execute_result"
    }
   ],
   "source": [
    "sm.init_printing(use_latex='mathjax')\n",
    "x, y, c = sm.symbols('x, y, c', real=True)\n",
    "C1, C2 = sm.symbols(\"C1, C2\", real=True)\n",
    "c = sm.symbols(\"c\")\n",
    "u = sm.Function('u', real=True)\n",
    "ux1 = Derivative(u(x), x)\n",
    "ux1"
   ]
  },
  {
   "cell_type": "code",
   "execution_count": 439,
   "metadata": {},
   "outputs": [],
   "source": [
    "zad1 = {'K': c*x**2,\n",
    "        'f': 2*x**2 + 2*x,\n",
    "        'a': 0.5, 'UA': 2,\n",
    "        'b': 1.6, 'UB': 6}\n",
    "\n",
    "zad0 = {'K': x,\n",
    "        'f': x**(sm.Pow(3,-1))*4/3,\n",
    "        'a': 0.5, 'UA': 1,\n",
    "        'b': 1, 'UB': 2}\n",
    "\n",
    "express = [\n",
    "    lambda zad: {**zad, 'K':zad['K'], 'UA':zad['UA'], 'c':1 },\n",
    "    lambda zad: {**zad, 'K':zad['K']*c, 'UA':zad['UA'], 'UB':zad['UB'], 'c':2 },\n",
    "    lambda zad: {**zad, 'K':zad['K']*c, 'UA':zad['UA'], 'UB':zad['UB'], 'c':0.1 },\n",
    "    #lambda zad: {**zad, 'K':sm.Pow(zad['K'],-1), 'UA':zad['UA'], 'b':zad['b'], 'UB':zad['UB'], 'c':1 },\n",
    "    lambda zad: {**zad, 'K':zad['K'], 'UA':-zad['UA'], 'UB':zad['UB'], 'c':1 },\n",
    "    lambda zad: {**zad, 'K':zad['K'], 'UA':zad['UA'], 'UB':-zad['UB'], 'c':1 },\n",
    "    lambda zad: {**zad, 'K':zad['K'], 'UA':-zad['UA'], 'UB':-zad['UB'], 'c':1 }\n",
    "]"
   ]
  },
  {
   "cell_type": "code",
   "execution_count": 436,
   "metadata": {
    "scrolled": true
   },
   "outputs": [
    {
     "data": {
      "text/latex": [
       "$\\displaystyle \\frac{d}{d x} \\frac{\\frac{d}{d x} u{\\left(x \\right)}}{x} = - \\frac{4 \\sqrt[3]{x}}{3}$"
      ],
      "text/plain": [
       "  ⎛d       ⎞            \n",
       "  ⎜──(u(x))⎟      3 ___ \n",
       "d ⎜dx      ⎟   -4⋅╲╱ x  \n",
       "──⎜────────⎟ = ─────────\n",
       "dx⎝   x    ⎠       3    "
      ]
     },
     "execution_count": 436,
     "metadata": {},
     "output_type": "execute_result"
    }
   ],
   "source": [
    "rer = sm.Eq(Derivative(1/zad0['K']*ux1, x), - zad0['f'])\n",
    "rer"
   ]
  },
  {
   "cell_type": "code",
   "execution_count": 438,
   "metadata": {
    "scrolled": true
   },
   "outputs": [
    {
     "ename": "KeyboardInterrupt",
     "evalue": "",
     "output_type": "error",
     "traceback": [
      "\u001b[1;31m---------------------------------------------------------------------------\u001b[0m",
      "\u001b[1;31mKeyboardInterrupt\u001b[0m                         Traceback (most recent call last)",
      "\u001b[1;32m<ipython-input-438-4ea568b2367e>\u001b[0m in \u001b[0;36m<module>\u001b[1;34m\u001b[0m\n\u001b[1;32m----> 1\u001b[1;33m \u001b[0mres\u001b[0m \u001b[1;33m=\u001b[0m \u001b[0msm\u001b[0m\u001b[1;33m.\u001b[0m\u001b[0mintegrate\u001b[0m\u001b[1;33m(\u001b[0m\u001b[0mDerivative\u001b[0m\u001b[1;33m(\u001b[0m\u001b[1;36m1\u001b[0m\u001b[1;33m/\u001b[0m\u001b[0mx\u001b[0m\u001b[1;33m*\u001b[0m\u001b[0mux1\u001b[0m\u001b[1;33m,\u001b[0m \u001b[0mx\u001b[0m\u001b[1;33m)\u001b[0m\u001b[1;33m,\u001b[0m \u001b[0mx\u001b[0m\u001b[1;33m)\u001b[0m\u001b[1;33m\u001b[0m\u001b[1;33m\u001b[0m\u001b[0m\n\u001b[0m\u001b[0;32m      2\u001b[0m \u001b[0mres\u001b[0m\u001b[1;33m\u001b[0m\u001b[1;33m\u001b[0m\u001b[0m\n",
      "\u001b[1;32mc:\\users\\andrey\\appdata\\local\\programs\\python\\python37-32\\lib\\site-packages\\sympy\\integrals\\integrals.py\u001b[0m in \u001b[0;36mintegrate\u001b[1;34m(*args, **kwargs)\u001b[0m\n\u001b[0;32m   1475\u001b[0m \u001b[1;33m\u001b[0m\u001b[0m\n\u001b[0;32m   1476\u001b[0m     \u001b[1;32mif\u001b[0m \u001b[0misinstance\u001b[0m\u001b[1;33m(\u001b[0m\u001b[0mintegral\u001b[0m\u001b[1;33m,\u001b[0m \u001b[0mIntegral\u001b[0m\u001b[1;33m)\u001b[0m\u001b[1;33m:\u001b[0m\u001b[1;33m\u001b[0m\u001b[1;33m\u001b[0m\u001b[0m\n\u001b[1;32m-> 1477\u001b[1;33m         \u001b[1;32mreturn\u001b[0m \u001b[0mintegral\u001b[0m\u001b[1;33m.\u001b[0m\u001b[0mdoit\u001b[0m\u001b[1;33m(\u001b[0m\u001b[1;33m**\u001b[0m\u001b[0mdoit_flags\u001b[0m\u001b[1;33m)\u001b[0m\u001b[1;33m\u001b[0m\u001b[1;33m\u001b[0m\u001b[0m\n\u001b[0m\u001b[0;32m   1478\u001b[0m     \u001b[1;32melse\u001b[0m\u001b[1;33m:\u001b[0m\u001b[1;33m\u001b[0m\u001b[1;33m\u001b[0m\u001b[0m\n\u001b[0;32m   1479\u001b[0m         new_args = [a.doit(**doit_flags) if isinstance(a, Integral) else a\n",
      "\u001b[1;32mc:\\users\\andrey\\appdata\\local\\programs\\python\\python37-32\\lib\\site-packages\\sympy\\integrals\\integrals.py\u001b[0m in \u001b[0;36mdoit\u001b[1;34m(self, **hints)\u001b[0m\n\u001b[0;32m    539\u001b[0m                 \u001b[1;32melse\u001b[0m\u001b[1;33m:\u001b[0m\u001b[1;33m\u001b[0m\u001b[1;33m\u001b[0m\u001b[0m\n\u001b[0;32m    540\u001b[0m                     antideriv = self._eval_integral(\n\u001b[1;32m--> 541\u001b[1;33m                         function, xab[0], **eval_kwargs)\n\u001b[0m\u001b[0;32m    542\u001b[0m                     \u001b[1;32mif\u001b[0m \u001b[0mantideriv\u001b[0m \u001b[1;32mis\u001b[0m \u001b[1;32mNone\u001b[0m \u001b[1;32mand\u001b[0m \u001b[0mmeijerg\u001b[0m \u001b[1;32mis\u001b[0m \u001b[1;32mTrue\u001b[0m\u001b[1;33m:\u001b[0m\u001b[1;33m\u001b[0m\u001b[1;33m\u001b[0m\u001b[0m\n\u001b[0;32m    543\u001b[0m                         \u001b[0mret\u001b[0m \u001b[1;33m=\u001b[0m \u001b[0mtry_meijerg\u001b[0m\u001b[1;33m(\u001b[0m\u001b[0mfunction\u001b[0m\u001b[1;33m,\u001b[0m \u001b[0mxab\u001b[0m\u001b[1;33m)\u001b[0m\u001b[1;33m\u001b[0m\u001b[1;33m\u001b[0m\u001b[0m\n",
      "\u001b[1;32mc:\\users\\andrey\\appdata\\local\\programs\\python\\python37-32\\lib\\site-packages\\sympy\\integrals\\integrals.py\u001b[0m in \u001b[0;36m_eval_integral\u001b[1;34m(self, f, x, meijerg, risch, manual, heurisch, conds)\u001b[0m\n\u001b[0;32m    996\u001b[0m                     \u001b[1;32mtry\u001b[0m\u001b[1;33m:\u001b[0m\u001b[1;33m\u001b[0m\u001b[1;33m\u001b[0m\u001b[0m\n\u001b[0;32m    997\u001b[0m                         \u001b[1;32mif\u001b[0m \u001b[0mconds\u001b[0m \u001b[1;33m==\u001b[0m \u001b[1;34m'piecewise'\u001b[0m\u001b[1;33m:\u001b[0m\u001b[1;33m\u001b[0m\u001b[1;33m\u001b[0m\u001b[0m\n\u001b[1;32m--> 998\u001b[1;33m                             \u001b[0mh\u001b[0m \u001b[1;33m=\u001b[0m \u001b[0mheurisch_wrapper\u001b[0m\u001b[1;33m(\u001b[0m\u001b[0mg\u001b[0m\u001b[1;33m,\u001b[0m \u001b[0mx\u001b[0m\u001b[1;33m,\u001b[0m \u001b[0mhints\u001b[0m\u001b[1;33m=\u001b[0m\u001b[1;33m[\u001b[0m\u001b[1;33m]\u001b[0m\u001b[1;33m)\u001b[0m\u001b[1;33m\u001b[0m\u001b[1;33m\u001b[0m\u001b[0m\n\u001b[0m\u001b[0;32m    999\u001b[0m                         \u001b[1;32melse\u001b[0m\u001b[1;33m:\u001b[0m\u001b[1;33m\u001b[0m\u001b[1;33m\u001b[0m\u001b[0m\n\u001b[0;32m   1000\u001b[0m                             \u001b[0mh\u001b[0m \u001b[1;33m=\u001b[0m \u001b[0mheurisch_\u001b[0m\u001b[1;33m(\u001b[0m\u001b[0mg\u001b[0m\u001b[1;33m,\u001b[0m \u001b[0mx\u001b[0m\u001b[1;33m,\u001b[0m \u001b[0mhints\u001b[0m\u001b[1;33m=\u001b[0m\u001b[1;33m[\u001b[0m\u001b[1;33m]\u001b[0m\u001b[1;33m)\u001b[0m\u001b[1;33m\u001b[0m\u001b[1;33m\u001b[0m\u001b[0m\n",
      "\u001b[1;32mc:\\users\\andrey\\appdata\\local\\programs\\python\\python37-32\\lib\\site-packages\\sympy\\integrals\\heurisch.py\u001b[0m in \u001b[0;36mheurisch_wrapper\u001b[1;34m(f, x, rewrite, hints, mappings, retries, degree_offset, unnecessary_permutations)\u001b[0m\n\u001b[0;32m    130\u001b[0m \u001b[1;33m\u001b[0m\u001b[0m\n\u001b[0;32m    131\u001b[0m     res = heurisch(f, x, rewrite, hints, mappings, retries, degree_offset,\n\u001b[1;32m--> 132\u001b[1;33m                    unnecessary_permutations)\n\u001b[0m\u001b[0;32m    133\u001b[0m     \u001b[1;32mif\u001b[0m \u001b[1;32mnot\u001b[0m \u001b[0misinstance\u001b[0m\u001b[1;33m(\u001b[0m\u001b[0mres\u001b[0m\u001b[1;33m,\u001b[0m \u001b[0mBasic\u001b[0m\u001b[1;33m)\u001b[0m\u001b[1;33m:\u001b[0m\u001b[1;33m\u001b[0m\u001b[1;33m\u001b[0m\u001b[0m\n\u001b[0;32m    134\u001b[0m         \u001b[1;32mreturn\u001b[0m \u001b[0mres\u001b[0m\u001b[1;33m\u001b[0m\u001b[1;33m\u001b[0m\u001b[0m\n",
      "\u001b[1;32mc:\\users\\andrey\\appdata\\local\\programs\\python\\python37-32\\lib\\site-packages\\sympy\\integrals\\heurisch.py\u001b[0m in \u001b[0;36mheurisch\u001b[1;34m(f, x, rewrite, hints, mappings, retries, degree_offset, unnecessary_permutations)\u001b[0m\n\u001b[0;32m    703\u001b[0m \u001b[1;33m\u001b[0m\u001b[0m\n\u001b[0;32m    704\u001b[0m         \u001b[1;32mif\u001b[0m \u001b[0msolution\u001b[0m \u001b[1;32mis\u001b[0m \u001b[1;32mNone\u001b[0m\u001b[1;33m:\u001b[0m\u001b[1;33m\u001b[0m\u001b[1;33m\u001b[0m\u001b[0m\n\u001b[1;32m--> 705\u001b[1;33m             \u001b[0msolution\u001b[0m \u001b[1;33m=\u001b[0m \u001b[0m_integrate\u001b[0m\u001b[1;33m(\u001b[0m\u001b[1;33m)\u001b[0m\u001b[1;33m\u001b[0m\u001b[1;33m\u001b[0m\u001b[0m\n\u001b[0m\u001b[0;32m    706\u001b[0m     \u001b[1;32melse\u001b[0m\u001b[1;33m:\u001b[0m\u001b[1;33m\u001b[0m\u001b[1;33m\u001b[0m\u001b[0m\n\u001b[0;32m    707\u001b[0m         \u001b[0msolution\u001b[0m \u001b[1;33m=\u001b[0m \u001b[0m_integrate\u001b[0m\u001b[1;33m(\u001b[0m\u001b[1;33m)\u001b[0m\u001b[1;33m\u001b[0m\u001b[1;33m\u001b[0m\u001b[0m\n",
      "\u001b[1;32mc:\\users\\andrey\\appdata\\local\\programs\\python\\python37-32\\lib\\site-packages\\sympy\\integrals\\heurisch.py\u001b[0m in \u001b[0;36m_integrate\u001b[1;34m(field)\u001b[0m\n\u001b[0;32m    679\u001b[0m \u001b[1;33m\u001b[0m\u001b[0m\n\u001b[0;32m    680\u001b[0m         \u001b[1;32mtry\u001b[0m\u001b[1;33m:\u001b[0m\u001b[1;33m\u001b[0m\u001b[1;33m\u001b[0m\u001b[0m\n\u001b[1;32m--> 681\u001b[1;33m             \u001b[0mfind_non_syms\u001b[0m\u001b[1;33m(\u001b[0m\u001b[0mraw_numer\u001b[0m\u001b[1;33m)\u001b[0m\u001b[1;33m\u001b[0m\u001b[1;33m\u001b[0m\u001b[0m\n\u001b[0m\u001b[0;32m    682\u001b[0m         \u001b[1;32mexcept\u001b[0m \u001b[0mPolynomialError\u001b[0m\u001b[1;33m:\u001b[0m\u001b[1;33m\u001b[0m\u001b[1;33m\u001b[0m\u001b[0m\n\u001b[0;32m    683\u001b[0m             \u001b[1;32mreturn\u001b[0m \u001b[1;32mNone\u001b[0m\u001b[1;33m\u001b[0m\u001b[1;33m\u001b[0m\u001b[0m\n",
      "\u001b[1;32mc:\\users\\andrey\\appdata\\local\\programs\\python\\python37-32\\lib\\site-packages\\sympy\\integrals\\heurisch.py\u001b[0m in \u001b[0;36mfind_non_syms\u001b[1;34m(expr)\u001b[0m\n\u001b[0;32m    672\u001b[0m                 \u001b[0mnon_syms\u001b[0m\u001b[1;33m.\u001b[0m\u001b[0madd\u001b[0m\u001b[1;33m(\u001b[0m\u001b[0mexpr\u001b[0m\u001b[1;33m)\u001b[0m\u001b[1;33m\u001b[0m\u001b[1;33m\u001b[0m\u001b[0m\n\u001b[0;32m    673\u001b[0m             \u001b[1;32melif\u001b[0m \u001b[0mexpr\u001b[0m\u001b[1;33m.\u001b[0m\u001b[0mis_Add\u001b[0m \u001b[1;32mor\u001b[0m \u001b[0mexpr\u001b[0m\u001b[1;33m.\u001b[0m\u001b[0mis_Mul\u001b[0m \u001b[1;32mor\u001b[0m \u001b[0mexpr\u001b[0m\u001b[1;33m.\u001b[0m\u001b[0mis_Pow\u001b[0m\u001b[1;33m:\u001b[0m\u001b[1;33m\u001b[0m\u001b[1;33m\u001b[0m\u001b[0m\n\u001b[1;32m--> 674\u001b[1;33m                 \u001b[0mlist\u001b[0m\u001b[1;33m(\u001b[0m\u001b[0mmap\u001b[0m\u001b[1;33m(\u001b[0m\u001b[0mfind_non_syms\u001b[0m\u001b[1;33m,\u001b[0m \u001b[0mexpr\u001b[0m\u001b[1;33m.\u001b[0m\u001b[0margs\u001b[0m\u001b[1;33m)\u001b[0m\u001b[1;33m)\u001b[0m\u001b[1;33m\u001b[0m\u001b[1;33m\u001b[0m\u001b[0m\n\u001b[0m\u001b[0;32m    675\u001b[0m             \u001b[1;32melse\u001b[0m\u001b[1;33m:\u001b[0m\u001b[1;33m\u001b[0m\u001b[1;33m\u001b[0m\u001b[0m\n\u001b[0;32m    676\u001b[0m                 \u001b[1;31m# TODO: Non-polynomial expression. This should have been\u001b[0m\u001b[1;33m\u001b[0m\u001b[1;33m\u001b[0m\u001b[1;33m\u001b[0m\u001b[0m\n",
      "\u001b[1;32mc:\\users\\andrey\\appdata\\local\\programs\\python\\python37-32\\lib\\site-packages\\sympy\\integrals\\heurisch.py\u001b[0m in \u001b[0;36mfind_non_syms\u001b[1;34m(expr)\u001b[0m\n\u001b[0;32m    672\u001b[0m                 \u001b[0mnon_syms\u001b[0m\u001b[1;33m.\u001b[0m\u001b[0madd\u001b[0m\u001b[1;33m(\u001b[0m\u001b[0mexpr\u001b[0m\u001b[1;33m)\u001b[0m\u001b[1;33m\u001b[0m\u001b[1;33m\u001b[0m\u001b[0m\n\u001b[0;32m    673\u001b[0m             \u001b[1;32melif\u001b[0m \u001b[0mexpr\u001b[0m\u001b[1;33m.\u001b[0m\u001b[0mis_Add\u001b[0m \u001b[1;32mor\u001b[0m \u001b[0mexpr\u001b[0m\u001b[1;33m.\u001b[0m\u001b[0mis_Mul\u001b[0m \u001b[1;32mor\u001b[0m \u001b[0mexpr\u001b[0m\u001b[1;33m.\u001b[0m\u001b[0mis_Pow\u001b[0m\u001b[1;33m:\u001b[0m\u001b[1;33m\u001b[0m\u001b[1;33m\u001b[0m\u001b[0m\n\u001b[1;32m--> 674\u001b[1;33m                 \u001b[0mlist\u001b[0m\u001b[1;33m(\u001b[0m\u001b[0mmap\u001b[0m\u001b[1;33m(\u001b[0m\u001b[0mfind_non_syms\u001b[0m\u001b[1;33m,\u001b[0m \u001b[0mexpr\u001b[0m\u001b[1;33m.\u001b[0m\u001b[0margs\u001b[0m\u001b[1;33m)\u001b[0m\u001b[1;33m)\u001b[0m\u001b[1;33m\u001b[0m\u001b[1;33m\u001b[0m\u001b[0m\n\u001b[0m\u001b[0;32m    675\u001b[0m             \u001b[1;32melse\u001b[0m\u001b[1;33m:\u001b[0m\u001b[1;33m\u001b[0m\u001b[1;33m\u001b[0m\u001b[0m\n\u001b[0;32m    676\u001b[0m                 \u001b[1;31m# TODO: Non-polynomial expression. This should have been\u001b[0m\u001b[1;33m\u001b[0m\u001b[1;33m\u001b[0m\u001b[1;33m\u001b[0m\u001b[0m\n",
      "\u001b[1;32mc:\\users\\andrey\\appdata\\local\\programs\\python\\python37-32\\lib\\site-packages\\sympy\\integrals\\heurisch.py\u001b[0m in \u001b[0;36mfind_non_syms\u001b[1;34m(expr)\u001b[0m\n\u001b[0;32m    672\u001b[0m                 \u001b[0mnon_syms\u001b[0m\u001b[1;33m.\u001b[0m\u001b[0madd\u001b[0m\u001b[1;33m(\u001b[0m\u001b[0mexpr\u001b[0m\u001b[1;33m)\u001b[0m\u001b[1;33m\u001b[0m\u001b[1;33m\u001b[0m\u001b[0m\n\u001b[0;32m    673\u001b[0m             \u001b[1;32melif\u001b[0m \u001b[0mexpr\u001b[0m\u001b[1;33m.\u001b[0m\u001b[0mis_Add\u001b[0m \u001b[1;32mor\u001b[0m \u001b[0mexpr\u001b[0m\u001b[1;33m.\u001b[0m\u001b[0mis_Mul\u001b[0m \u001b[1;32mor\u001b[0m \u001b[0mexpr\u001b[0m\u001b[1;33m.\u001b[0m\u001b[0mis_Pow\u001b[0m\u001b[1;33m:\u001b[0m\u001b[1;33m\u001b[0m\u001b[1;33m\u001b[0m\u001b[0m\n\u001b[1;32m--> 674\u001b[1;33m                 \u001b[0mlist\u001b[0m\u001b[1;33m(\u001b[0m\u001b[0mmap\u001b[0m\u001b[1;33m(\u001b[0m\u001b[0mfind_non_syms\u001b[0m\u001b[1;33m,\u001b[0m \u001b[0mexpr\u001b[0m\u001b[1;33m.\u001b[0m\u001b[0margs\u001b[0m\u001b[1;33m)\u001b[0m\u001b[1;33m)\u001b[0m\u001b[1;33m\u001b[0m\u001b[1;33m\u001b[0m\u001b[0m\n\u001b[0m\u001b[0;32m    675\u001b[0m             \u001b[1;32melse\u001b[0m\u001b[1;33m:\u001b[0m\u001b[1;33m\u001b[0m\u001b[1;33m\u001b[0m\u001b[0m\n\u001b[0;32m    676\u001b[0m                 \u001b[1;31m# TODO: Non-polynomial expression. This should have been\u001b[0m\u001b[1;33m\u001b[0m\u001b[1;33m\u001b[0m\u001b[1;33m\u001b[0m\u001b[0m\n",
      "\u001b[1;32mc:\\users\\andrey\\appdata\\local\\programs\\python\\python37-32\\lib\\site-packages\\sympy\\integrals\\heurisch.py\u001b[0m in \u001b[0;36mfind_non_syms\u001b[1;34m(expr)\u001b[0m\n\u001b[0;32m    672\u001b[0m                 \u001b[0mnon_syms\u001b[0m\u001b[1;33m.\u001b[0m\u001b[0madd\u001b[0m\u001b[1;33m(\u001b[0m\u001b[0mexpr\u001b[0m\u001b[1;33m)\u001b[0m\u001b[1;33m\u001b[0m\u001b[1;33m\u001b[0m\u001b[0m\n\u001b[0;32m    673\u001b[0m             \u001b[1;32melif\u001b[0m \u001b[0mexpr\u001b[0m\u001b[1;33m.\u001b[0m\u001b[0mis_Add\u001b[0m \u001b[1;32mor\u001b[0m \u001b[0mexpr\u001b[0m\u001b[1;33m.\u001b[0m\u001b[0mis_Mul\u001b[0m \u001b[1;32mor\u001b[0m \u001b[0mexpr\u001b[0m\u001b[1;33m.\u001b[0m\u001b[0mis_Pow\u001b[0m\u001b[1;33m:\u001b[0m\u001b[1;33m\u001b[0m\u001b[1;33m\u001b[0m\u001b[0m\n\u001b[1;32m--> 674\u001b[1;33m                 \u001b[0mlist\u001b[0m\u001b[1;33m(\u001b[0m\u001b[0mmap\u001b[0m\u001b[1;33m(\u001b[0m\u001b[0mfind_non_syms\u001b[0m\u001b[1;33m,\u001b[0m \u001b[0mexpr\u001b[0m\u001b[1;33m.\u001b[0m\u001b[0margs\u001b[0m\u001b[1;33m)\u001b[0m\u001b[1;33m)\u001b[0m\u001b[1;33m\u001b[0m\u001b[1;33m\u001b[0m\u001b[0m\n\u001b[0m\u001b[0;32m    675\u001b[0m             \u001b[1;32melse\u001b[0m\u001b[1;33m:\u001b[0m\u001b[1;33m\u001b[0m\u001b[1;33m\u001b[0m\u001b[0m\n\u001b[0;32m    676\u001b[0m                 \u001b[1;31m# TODO: Non-polynomial expression. This should have been\u001b[0m\u001b[1;33m\u001b[0m\u001b[1;33m\u001b[0m\u001b[1;33m\u001b[0m\u001b[0m\n",
      "\u001b[1;32mc:\\users\\andrey\\appdata\\local\\programs\\python\\python37-32\\lib\\site-packages\\sympy\\integrals\\heurisch.py\u001b[0m in \u001b[0;36mfind_non_syms\u001b[1;34m(expr)\u001b[0m\n\u001b[0;32m    672\u001b[0m                 \u001b[0mnon_syms\u001b[0m\u001b[1;33m.\u001b[0m\u001b[0madd\u001b[0m\u001b[1;33m(\u001b[0m\u001b[0mexpr\u001b[0m\u001b[1;33m)\u001b[0m\u001b[1;33m\u001b[0m\u001b[1;33m\u001b[0m\u001b[0m\n\u001b[0;32m    673\u001b[0m             \u001b[1;32melif\u001b[0m \u001b[0mexpr\u001b[0m\u001b[1;33m.\u001b[0m\u001b[0mis_Add\u001b[0m \u001b[1;32mor\u001b[0m \u001b[0mexpr\u001b[0m\u001b[1;33m.\u001b[0m\u001b[0mis_Mul\u001b[0m \u001b[1;32mor\u001b[0m \u001b[0mexpr\u001b[0m\u001b[1;33m.\u001b[0m\u001b[0mis_Pow\u001b[0m\u001b[1;33m:\u001b[0m\u001b[1;33m\u001b[0m\u001b[1;33m\u001b[0m\u001b[0m\n\u001b[1;32m--> 674\u001b[1;33m                 \u001b[0mlist\u001b[0m\u001b[1;33m(\u001b[0m\u001b[0mmap\u001b[0m\u001b[1;33m(\u001b[0m\u001b[0mfind_non_syms\u001b[0m\u001b[1;33m,\u001b[0m \u001b[0mexpr\u001b[0m\u001b[1;33m.\u001b[0m\u001b[0margs\u001b[0m\u001b[1;33m)\u001b[0m\u001b[1;33m)\u001b[0m\u001b[1;33m\u001b[0m\u001b[1;33m\u001b[0m\u001b[0m\n\u001b[0m\u001b[0;32m    675\u001b[0m             \u001b[1;32melse\u001b[0m\u001b[1;33m:\u001b[0m\u001b[1;33m\u001b[0m\u001b[1;33m\u001b[0m\u001b[0m\n\u001b[0;32m    676\u001b[0m                 \u001b[1;31m# TODO: Non-polynomial expression. This should have been\u001b[0m\u001b[1;33m\u001b[0m\u001b[1;33m\u001b[0m\u001b[1;33m\u001b[0m\u001b[0m\n",
      "\u001b[1;32mc:\\users\\andrey\\appdata\\local\\programs\\python\\python37-32\\lib\\site-packages\\sympy\\integrals\\heurisch.py\u001b[0m in \u001b[0;36mfind_non_syms\u001b[1;34m(expr)\u001b[0m\n\u001b[0;32m    669\u001b[0m             \u001b[1;32melif\u001b[0m \u001b[0mexpr\u001b[0m \u001b[1;32min\u001b[0m \u001b[0msyms\u001b[0m\u001b[1;33m:\u001b[0m\u001b[1;33m\u001b[0m\u001b[1;33m\u001b[0m\u001b[0m\n\u001b[0;32m    670\u001b[0m                 \u001b[1;32mpass\u001b[0m \u001b[1;31m# ignore variables\u001b[0m\u001b[1;33m\u001b[0m\u001b[1;33m\u001b[0m\u001b[0m\n\u001b[1;32m--> 671\u001b[1;33m             \u001b[1;32melif\u001b[0m \u001b[1;32mnot\u001b[0m \u001b[0mexpr\u001b[0m\u001b[1;33m.\u001b[0m\u001b[0mhas\u001b[0m\u001b[1;33m(\u001b[0m\u001b[1;33m*\u001b[0m\u001b[0msyms\u001b[0m\u001b[1;33m)\u001b[0m\u001b[1;33m:\u001b[0m\u001b[1;33m\u001b[0m\u001b[1;33m\u001b[0m\u001b[0m\n\u001b[0m\u001b[0;32m    672\u001b[0m                 \u001b[0mnon_syms\u001b[0m\u001b[1;33m.\u001b[0m\u001b[0madd\u001b[0m\u001b[1;33m(\u001b[0m\u001b[0mexpr\u001b[0m\u001b[1;33m)\u001b[0m\u001b[1;33m\u001b[0m\u001b[1;33m\u001b[0m\u001b[0m\n\u001b[0;32m    673\u001b[0m             \u001b[1;32melif\u001b[0m \u001b[0mexpr\u001b[0m\u001b[1;33m.\u001b[0m\u001b[0mis_Add\u001b[0m \u001b[1;32mor\u001b[0m \u001b[0mexpr\u001b[0m\u001b[1;33m.\u001b[0m\u001b[0mis_Mul\u001b[0m \u001b[1;32mor\u001b[0m \u001b[0mexpr\u001b[0m\u001b[1;33m.\u001b[0m\u001b[0mis_Pow\u001b[0m\u001b[1;33m:\u001b[0m\u001b[1;33m\u001b[0m\u001b[1;33m\u001b[0m\u001b[0m\n",
      "\u001b[1;32mc:\\users\\andrey\\appdata\\local\\programs\\python\\python37-32\\lib\\site-packages\\sympy\\core\\cache.py\u001b[0m in \u001b[0;36mwrapper\u001b[1;34m(*args, **kwargs)\u001b[0m\n\u001b[0;32m     91\u001b[0m             \u001b[1;31m# for py2.7, use update_wrapper below\u001b[0m\u001b[1;33m\u001b[0m\u001b[1;33m\u001b[0m\u001b[1;33m\u001b[0m\u001b[0m\n\u001b[0;32m     92\u001b[0m             \u001b[1;32mdef\u001b[0m \u001b[0mwrapper\u001b[0m\u001b[1;33m(\u001b[0m\u001b[1;33m*\u001b[0m\u001b[0margs\u001b[0m\u001b[1;33m,\u001b[0m \u001b[1;33m**\u001b[0m\u001b[0mkwargs\u001b[0m\u001b[1;33m)\u001b[0m\u001b[1;33m:\u001b[0m\u001b[1;33m\u001b[0m\u001b[1;33m\u001b[0m\u001b[0m\n\u001b[1;32m---> 93\u001b[1;33m                 \u001b[1;32mtry\u001b[0m\u001b[1;33m:\u001b[0m\u001b[1;33m\u001b[0m\u001b[1;33m\u001b[0m\u001b[0m\n\u001b[0m\u001b[0;32m     94\u001b[0m                     \u001b[0mretval\u001b[0m \u001b[1;33m=\u001b[0m \u001b[0mcfunc\u001b[0m\u001b[1;33m(\u001b[0m\u001b[1;33m*\u001b[0m\u001b[0margs\u001b[0m\u001b[1;33m,\u001b[0m \u001b[1;33m**\u001b[0m\u001b[0mkwargs\u001b[0m\u001b[1;33m)\u001b[0m\u001b[1;33m\u001b[0m\u001b[1;33m\u001b[0m\u001b[0m\n\u001b[0;32m     95\u001b[0m                 \u001b[1;32mexcept\u001b[0m \u001b[0mTypeError\u001b[0m\u001b[1;33m:\u001b[0m\u001b[1;33m\u001b[0m\u001b[1;33m\u001b[0m\u001b[0m\n",
      "\u001b[1;31mKeyboardInterrupt\u001b[0m: "
     ]
    }
   ],
   "source": [
    "res = sm.integrate(Derivative(1/x*ux1, x), x)\n",
    "res"
   ]
  },
  {
   "cell_type": "code",
   "execution_count": 341,
   "metadata": {},
   "outputs": [
    {
     "data": {
      "text/latex": [
       "$\\displaystyle \\frac{d}{d x} u{\\left(x \\right)} = \\frac{C_{1} - x^{\\frac{4}{3}}}{x}$"
      ],
      "text/plain": [
       "                 4/3\n",
       "d          C₁ - x   \n",
       "──(u(x)) = ─────────\n",
       "dx             x    "
      ]
     },
     "execution_count": 341,
     "metadata": {},
     "output_type": "execute_result"
    }
   ],
   "source": [
    "res2 = sm.Eq(ux1, sm.solve(res, ux1)[0])\n",
    "res2"
   ]
  },
  {
   "cell_type": "code",
   "execution_count": 342,
   "metadata": {
    "scrolled": true
   },
   "outputs": [
    {
     "data": {
      "text/latex": [
       "$\\displaystyle u{\\left(x \\right)} = C_{1} \\log{\\left(x \\right)} + C_{2} - \\frac{3 x^{\\frac{4}{3}}}{4}$"
      ],
      "text/plain": [
       "                           4/3\n",
       "                        3⋅x   \n",
       "u(x) = C₁⋅log(x) + C₂ - ──────\n",
       "                          4   "
      ]
     },
     "execution_count": 342,
     "metadata": {},
     "output_type": "execute_result"
    }
   ],
   "source": [
    "res3 = sm.integrate(res2, x)\n",
    "res3 = sm.Eq(res3.lhs, res3.rhs + C2)\n",
    "#res3 = sm.expand(res3)\n",
    "res3"
   ]
  },
  {
   "cell_type": "code",
   "execution_count": 343,
   "metadata": {
    "scrolled": true
   },
   "outputs": [
    {
     "data": {
      "text/latex": [
       "$\\displaystyle u{\\left(x \\right)} = C_{1} \\log{\\left(x \\right)} + C_{2} - \\frac{3 x^{\\frac{4}{3}}}{4}$"
      ],
      "text/plain": [
       "                           4/3\n",
       "                        3⋅x   \n",
       "u(x) = C₁⋅log(x) + C₂ - ──────\n",
       "                          4   "
      ]
     },
     "execution_count": 343,
     "metadata": {},
     "output_type": "execute_result"
    }
   ],
   "source": [
    "res4 = res3.subs(c, 1)\n",
    "res4"
   ]
  },
  {
   "cell_type": "code",
   "execution_count": 344,
   "metadata": {},
   "outputs": [],
   "source": [
    "def getroots(expr, zad):\n",
    "    tyt1 = sm.Eq(expr.rhs.subs(x, zad['a']), zad['UA'])\n",
    "    tyt2 = sm.Eq(expr.rhs.subs(x, zad['b']), zad['UB'])\n",
    "    sol = sm.solve((tyt1, tyt2), (C1, C2))\n",
    "    return sol\n",
    "\n",
    "def getresult(zad):\n",
    "    rer = sm.Eq(Derivative(zad0['K']*ux1, x), - zad0['f'])\n",
    "    \n",
    "    res = sm.integrate(rer, x)\n",
    "    res = sm.Eq(res.lhs, res.rhs + C1)\n",
    "    \n",
    "    res2 = sm.Eq(ux1, sm.solve(res, ux1)[0])\n",
    "    \n",
    "    res3 = sm.integrate(res2, x)\n",
    "    res3 = sm.Eq(res3.lhs, res3.rhs + C2)\n",
    "    \n",
    "    res4 = res3.subs(c, zad['c'])\n",
    "    \n",
    "    sol = getroots(res3, zad)\n",
    "    equation = res4.subs({C1:sol[C1], C2:sol[C2]})\n",
    "    return [equation, sol]\n",
    "    \n",
    "def func1(zad):\n",
    "    results = [getresult(expr(zad0)) for expr in express]\n",
    "    display(results)"
   ]
  },
  {
   "cell_type": "code",
   "execution_count": 345,
   "metadata": {},
   "outputs": [],
   "source": [
    "#%timeit -n 3 -r 3 print(tyt1)\n",
    "#display(tyt1)\n",
    "#display(tyt2)"
   ]
  },
  {
   "cell_type": "code",
   "execution_count": 372,
   "metadata": {},
   "outputs": [
    {
     "data": {
      "text/latex": [
       "$\\displaystyle u{\\left(x \\right)} = - \\frac{3 x^{\\frac{4}{3}}}{4} + 2.0953158917601 \\log{\\left(x \\right)} + 2.75$"
      ],
      "text/plain": [
       "            4/3                                \n",
       "         3⋅x                                   \n",
       "u(x) = - ────── + 2.0953158917601⋅log(x) + 2.75\n",
       "           4                                   "
      ]
     },
     "execution_count": 372,
     "metadata": {},
     "output_type": "execute_result"
    }
   ],
   "source": [
    "res5 = res4.subs({C1:sol[C1], C2:sol[C2]})\n",
    "res5"
   ]
  },
  {
   "cell_type": "code",
   "execution_count": 396,
   "metadata": {},
   "outputs": [
    {
     "data": {
      "image/png": "[encoded data removed]",
      "text/plain": [
       "<Figure size 432x288 with 1 Axes>"
      ]
     },
     "metadata": {
      "needs_background": "light"
     },
     "output_type": "display_data"
    }
   ],
   "source": [
    "args = [(res5.rhs, (x, 0, 5))]\n",
    "plot = sm.plot(*args, show=False, Legend=True)\n",
    "plot.show()"
   ]
  },
  {
   "cell_type": "code",
   "execution_count": null,
   "metadata": {},
   "outputs": [],
   "source": []
  }
 ],
 "metadata": {
  "kernelspec": {
   "display_name": "Python 3",
   "language": "python",
   "name": "python3"
  },
  "language_info": {
   "codemirror_mode": {
    "name": "ipython",
    "version": 3
   },
   "file_extension": ".py",
   "mimetype": "text/x-python",
   "name": "python",
   "nbconvert_exporter": "python",
   "pygments_lexer": "ipython3",
   "version": "3.7.4"
  }
 },
 "nbformat": 4,
 "nbformat_minor": 2
}
