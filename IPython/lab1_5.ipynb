{
 "cells": [
  {
   "cell_type": "markdown",
   "metadata": {
    "hide_input": false,
    "slideshow": {
     "slide_type": "slide"
    }
   },
   "source": [
    "# lab1_4"
   ]
  },
  {
   "cell_type": "code",
   "execution_count": 2,
   "metadata": {
    "hide_input": false,
    "slideshow": {
     "slide_type": "fragment"
    }
   },
   "outputs": [],
   "source": [
    "import math\n",
    "import numpy as np\n",
    "import sympy as sm\n",
    "from sympy import Derivative, diff\n",
    "from itertools import groupby\n",
    "import matplotlib.pyplot as plt\n",
    "from tabulate import tabulate\n",
    "from pprint import pprint\n",
    "\n",
    "from IPython.display import display, Latex, clear_output"
   ]
  },
  {
   "cell_type": "code",
   "execution_count": 3,
   "metadata": {
    "slideshow": {
     "slide_type": "fragment"
    }
   },
   "outputs": [],
   "source": [
    "sm.init_printing(use_latex='mathjax')\n",
    "x, y = sm.symbols('x, y', real=True)\n",
    "C1, C2 = sm.symbols(\"C1, C2\", real=True)\n",
    "u = sm.Function('u')\n",
    "k = sm.Function('k')\n",
    "q = sm.Function('q')\n",
    "ux = u(x)\n",
    "ux1 = Derivative(u(x), x)\n",
    "ux2 = Derivative(u(x), (x, 2))\n",
    "\n",
    "h, uup1, uum1, uu0 = sm.symbols('h, u_i+1, u_i-1, u_i', Function=True)\n",
    "uux1 = (uup1 - uum1)/(2*h)\n",
    "uux2 = (uup1 - 2*uu0 + uum1)/(h**2)"
   ]
  },
  {
   "cell_type": "code",
   "execution_count": 4,
   "metadata": {
    "code_folding": [],
    "hide_input": true,
    "slideshow": {
     "slide_type": "fragment"
    }
   },
   "outputs": [],
   "source": [
    "zad1 = {\n",
    "    'a': 0,  'b': 2.3, 'c': 1.725,\n",
    "    'k1': 0.5, 'q1': 3.5,\n",
    "    'k2': 1.2, 'q2': 8.2,\n",
    "    'f': 10*x*(2.5-x)\n",
    "}"
   ]
  },
  {
   "cell_type": "markdown",
   "metadata": {
    "slideshow": {
     "slide_type": "slide"
    }
   },
   "source": [
    "## тестовый пример"
   ]
  },
  {
   "cell_type": "code",
   "execution_count": 5,
   "metadata": {
    "hide_input": true,
    "scrolled": true,
    "slideshow": {
     "slide_type": "fragment"
    }
   },
   "outputs": [
    {
     "data": {
      "text/latex": [
       "$\\displaystyle 3.5 u{\\left(x \\right)} + 0.5 \\frac{d^{2}}{d x^{2}} u{\\left(x \\right)} = 10 x \\left(2.5 - x\\right)$"
      ],
      "text/plain": [
       "                 2                       \n",
       "                d                        \n",
       "3.5⋅u(x) + 0.5⋅───(u(x)) = 10⋅x⋅(2.5 - x)\n",
       "                 2                       \n",
       "               dx                        "
      ]
     },
     "execution_count": 5,
     "metadata": {},
     "output_type": "execute_result"
    }
   ],
   "source": [
    "mainEq = sm.Eq(diff(zad1['k1']*ux1, x) + zad1['q1']*ux,  zad1['f'])\n",
    "mainEq"
   ]
  },
  {
   "cell_type": "markdown",
   "metadata": {
    "slideshow": {
     "slide_type": "subslide"
    }
   },
   "source": [
    "### апроксимированное уравнение"
   ]
  },
  {
   "cell_type": "code",
   "execution_count": 12,
   "metadata": {
    "code_folding": [],
    "hide_input": false,
    "scrolled": true,
    "slideshow": {
     "slide_type": "fragment"
    }
   },
   "outputs": [
    {
     "data": {
      "text/latex": [
       "$\\displaystyle u_{i} q{\\left(x \\right)} + \\frac{\\left(- 2 u_{i} + u_{i+1} + u_{i-1}\\right) k{\\left(x \\right)}}{h^{2}} = 10 x \\left(2.5 - x\\right)$"
      ],
      "text/plain": [
       "          (-2⋅uᵢ + uᵢ₊₁ + uᵢ₋₁)⋅k(x)                 \n",
       "uᵢ⋅q(x) + ────────────────────────── = 10⋅x⋅(2.5 - x)\n",
       "                       2                             \n",
       "                      h                              "
      ]
     },
     "metadata": {},
     "output_type": "display_data"
    }
   ],
   "source": [
    "#apro = mainEq.subs({ux: uu0, ux2: uux2, ux1: uux1 })\n",
    "apro = sm.Eq(k(x)*uux2 + q(x)*uu0,  zad1['f'])\n",
    "display(apro)"
   ]
  },
  {
   "cell_type": "markdown",
   "metadata": {
    "slideshow": {
     "slide_type": "subslide"
    }
   },
   "source": [
    "### вычисление шага, переменных и массива абсцисс"
   ]
  },
  {
   "cell_type": "code",
   "execution_count": 24,
   "metadata": {
    "slideshow": {
     "slide_type": "fragment"
    }
   },
   "outputs": [
    {
     "data": {
      "text/latex": [
       "$\\displaystyle 0.25555555555555554$"
      ],
      "text/plain": [
       "0.25555555555555554"
      ]
     },
     "metadata": {},
     "output_type": "display_data"
    },
    {
     "data": {
      "text/latex": [
       "$\\displaystyle \\left( u_{0}, \\  u_{1}, \\  u_{2}, \\  u_{3}, \\  u_{4}, \\  u_{5}, \\  u_{6}, \\  u_{7}, \\  u_{8}, \\  u_{9}\\right)$"
      ],
      "text/plain": [
       "(u₀, u₁, u₂, u₃, u₄, u₅, u₆, u₇, u₈, u₉)"
      ]
     },
     "metadata": {},
     "output_type": "display_data"
    },
    {
     "data": {
      "text/latex": [
       "$\\displaystyle \\left[ 0.0, \\  0.25555555555555554, \\  0.5111111111111111, \\  0.7666666666666666, \\  1.0222222222222221, \\  1.2777777777777777, \\  1.5333333333333332, \\  1.7888888888888888, \\  2.0444444444444443, \\  2.3\\right]$"
      ],
      "text/plain": [
       "[0.0, 0.25555555555555554, 0.5111111111111111, 0.7666666666666666, 1.022222222\n",
       "2222221, 1.2777777777777777, 1.5333333333333332, 1.7888888888888888, 2.0444444\n",
       "444444443, 2.3]"
      ]
     },
     "metadata": {},
     "output_type": "display_data"
    }
   ],
   "source": [
    "count, n = 10, 10\n",
    "n -= 1\n",
    "\n",
    "hh = (zad1['b'] - zad1['a']) / n\n",
    "us = sm.symbols(' '.join([f\"u{i}\" for i in range(count)]))\n",
    "list_x = [zad1['a'] + hh*i for i in range(count)]\n",
    "display(hh)\n",
    "display(us)\n",
    "display(list_x)"
   ]
  },
  {
   "cell_type": "markdown",
   "metadata": {
    "slideshow": {
     "slide_type": "subslide"
    }
   },
   "source": [
    "### система"
   ]
  },
  {
   "cell_type": "code",
   "execution_count": 25,
   "metadata": {
    "scrolled": false,
    "slideshow": {
     "slide_type": "fragment"
    }
   },
   "outputs": [
    {
     "data": {
      "text/latex": [
       "$\\displaystyle 2.46 u_{0} - 1.96 u_{1} = 0$"
      ],
      "text/plain": [
       "2.46⋅u₀ - 1.96⋅u₁ = 0"
      ]
     },
     "metadata": {},
     "output_type": "display_data"
    },
    {
     "data": {
      "text/latex": [
       "$\\displaystyle 7.66 u_{0} - 11.8 u_{1} + 7.66 u_{2} = 5.74$"
      ],
      "text/plain": [
       "7.66⋅u₀ - 11.8⋅u₁ + 7.66⋅u₂ = 5.74"
      ]
     },
     "metadata": {},
     "output_type": "display_data"
    },
    {
     "data": {
      "text/latex": [
       "$\\displaystyle 7.66 u_{1} - 11.8 u_{2} + 7.66 u_{3} = 10.2$"
      ],
      "text/plain": [
       "7.66⋅u₁ - 11.8⋅u₂ + 7.66⋅u₃ = 10.2"
      ]
     },
     "metadata": {},
     "output_type": "display_data"
    },
    {
     "data": {
      "text/latex": [
       "$\\displaystyle 7.66 u_{2} - 11.8 u_{3} + 7.66 u_{4} = 13.3$"
      ],
      "text/plain": [
       "7.66⋅u₂ - 11.8⋅u₃ + 7.66⋅u₄ = 13.3"
      ]
     },
     "metadata": {},
     "output_type": "display_data"
    },
    {
     "data": {
      "text/latex": [
       "$\\displaystyle 7.66 u_{3} - 11.8 u_{4} + 7.66 u_{5} = 15.1$"
      ],
      "text/plain": [
       "7.66⋅u₃ - 11.8⋅u₄ + 7.66⋅u₅ = 15.1"
      ]
     },
     "metadata": {},
     "output_type": "display_data"
    },
    {
     "data": {
      "text/latex": [
       "$\\displaystyle 7.66 u_{4} - 11.8 u_{5} + 7.66 u_{6} = 15.6$"
      ],
      "text/plain": [
       "7.66⋅u₄ - 11.8⋅u₅ + 7.66⋅u₆ = 15.6"
      ]
     },
     "metadata": {},
     "output_type": "display_data"
    },
    {
     "data": {
      "text/latex": [
       "$\\displaystyle 7.66 u_{5} - 11.8 u_{6} + 7.66 u_{7} = 14.8$"
      ],
      "text/plain": [
       "7.66⋅u₅ - 11.8⋅u₆ + 7.66⋅u₇ = 14.8"
      ]
     },
     "metadata": {},
     "output_type": "display_data"
    },
    {
     "data": {
      "text/latex": [
       "$\\displaystyle 18.4 u_{6} - 28.5 u_{7} + 18.4 u_{8} = 12.7$"
      ],
      "text/plain": [
       "18.4⋅u₆ - 28.5⋅u₇ + 18.4⋅u₈ = 12.7"
      ]
     },
     "metadata": {},
     "output_type": "display_data"
    },
    {
     "data": {
      "text/latex": [
       "$\\displaystyle 18.4 u_{7} - 28.5 u_{8} + 18.4 u_{9} = 9.31$"
      ],
      "text/plain": [
       "18.4⋅u₇ - 28.5⋅u₈ + 18.4⋅u₉ = 9.31"
      ]
     },
     "metadata": {},
     "output_type": "display_data"
    },
    {
     "data": {
      "text/latex": [
       "$\\displaystyle 4.7 u_{8} - 4.2 u_{9} = 0$"
      ],
      "text/plain": [
       "4.7⋅u₈ - 4.2⋅u₉ = 0"
      ]
     },
     "metadata": {},
     "output_type": "display_data"
    }
   ],
   "source": [
    "tyts = []\n",
    "def_k = lambda x: (zad1['k1'] if x <= zad1['c'] else zad1['k2'])\n",
    "def_q = lambda x: (zad1['q1'] if x <= zad1['c'] else zad1['q2'])\n",
    "#tyts.append(sm.Eq((-us[2]+4*us[1]-3*us[0])/(2*hh), zad1['UA']))\n",
    "tyts.append(sm.Eq(-zad1['k1']*(us[1]-us[0])/(hh) + 0.5*us[0], 0))\n",
    "tyts.extend([apro.subs({x: list_x[i], k(x): def_k(list_x[i]), q(x): def_q(list_x[i]), \n",
    "                        h: hh, uum1: us[i-1], uu0: us[i], uup1: us[i+1]})  for i in range(1,n)])\n",
    "tyts.append(sm.Eq(zad1['k2']*(us[count-2]-us[count-1])/(hh) + 0.5*us[count-1], 0))\n",
    "display(*map(lambda e: e.n(3), tyts))"
   ]
  },
  {
   "cell_type": "code",
   "execution_count": 26,
   "metadata": {
    "code_folding": [],
    "hide_input": false,
    "scrolled": true
   },
   "outputs": [
    {
     "name": "stdout",
     "output_type": "stream",
     "text": [
      "----  ------  ------  ------  ------  ------  ------  ------  -----  ----\n",
      "2.46   -1.96    0.0     0.0     0.0     0.0     0.0     0.0     0.0   0.0\n",
      "7.66  -11.8     7.66    0.0     0.0     0.0     0.0     0.0     0.0   0.0\n",
      "0.0     7.66  -11.8     7.66    0.0     0.0     0.0     0.0     0.0   0.0\n",
      "0.0     0.0     7.66  -11.8     7.66    0.0     0.0     0.0     0.0   0.0\n",
      "0.0     0.0     0.0     7.66  -11.8     7.66    0.0     0.0     0.0   0.0\n",
      "0.0     0.0     0.0     0.0     7.66  -11.8     7.66    0.0     0.0   0.0\n",
      "0.0     0.0     0.0     0.0     0.0     7.66  -11.8     7.66    0.0   0.0\n",
      "0.0     0.0     0.0     0.0     0.0     0.0    18.4   -28.5    18.4   0.0\n",
      "0.0     0.0     0.0     0.0     0.0     0.0     0.0    18.4   -28.5  18.4\n",
      "0.0     0.0     0.0     0.0     0.0     0.0     0.0     0.0     4.7  -4.2\n",
      "----  ------  ------  ------  ------  ------  ------  ------  -----  ----\n",
      "[0.0, 5.735802469135802, 10.165432098765432, 13.288888888888888, 15.106172839506172, 15.617283950617283, 14.822222222222223, 12.720987654320988, 9.313580246913583, 0.0]\n"
     ]
    }
   ],
   "source": [
    "def maper(expr):\n",
    "    if (expr.func == sm.Mul or expr.func == sm.Symbol):\n",
    "        return [expr]\n",
    "    return list(expr.args)\n",
    "\n",
    "def maper2(expr):\n",
    "    if(isinstance(expr, int) or isinstance(expr, float)):\n",
    "        return float(expr)\n",
    "    if (expr.func == sm.Symbol):\n",
    "        return 1.0\n",
    "    elif (expr == 0):\n",
    "        return 0.0\n",
    "    return float(expr.args[0])\n",
    "\n",
    "def maper3(express):\n",
    "    for e in express:\n",
    "        e.sort(key=comparator)\n",
    "    for e in express:\n",
    "        if (len(e) != n+1):\n",
    "            for i, v in enumerate(e):\n",
    "                if comparator(v) != i:\n",
    "                    e.insert(i, 0)\n",
    "            if (len(e) != n+1):\n",
    "                e.extend([0]*(n+1-len(e)))\n",
    "\n",
    "def comparator(expr):\n",
    "    if (expr.args == () ):\n",
    "        text = str(expr)\n",
    "    else:\n",
    "        text = str(expr.args[1])\n",
    "    return int(text[1:])\n",
    "\n",
    "express = list(map(lambda t: maper(t.lhs), tyts))\n",
    "maper3(express)\n",
    "\n",
    "\n",
    "#print(express)        \n",
    "\n",
    "expr_values = list(map(lambda t: list(map(lambda t2: maper2(t2), t)), express))\n",
    "f_values = list(map(lambda t: float(t.rhs), tyts))\n",
    "print(tabulate(expr_values, floatfmt=\".3\"))\n",
    "print(f_values)"
   ]
  },
  {
   "cell_type": "raw",
   "metadata": {
    "hide_input": false
   },
   "source": [
    "ptable = np.eye(count)\n",
    "ptable[0,0:2] = expr_values[0][1:3]\n",
    "\n",
    "for i, e in enumerate(expr_values[:-2], 1):\n",
    "    ptable[i,i-1:i+2] = expr_values[i]\n",
    "ptable[count-1,count-2:count] = expr_values[count-1][1:]\n",
    "print(tabulate(ptable))"
   ]
  },
  {
   "cell_type": "code",
   "execution_count": 27,
   "metadata": {
    "code_folding": []
   },
   "outputs": [
    {
     "name": "stdout",
     "output_type": "stream",
     "text": [
      "|    |      a |       b |      c |\n",
      "|----|--------|---------|--------|\n",
      "|  0 |  0.000 |   2.457 | -1.957 |\n",
      "|  1 |  7.656 | -11.812 |  7.656 |\n",
      "|  2 |  7.656 | -11.812 |  7.656 |\n",
      "|  3 |  7.656 | -11.812 |  7.656 |\n",
      "|  4 |  7.656 | -11.812 |  7.656 |\n",
      "|  5 |  7.656 | -11.812 |  7.656 |\n",
      "|  6 |  7.656 | -11.812 |  7.656 |\n",
      "|  7 | 18.374 | -28.549 | 18.374 |\n",
      "|  8 | 18.374 | -28.549 | 18.374 |\n",
      "|  9 |  4.696 |  -4.196 |  0.000 |\n",
      "\n",
      "| U   |       TDMA |      SymPy |\n",
      "|-----|------------|------------|\n",
      "| u0  |    6.88406 |    6.88406 |\n",
      "| u1  |    8.64333 |    8.64333 |\n",
      "| u2  |    7.20039 |    7.20039 |\n",
      "| u3  |    3.79351 |    3.79351 |\n",
      "| u4  |    0.38814 |    0.38814 |\n",
      "| u5  |   -1.22155 |   -1.22155 |\n",
      "| u6  |   -0.23290 |   -0.23290 |\n",
      "| u7  |    2.79826 |    2.79826 |\n",
      "| u8  |    5.27294 |    5.27294 |\n",
      "| u9  |    5.90133 |    5.90133 |\n"
     ]
    }
   ],
   "source": [
    "def TDMA(a,b,c,f):\n",
    "    a, b, c, f = map(lambda k_list: list(map(float, k_list)), (a, b, c, f))\n",
    "    a[0] = 0\n",
    "    n = len(f)\n",
    "    c[n-1] = 0\n",
    "    alpha = [0]*n\n",
    "    beta = [0]*n\n",
    "    x = [0]*n\n",
    "    u = [0]*n\n",
    "    \n",
    "    x[0] = b[0]\n",
    "    alpha[0] = -c[0]/x[0]\n",
    "    beta[0] = f[0]/x[0]\n",
    "    \n",
    "    for i in range(1,n-1):\n",
    "        x[i] = b[i] + a[i]*alpha[i-1]\n",
    "        alpha[i] = -c[i]/x[i]\n",
    "        beta[i] = (f[i] - a[i]*beta[i-1])/x[i]\n",
    "    \n",
    "    x[n-1] = b[n-1] + a[n-1]*alpha[n-2]\n",
    "    beta[n-1] = (f[n-1] - a[n-1]*beta[n-2])/x[n-1]\n",
    "    \n",
    "    u[n-1] = beta[n-1]\n",
    "    for i in range(n-2,-1,-1):\n",
    "        u[i] = alpha[i]*u[i+1] + beta[i]\n",
    "    \n",
    "\n",
    "    return u\n",
    "\n",
    "a = [0] + [expr_values[i+1][i] for i in range(n+1-1)]\n",
    "b = [expr_values[i][i] for i in range(n+1)]\n",
    "c = [expr_values[i][i+1] for i in range(n+1-1)] + [0]\n",
    "\n",
    "print(tabulate({'a':a, 'b':b, 'c':c}, headers='keys', showindex=\"always\", tablefmt=\"github\" , floatfmt=\".3f\"))\n",
    "#print(tabulate([a, b, c], headers=['a', 'b', 'c'], showindex=\"always\"))\n",
    "xxx = TDMA(*[a,b,c], f_values)\n",
    "#display(*xxx)\n",
    "result = sm.solve(tyts, us)\n",
    "print()\n",
    "print(tabulate({'U':result.keys(), 'TDMA':xxx, 'SymPy':result.values()}, headers='keys', tablefmt=\"github\" , floatfmt=\"10.5f\"))"
   ]
  },
  {
   "cell_type": "markdown",
   "metadata": {
    "slideshow": {
     "slide_type": "-"
    }
   },
   "source": [
    "вычисление системы"
   ]
  },
  {
   "cell_type": "markdown",
   "metadata": {
    "slideshow": {
     "slide_type": "slide"
    }
   },
   "source": [
    "## основная задача"
   ]
  },
  {
   "cell_type": "code",
   "execution_count": 28,
   "metadata": {
    "code_folding": [],
    "slideshow": {
     "slide_type": "fragment"
    }
   },
   "outputs": [],
   "source": [
    "def solve1(zad, n):\n",
    "    count = n\n",
    "    n -= 1\n",
    "    ## апроксимированное уравнение\n",
    "    apro = sm.Eq(k(x)*uux2 + q(x)*uu0,  zad['f'])\n",
    "    ## определяем шаг\n",
    "    hh = (zad['b'] - zad['a']) / n\n",
    "    ## переменные u1-u*\n",
    "    us = sm.symbols(' '.join([f\"u{i}\" for i in range(n+1)]))\n",
    "    ## массив обсцисс\n",
    "    list_x = [zad['a'] + hh*i for i in range(n+1)]\n",
    "    \n",
    "    ## система из n+1 уравнений\n",
    "    tyts = []\n",
    "    def_k = lambda x: (zad['k1'] if x <= zad['c'] else zad['k2'])\n",
    "    def_q = lambda x: (zad['q1'] if x <= zad['c'] else zad['q2'])\n",
    "    tyts.append(sm.Eq(-zad['k1']*(us[1]-us[0])/(hh) + 0.5*us[0], 0))\n",
    "    tyts.extend([apro.subs({x: list_x[i], k(x): def_k(list_x[i]), q(x): def_q(list_x[i]), \n",
    "                            h: hh, uum1: us[i-1], uu0: us[i], uup1: us[i+1]})  for i in range(1,n)])\n",
    "    tyts.append(sm.Eq(zad1['k1']*(us[count-2]-us[count-1])/(hh) + 0.5*us[count-1], 0))\n",
    "    \n",
    "    express = list(map(lambda t: maper(t.lhs), tyts))\n",
    "    maper3(express)\n",
    "    expr_values = list(map(lambda t: list(map(lambda t2: maper2(t2), t)), express))\n",
    "    f_values = list(map(lambda t: float(t.rhs), tyts))\n",
    "    \n",
    "    a = [0] + [expr_values[i+1][i] for i in range(count-1)]\n",
    "    b = [expr_values[i][i] for i in range(count)]\n",
    "    c = [expr_values[i][i+1] for i in range(count-1)] + [0]\n",
    "    xxx = TDMA(*[a,b,c], f_values)\n",
    "    \n",
    "    #result = sm.solve(tyts, us)\n",
    "    return list_x, xxx #, list(result.values())"
   ]
  },
  {
   "cell_type": "markdown",
   "metadata": {
    "slideshow": {
     "slide_type": "subslide"
    }
   },
   "source": [
    "### find accuracy"
   ]
  },
  {
   "cell_type": "code",
   "execution_count": 29,
   "metadata": {
    "code_folding": [],
    "hide_input": false,
    "scrolled": false,
    "slideshow": {
     "slide_type": "fragment"
    }
   },
   "outputs": [
    {
     "name": "stdout",
     "output_type": "stream",
     "text": [
      "шаг 0.007187\n"
     ]
    },
    {
     "data": {
      "image/png": "[encoded data removed]",
      "text/plain": [
       "<Figure size 432x288 with 1 Axes>"
      ]
     },
     "metadata": {
      "needs_background": "light"
     },
     "output_type": "display_data"
    },
    {
     "name": "stdout",
     "output_type": "stream",
     "text": [
      "qwerty: q\n"
     ]
    }
   ],
   "source": [
    "#E = zad1['E']\n",
    "#E_cur = 0\n",
    "n = 5\n",
    "result = solve1(zad1, n)\n",
    "n *= 2\n",
    "while(True):\n",
    "    hh = (zad1['b'] - zad1['a']) / n\n",
    "    plt.plot(*result, label=f\"old result n={int(n/2)}\")\n",
    "    result = solve1(zad1, n)\n",
    "    plt.plot(*result, label=f\"new result n={n}\" )\n",
    "    plt.legend(loc='upper left')\n",
    "    print(\"шаг %f\" % hh)\n",
    "    plt.show()   \n",
    "    #display(*solve1(zad1, n))\n",
    "    if(input(\"qwerty: \") == 'q'):\n",
    "        break\n",
    "    n *= 2\n",
    "    clear_output()"
   ]
  },
  {
   "cell_type": "code",
   "execution_count": null,
   "metadata": {},
   "outputs": [],
   "source": []
  }
 ],
 "metadata": {
  "celltoolbar": "Slideshow",
  "hide_input": false,
  "kernelspec": {
   "display_name": "Python 3",
   "language": "python",
   "name": "python3"
  },
  "language_info": {
   "codemirror_mode": {
    "name": "ipython",
    "version": 3
   },
   "file_extension": ".py",
   "mimetype": "text/x-python",
   "name": "python",
   "nbconvert_exporter": "python",
   "pygments_lexer": "ipython3",
   "version": "3.7.4"
  },
  "toc": {
   "base_numbering": 1,
   "nav_menu": {},
   "number_sections": true,
   "sideBar": true,
   "skip_h1_title": false,
   "title_cell": "Table of Contents",
   "title_sidebar": "Contents",
   "toc_cell": false,
   "toc_position": {
    "height": "calc(100% - 180px)",
    "left": "10px",
    "top": "150px",
    "width": "368px"
   },
   "toc_section_display": true,
   "toc_window_display": false
  },
  "varInspector": {
   "cols": {
    "lenName": 16,
    "lenType": 16,
    "lenVar": 40
   },
   "kernels_config": {
    "python": {
     "delete_cmd_postfix": "",
     "delete_cmd_prefix": "del ",
     "library": "var_list.py",
     "varRefreshCmd": "print(var_dic_list())"
    },
    "r": {
     "delete_cmd_postfix": ") ",
     "delete_cmd_prefix": "rm(",
     "library": "var_list.r",
     "varRefreshCmd": "cat(var_dic_list()) "
    }
   },
   "position": {
    "height": "419px",
    "left": "1473px",
    "right": "20px",
    "top": "141px",
    "width": "350px"
   },
   "types_to_exclude": [
    "module",
    "function",
    "builtin_function_or_method",
    "instance",
    "_Feature"
   ],
   "window_display": false
  }
 },
 "nbformat": 4,
 "nbformat_minor": 2
}
