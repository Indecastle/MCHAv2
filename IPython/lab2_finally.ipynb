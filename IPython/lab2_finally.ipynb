{
 "cells": [
  {
   "cell_type": "code",
   "execution_count": 10,
   "metadata": {},
   "outputs": [],
   "source": [
    "import math\n",
    "import numpy as np\n",
    "import sympy as sm\n",
    "from sympy import Derivative, diff\n",
    "import itertools\n",
    "from itertools import groupby\n",
    "import matplotlib.pyplot as plt\n",
    "from tabulate import tabulate\n",
    "from pprint import pprint\n",
    "\n",
    "from IPython.display import display, Latex, clear_output"
   ]
  },
  {
   "cell_type": "code",
   "execution_count": 2,
   "metadata": {},
   "outputs": [
    {
     "data": {
      "text/latex": [
       "$\\displaystyle \\left( u_{i+1}, \\  u_{i-1}, \\  u_{i}\\right)$"
      ],
      "text/plain": [
       "(uᵢ₊₁, uᵢ₋₁, uᵢ)"
      ]
     },
     "execution_count": 2,
     "metadata": {},
     "output_type": "execute_result"
    }
   ],
   "source": [
    "sm.init_printing(use_latex='mathjax')\n",
    "x, y, t = sm.symbols('x, y, t', real=True)\n",
    "C1, C2 = sm.symbols(\"C1, C2\", real=True)\n",
    "c = sm.symbols(\"c\")\n",
    "u = sm.Function('u')\n",
    "ux = u(x)\n",
    "ux1 = Derivative(u(x), x)\n",
    "ux2 = Derivative(u(x), (x, 2))\n",
    "\n",
    "h, uup1, uum1, uu0 = sm.symbols('h, u_i+1, u_i-1, u_i')\n",
    "\n",
    "uup1, uum1, uu0"
   ]
  },
  {
   "cell_type": "code",
   "execution_count": 3,
   "metadata": {},
   "outputs": [],
   "source": [
    "zad1 = {\n",
    "    'a': 0, 'b': 2,\n",
    "    'k': 0.5, 'T': 0.4,\n",
    "    'fx': sm.lambdify(x, 1), 'fxt': 2, 'lambda_fxt': sm.lambdify([x, t], 2),\n",
    "    'g1t': sm.lambdify(t, sm.exp(-t)), 'g2t': sm.lambdify(t, sm.exp(-5*t))\n",
    "    \n",
    "}"
   ]
  },
  {
   "cell_type": "code",
   "execution_count": 14,
   "metadata": {},
   "outputs": [],
   "source": [
    "n = 9\n",
    "m = 10\n",
    "#hh = (zad1['b'] - zad1['a']) / (n-1)\n",
    "#tt = zad1['T'] / (m-1)\n",
    "#bb = zad1['k'] * tt / hh**2\n",
    "#uut1 = (uu0 - y)/(t)\n",
    "#uux2 = (uup1 - 2*uu0 + uum1)/(h**2)\n",
    "#apro = sm.Eq(uut1, zad1['k']*uux2 + zad1['fxt'])\n",
    "\n",
    "#us = sm.symbols(' '.join([f\"u{i}\" for i in range(n)]))\n",
    "#list_x = [zad1['a'] + hh*i for i in range(n)]\n",
    "#list_tt = [tt*i for i in range(m)]\n",
    "#list_g1t = [zad1['g1t'](list_tt[i]) for i in range(m)]\n",
    "#list_g2t = [zad1['g2t'](list_tt[i]) for i in range(m)]\n",
    "\n",
    "#print(hh, tt)\n",
    "#display(uut1, uux2)\n",
    "#display(apro)\n",
    "#print(us)\n",
    "#print(\"list_x:\", *list_x)\n",
    "#print(\"list_tt:\", *list_tt)\n",
    "#print(\"list_g1t:\", *list_g1t)\n",
    "#print(\"list_g2t:\", *list_g2t)"
   ]
  },
  {
   "cell_type": "code",
   "execution_count": 12,
   "metadata": {},
   "outputs": [],
   "source": [
    "def get_tables(m, n):\n",
    "    hh = (zad1['b'] - zad1['a']) / (n-1)\n",
    "    tt = zad1['T'] / (m-1)\n",
    "    bb = zad1['k'] * tt / hh**2\n",
    "    uut1 = (uu0 - y)/(t)\n",
    "    uux2 = (uup1 - 2*uu0 + uum1)/(h**2)\n",
    "    apro = sm.Eq(uut1, zad1['k']*uux2 + zad1['fxt'])\n",
    "\n",
    "    us = sm.symbols(' '.join([f\"u{i}\" for i in range(n)]))\n",
    "    list_x = [zad1['a'] + hh*i for i in range(n)]\n",
    "    list_tt = [tt*i for i in range(m)]\n",
    "    list_g1t = [zad1['g1t'](list_tt[i]) for i in range(m)]\n",
    "    list_g2t = [zad1['g2t'](list_tt[i]) for i in range(m)]\n",
    "    \n",
    "    table = np.zeros((m,n))\n",
    "    for i in range(m):\n",
    "        table[i][0] = list_g1t[i]\n",
    "        table[i][n-1] = list_g2t[i]\n",
    "    for i in range(1, n-1):\n",
    "        table[0][i] = zad1['fx'](list_x[i])\n",
    "\n",
    "    table1 = np.copy(table)\n",
    "    table2 = np.copy(table)\n",
    "\n",
    "    for i in range(1, m):\n",
    "        for j in range(1, n-1):\n",
    "            table1[i][j] = bb*(table1[i-1][j-1] + table1[i-1][j+1] - 2*table1[i-1][j]) + table1[i-1][j] + tt*zad1['lambda_fxt'](list_x[j], list_tt[i])\n",
    "    for i in range(1, m):\n",
    "        tyts = [apro.subs({x: list_x[j], y: table2[i-1][j], h: hh, t: tt, uum1: us[j-1], uu0: us[j], uup1: us[j+1]})  for j in range(1,n-1)]\n",
    "        tyts.append(sm.Eq(us[0], table2[i][0]))\n",
    "        tyts.append(sm.Eq(us[n-1], table2[i][n-1]))\n",
    "        #display(*tyts)\n",
    "        result = list(sm.solve(tyts, us).values())\n",
    "        #print()\n",
    "        #display(*result)\n",
    "        #break\n",
    "        for j in range(1, n-1):\n",
    "            table2[i][j] = result[j]\n",
    "    return table1, table2, {'hh': hh, 'tt': tt, 'list_x': list_x, 'list_tt': list_tt}"
   ]
  },
  {
   "cell_type": "code",
   "execution_count": 15,
   "metadata": {},
   "outputs": [
    {
     "name": "stdout",
     "output_type": "stream",
     "text": [
      "------  -----  -----  -----  -----  -----  -----  ------  ------\n",
      "1.0     1.0    1.0    1.0    1.0    1.0    1.0    1.0     1.0\n",
      "0.9565  1.089  1.089  1.089  1.089  1.089  1.089  1.089   0.8007\n",
      "0.9149  1.131  1.178  1.178  1.178  1.178  1.178  1.075   0.6412\n",
      "0.8752  1.16   1.25   1.267  1.267  1.267  1.23   1.046   0.5134\n",
      "0.8371  1.179  1.313  1.35   1.356  1.343  1.267  1.011   0.4111\n",
      "0.8007  1.194  1.367  1.427  1.438  1.409  1.292  0.9775  0.3292\n",
      "0.7659  1.205  1.416  1.499  1.513  1.466  1.311  0.9476  0.2636\n",
      "0.7326  1.213  1.459  1.563  1.58   1.516  1.326  0.9224  0.2111\n",
      "0.7008  1.219  1.497  1.621  1.64   1.56   1.339  0.9018  0.169\n",
      "0.6703  1.222  1.531  1.673  1.694  1.599  1.351  0.8856  0.1353\n",
      "------  -----  -----  -----  -----  -----  -----  ------  ------\n",
      "------  -----  -----  -----  -----  -----  -----  ------  ------\n",
      "1.0     1.0    1.0    1.0    1.0    1.0    1.0    1.0     1.0\n",
      "0.9565  1.06   1.083  1.087  1.088  1.086  1.075  1.026   0.8007\n",
      "0.9149  1.102  1.157  1.172  1.174  1.166  1.135  1.021   0.6412\n",
      "0.8752  1.132  1.224  1.252  1.256  1.24   1.181  1.0     0.5134\n",
      "0.8371  1.154  1.283  1.327  1.333  1.306  1.216  0.9747  0.4111\n",
      "0.8007  1.17   1.335  1.397  1.405  1.365  1.243  0.9483  0.3292\n",
      "0.7659  1.182  1.381  1.461  1.471  1.419  1.265  0.9239  0.2636\n",
      "0.7326  1.19   1.422  1.52   1.532  1.466  1.284  0.9024  0.2111\n",
      "0.7008  1.196  1.459  1.573  1.588  1.509  1.299  0.8845  0.169\n",
      "0.6703  1.2    1.491  1.621  1.638  1.547  1.314  0.8699  0.1353\n",
      "------  -----  -----  -----  -----  -----  -----  ------  ------\n"
     ]
    }
   ],
   "source": [
    "table1, table2, args = get_tables(m, n)\n",
    "print(tabulate(table1, floatfmt=\".4\"))\n",
    "print(tabulate(table2, floatfmt=\".4\"))"
   ]
  },
  {
   "cell_type": "code",
   "execution_count": 16,
   "metadata": {
    "scrolled": false
   },
   "outputs": [
    {
     "name": "stdout",
     "output_type": "stream",
     "text": [
      "---  -------  -------  --------  ---------  --------  -------  -------  ---\n",
      "0.0  0.0      0.0      0.0       0.0        0.0       0.0      0.0      0.0\n",
      "0.0  0.02881  0.0063   0.001505  0.0009434  0.003035  0.01366  0.06271  0.0\n",
      "0.0  0.02869  0.02068  0.006053  0.004218   0.01159   0.04304  0.05464  0.0\n",
      "0.0  0.02753  0.0264   0.01482   0.01115    0.02698   0.04965  0.04583  0.0\n",
      "0.0  0.02548  0.03012  0.02261   0.02274    0.03657   0.05085  0.03642  0.0\n",
      "0.0  0.02387  0.03247  0.03072   0.03289    0.04363   0.04841  0.02921  0.0\n",
      "0.0  0.02274  0.03474  0.03765   0.04149    0.04783   0.04534  0.02375  0.0\n",
      "0.0  0.02222  0.03681  0.04347   0.04793    0.05031   0.04227  0.01993  0.0\n",
      "0.0  0.02212  0.03873  0.048     0.05256    0.05152   0.03967  0.01735  0.0\n",
      "0.0  0.02229  0.04038  0.05137   0.05564    0.05194   0.03757  0.0157   0.0\n",
      "---  -------  -------  --------  ---------  --------  -------  -------  ---\n"
     ]
    }
   ],
   "source": [
    "table3 = table1 - table2\n",
    "table3 = np.where(table3 < 0, -table3, table3)\n",
    "print(tabulate(table3, floatfmt=\".4\"))"
   ]
  },
  {
   "cell_type": "code",
   "execution_count": 17,
   "metadata": {},
   "outputs": [
    {
     "name": "stdout",
     "output_type": "stream",
     "text": [
      "шаг h=0, шаг t=0.044444\n",
      "шаг[10] t=0.400000\n"
     ]
    },
    {
     "data": {
      "image/png": "[encoded data removed]",
      "text/plain": [
       "<Figure size 432x288 with 1 Axes>"
      ]
     },
     "metadata": {
      "needs_background": "light"
     },
     "output_type": "display_data"
    },
    {
     "name": "stdout",
     "output_type": "stream",
     "text": [
      "stop?: \n"
     ]
    }
   ],
   "source": [
    "#def gen1(table1, table2):\n",
    "#    for i in range(table3.shape[0]):\n",
    "#        abc = yield (table1[i], table2[i])\n",
    "#        print(abc)\n",
    "            \n",
    "#enu = gen1(table1, table2)\n",
    "for i, (ar1, ar2) in enumerate(zip(table1, table2)):\n",
    "    clear_output()\n",
    "    #ar1, ar2 = next(enu)\n",
    "    plt.plot(args['list_x'], ar1, label=f\"явная\")\n",
    "    plt.plot(args['list_x'], ar2, label=f\"не явная\" )\n",
    "    plt.legend(loc='upper left')\n",
    "    print(\"шаг h=%d, шаг t=%f\" % (args['hh'], args['tt']))\n",
    "    print(\"шаг[%d] t=%f\" %(i+1, args['list_tt'][i]))\n",
    "    plt.show()   \n",
    "    #display(*solve1(zad1, n))\n",
    "    if(input(\"stop?: \") != ''):\n",
    "        break\n"
   ]
  },
  {
   "cell_type": "code",
   "execution_count": 11,
   "metadata": {},
   "outputs": [
    {
     "name": "stdout",
     "output_type": "stream",
     "text": [
      "шаг h=0, шаг t=0.100000\n",
      "шаг[4] t=0.300000, n=18\n"
     ]
    },
    {
     "data": {
      "image/png": "[encoded data removed]",
      "text/plain": [
       "<Figure size 432x288 with 1 Axes>"
      ]
     },
     "metadata": {
      "needs_background": "light"
     },
     "output_type": "display_data"
    },
    {
     "name": "stdout",
     "output_type": "stream",
     "text": [
      "stop?: q\n"
     ]
    }
   ],
   "source": [
    "m, n = 5, 3\n",
    "for i in itertools.count():\n",
    "    clear_output()\n",
    "    ar1, ar2, args2 = get_tables(m, n)\n",
    "    plt.plot(args2['list_x'], ar1[m-1], label=f\"явная\")\n",
    "    plt.plot(args2['list_x'], ar2[m-1], label=f\"не явная\" )\n",
    "    plt.legend(loc='upper left')\n",
    "    print(\"шаг h=%d, шаг t=%f\" % (args2['hh'], args2['tt']))\n",
    "    print(\"шаг[%d] t=%f, n=%d\" %(i+1, args2['list_tt'][i], n))\n",
    "    plt.show()   \n",
    "    #display(*solve1(zad1, n))\n",
    "    if(input(\"stop?: \") != ''):\n",
    "        break\n",
    "    n += 5"
   ]
  },
  {
   "cell_type": "code",
   "execution_count": null,
   "metadata": {},
   "outputs": [],
   "source": []
  }
 ],
 "metadata": {
  "hide_input": false,
  "kernelspec": {
   "display_name": "Python 3",
   "language": "python",
   "name": "python3"
  },
  "language_info": {
   "codemirror_mode": {
    "name": "ipython",
    "version": 3
   },
   "file_extension": ".py",
   "mimetype": "text/x-python",
   "name": "python",
   "nbconvert_exporter": "python",
   "pygments_lexer": "ipython3",
   "version": "3.7.4"
  },
  "toc": {
   "base_numbering": 1,
   "nav_menu": {},
   "number_sections": true,
   "sideBar": true,
   "skip_h1_title": false,
   "title_cell": "Table of Contents",
   "title_sidebar": "Contents",
   "toc_cell": false,
   "toc_position": {},
   "toc_section_display": true,
   "toc_window_display": false
  },
  "varInspector": {
   "cols": {
    "lenName": 16,
    "lenType": 16,
    "lenVar": 40
   },
   "kernels_config": {
    "python": {
     "delete_cmd_postfix": "",
     "delete_cmd_prefix": "del ",
     "library": "var_list.py",
     "varRefreshCmd": "print(var_dic_list())"
    },
    "r": {
     "delete_cmd_postfix": ") ",
     "delete_cmd_prefix": "rm(",
     "library": "var_list.r",
     "varRefreshCmd": "cat(var_dic_list()) "
    }
   },
   "oldHeight": 636,
   "position": {
    "height": "658px",
    "left": "1469px",
    "right": "20px",
    "top": "119px",
    "width": "350px"
   },
   "types_to_exclude": [
    "module",
    "function",
    "builtin_function_or_method",
    "instance",
    "_Feature"
   ],
   "varInspector_section_display": "block",
   "window_display": false
  }
 },
 "nbformat": 4,
 "nbformat_minor": 2
}
