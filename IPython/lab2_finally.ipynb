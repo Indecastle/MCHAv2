{
 "cells": [
  {
   "cell_type": "code",
   "execution_count": 2,
   "metadata": {},
   "outputs": [],
   "source": [
    "import math\n",
    "import numpy as np\n",
    "import sympy as sm\n",
    "from sympy import Derivative, diff\n",
    "import itertools\n",
    "from itertools import groupby\n",
    "import matplotlib.pyplot as plt\n",
    "from tabulate import tabulate\n",
    "from pprint import pprint\n",
    "import TDMA\n",
    "\n",
    "from IPython.display import display, Latex, clear_output"
   ]
  },
  {
   "cell_type": "code",
   "execution_count": 3,
   "metadata": {},
   "outputs": [
    {
     "data": {
      "text/latex": [
       "$\\displaystyle \\left( u_{i+1}, \\  u_{i-1}, \\  u_{i}\\right)$"
      ],
      "text/plain": [
       "(uᵢ₊₁, uᵢ₋₁, uᵢ)"
      ]
     },
     "execution_count": 3,
     "metadata": {},
     "output_type": "execute_result"
    }
   ],
   "source": [
    "sm.init_printing(use_latex='mathjax')\n",
    "x, y, t, l = sm.symbols('x, y, t, l', real=True)\n",
    "C1, C2 = sm.symbols(\"C1, C2\", real=True)\n",
    "c = sm.symbols(\"c\")\n",
    "u = sm.Function('u')\n",
    "ux = u(x)\n",
    "ux1 = Derivative(u(x), x)\n",
    "ux2 = Derivative(u(x), (x, 2))\n",
    "\n",
    "h, uup1, uum1, uu0 = sm.symbols('h, u_i+1, u_i-1, u_i')\n",
    "\n",
    "uup1, uum1, uu0"
   ]
  },
  {
   "cell_type": "code",
   "execution_count": 4,
   "metadata": {},
   "outputs": [],
   "source": [
    "zad1 = {\n",
    "    'a': 0, 'b': 2,\n",
    "    'k': 0.5, 'T': 0.4,\n",
    "    'fx': sm.lambdify(x, 1), 'fxt': 2, 'lambda_fxt': sm.lambdify([x, t], 2),\n",
    "    'g1t': sm.lambdify(t, sm.exp(-t)), 'g2t': sm.lambdify(t, sm.exp(-5*t))\n",
    "    \n",
    "}"
   ]
  },
  {
   "cell_type": "code",
   "execution_count": 98,
   "metadata": {},
   "outputs": [],
   "source": [
    "n = 9\n",
    "m = 10\n",
    "#hh = (zad1['b'] - zad1['a']) / (n-1)\n",
    "#tt = zad1['T'] / (m-1)\n",
    "#bb = zad1['k'] * tt / hh**2\n",
    "uut1 = (uu0 - y)/(l)\n",
    "uux2 = (uup1 - 2*uu0 + uum1)/(h**2)\n",
    "#apro = sm.Eq(uut1, zad1['k']*uux2 + zad1['fxt'])\n",
    "\n",
    "#us = sm.symbols(' '.join([f\"u{i}\" for i in range(n)]))\n",
    "#list_x = [zad1['a'] + hh*i for i in range(n)]\n",
    "#list_tt = [tt*i for i in range(m)]\n",
    "#list_g1t = [zad1['g1t'](list_tt[i]) for i in range(m)]\n",
    "#list_g2t = [zad1['g2t'](list_tt[i]) for i in range(m)]\n",
    "\n",
    "#print(hh, tt)\n",
    "#display(uut1, uux2)\n",
    "#display(apro)\n",
    "#print(us)\n",
    "#print(\"list_x:\", *list_x)\n",
    "#print(\"list_tt:\", *list_tt)\n",
    "#print(\"list_g1t:\", *list_g1t)\n",
    "#print(\"list_g2t:\", *list_g2t)"
   ]
  },
  {
   "cell_type": "code",
   "execution_count": 89,
   "metadata": {},
   "outputs": [],
   "source": [
    "def get_tables(m, n):\n",
    "    hh = (zad1['b'] - zad1['a']) / (n-1)\n",
    "    ll = zad1['T'] / (m-1)\n",
    "    bb = zad1['k'] * ll / hh**2\n",
    "    uut1 = (uu0 - y)/(l)\n",
    "    uux2 = (uup1 - 2*uu0 + uum1)/(h**2)\n",
    "    #apro = sm.Eq(uut1, zad1['k']*uux2 + zad1['fxt'])\n",
    "    apro2 = sm.Eq(uu0 - bb*(uup1 - 2*uu0 + uum1), y + ll*zad1['fxt'])\n",
    "\n",
    "    us = sm.symbols(' '.join([f\"u{i}\" for i in range(n)]))\n",
    "    list_x = [zad1['a'] + hh*i for i in range(n)]\n",
    "    list_t = [ll*i for i in range(m)]\n",
    "    list_g1t = [zad1['g1t'](list_t[i]) for i in range(m)]\n",
    "    list_g2t = [zad1['g2t'](list_t[i]) for i in range(m)]\n",
    "    \n",
    "    table = np.zeros((m,n))\n",
    "    for i in range(m):\n",
    "        table[i][0] = list_g1t[i]\n",
    "        table[i][n-1] = list_g2t[i]\n",
    "    for i in range(1, n-1):\n",
    "        table[0][i] = zad1['fx'](list_x[i])\n",
    "\n",
    "    table1 = np.copy(table)\n",
    "    table2 = np.copy(table)\n",
    "\n",
    "    for i in range(1, m):\n",
    "        for j in range(1, n-1):\n",
    "            table1[i][j] = bb*(table1[i-1][j-1] + table1[i-1][j+1] - 2*table1[i-1][j]) + table1[i-1][j] + ll*zad1['lambda_fxt'](list_x[j], list_t[i])\n",
    "    \n",
    "    for i in range(1, m):\n",
    "        tyts = []\n",
    "        tyts.append(sm.Eq(us[0], table2[i][0]))\n",
    "        tyts.extend([apro2.subs({x: list_x[j], t: list_t[i], y: table2[i-1][j], # h: hh, l: ll, \n",
    "                           uum1: us[j-1], uu0: us[j], uup1: us[j+1]})  for j in range(1,n-1)])\n",
    "        tyts.append(sm.Eq(us[n-1], table2[i][n-1]))\n",
    "        \n",
    "        express = list(map(lambda t: TDMA.maper(t.lhs), tyts))\n",
    "        TDMA.maper3(express, n)\n",
    "        expr_values = list(map(lambda t: list(map(lambda t2: TDMA.maper2(t2), t)), express))\n",
    "        f_values = list(map(lambda t: float(t.rhs), tyts))\n",
    "        #print(tabulate(expr_values, floatfmt=\".3\"))\n",
    "        a = [0] + [expr_values[i+1][i] for i in range(n-1)]\n",
    "        b = [expr_values[i][i] for i in range(n)]\n",
    "        c = [expr_values[i][i+1] for i in range(n-1)] + [0]\n",
    "        xxx = TDMA.TDMA(*[a,b,c], f_values)\n",
    "        \n",
    "        for j in range(1, n-1):\n",
    "            table2[i][j] = xxx[j]\n",
    "            \n",
    "    return table1, table2, {'hh': hh, 'll': ll, 'list_x': list_x, 'list_t': list_t}"
   ]
  },
  {
   "cell_type": "code",
   "execution_count": 99,
   "metadata": {},
   "outputs": [
    {
     "name": "stdout",
     "output_type": "stream",
     "text": [
      "------  --------  -------  ------  ---  ---  ---  ---  ---  ---  ---  ------  ------  -------  ------\n",
      "1.0       1.0      1.0      1.0    1.0  1.0  1.0  1.0  1.0  1.0  1.0   1.0     1.0      1.0    1.0\n",
      "0.9048    1.2      1.2      1.2    1.2  1.2  1.2  1.2  1.2  1.2  1.2   1.2     1.2      1.2    0.6065\n",
      "0.8187    0.6769   1.4      1.4    1.4  1.4  1.4  1.4  1.4  1.4  1.4   1.4     1.4     -0.054  0.3679\n",
      "0.7408    2.996   -0.1717   1.6    1.6  1.6  1.6  1.6  1.6  1.6  1.6   1.6    -1.962    4.742  0.2231\n",
      "0.6703  -10.09    12.13    -2.541  1.8  1.8  1.8  1.8  1.8  1.8  1.8  -6.928  23.39   -22.55   0.1353\n",
      "------  --------  -------  ------  ---  ---  ---  ---  ---  ---  ---  ------  ------  -------  ------\n",
      "------  -----  -----  -----  -----  -----  -----  -----  -----  -----  -----  -----  ------  ------  ------\n",
      "1.0     1.0    1.0    1.0    1.0    1.0    1.0    1.0    1.0    1.0    1.0    1.0    1.0     1.0     1.0\n",
      "0.9048  1.042  1.116  1.155  1.175  1.185  1.189  1.189  1.184  1.173  1.151  1.11   1.031   0.8834  0.6065\n",
      "0.8187  1.041  1.182  1.268  1.319  1.346  1.358  1.357  1.343  1.312  1.255  1.16   1.003   0.7528  0.3679\n",
      "0.7408  1.025  1.221  1.351  1.433  1.481  1.502  1.499  1.473  1.419  1.328  1.184  0.9678  0.656   0.2231\n",
      "0.6703  1.002  1.243  1.412  1.523  1.59   1.62   1.617  1.579  1.504  1.381  1.199  0.942   0.5924  0.1353\n",
      "------  -----  -----  -----  -----  -----  -----  -----  -----  -----  -----  -----  ------  ------  ------\n"
     ]
    }
   ],
   "source": [
    "m, n = 5, 15\n",
    "table1, table2, args = get_tables(m, n)\n",
    "print(tabulate(table1, floatfmt=\".4\"))\n",
    "print(tabulate(table2, floatfmt=\".4\"))"
   ]
  },
  {
   "cell_type": "code",
   "execution_count": 100,
   "metadata": {
    "scrolled": true
   },
   "outputs": [
    {
     "name": "stdout",
     "output_type": "stream",
     "text": [
      "---  -------  --------  -------  -------  -------  -------  -------  -------  -------  -------  -------  -------  -------  ---\n",
      "0.0   0.0      0.0      0.0      0.0      0.0      0.0      0.0      0.0      0.0      0.0      0.0       0.0      0.0     0.0\n",
      "0.0   0.1576   0.08427  0.04537  0.02499  0.01482  0.01068  0.01092  0.0156   0.02665  0.04859  0.09035   0.169    0.3166  0.0\n",
      "0.0   0.3645   0.218    0.132    0.08137  0.05375  0.04201  0.04306  0.05723  0.08839  0.1448   0.2404    0.3972   0.8068  0.0\n",
      "0.0   1.971    1.393    0.249    0.1667   0.1192   0.09847  0.1007   0.1266   0.1807   0.2725   0.4164    2.93     4.086   0.0\n",
      "0.0  11.09    10.89     3.952    0.2766   0.2098   0.18     0.1834   0.2205   0.296    0.4185   8.127    22.45    23.15    0.0\n",
      "---  -------  --------  -------  -------  -------  -------  -------  -------  -------  -------  -------  -------  -------  ---\n"
     ]
    }
   ],
   "source": [
    "table3 = table1 - table2\n",
    "table3 = np.where(table3 < 0, -table3, table3)\n",
    "print(tabulate(table3, floatfmt=\".4\"))"
   ]
  },
  {
   "cell_type": "code",
   "execution_count": 101,
   "metadata": {},
   "outputs": [
    {
     "data": {
      "text/latex": [
       "$\\displaystyle 23.14682751869938$"
      ],
      "text/plain": [
       "23.14682751869938"
      ]
     },
     "execution_count": 101,
     "metadata": {},
     "output_type": "execute_result"
    }
   ],
   "source": [
    "np.amax(table3)"
   ]
  },
  {
   "cell_type": "code",
   "execution_count": 23,
   "metadata": {},
   "outputs": [
    {
     "name": "stdout",
     "output_type": "stream",
     "text": [
      "шаг h=0, шаг t=0.044444\n",
      "шаг[10] t=0.400000\n"
     ]
    },
    {
     "data": {
      "image/png": "[encoded data removed]",
      "text/plain": [
       "<Figure size 432x288 with 1 Axes>"
      ]
     },
     "metadata": {
      "needs_background": "light"
     },
     "output_type": "display_data"
    },
    {
     "name": "stdout",
     "output_type": "stream",
     "text": [
      "stop?: \n"
     ]
    }
   ],
   "source": [
    "#def gen1(table1, table2):\n",
    "#    for i in range(table3.shape[0]):\n",
    "#        abc = yield (table1[i], table2[i])\n",
    "#        print(abc)\n",
    "            \n",
    "#enu = gen1(table1, table2)\n",
    "for i, (ar1, ar2) in enumerate(zip(table1, table2)):\n",
    "    clear_output()\n",
    "    #ar1, ar2 = next(enu)\n",
    "    plt.plot(args['list_x'], ar1, label=f\"явная\")\n",
    "    plt.plot(args['list_x'], ar2, label=f\"не явная\" )\n",
    "    plt.legend(loc='upper left')\n",
    "    print(\"шаг h=%d, шаг t=%f\" % (args['hh'], args['ll']))\n",
    "    print(\"шаг[%d] t=%f\" %(i+1, args['list_t'][i]))\n",
    "    plt.show()   \n",
    "    #display(*solve1(zad1, n))\n",
    "    if(input(\"stop?: \") != ''):\n",
    "        break\n"
   ]
  },
  {
   "cell_type": "code",
   "execution_count": 93,
   "metadata": {},
   "outputs": [
    {
     "name": "stdout",
     "output_type": "stream",
     "text": [
      "шаг h=0, шаг l=0.100000\n",
      "шаг[1] m=5, n=14\n"
     ]
    },
    {
     "data": {
      "image/png": "[encoded data removed]",
      "text/plain": [
       "<Figure size 432x288 with 1 Axes>"
      ]
     },
     "metadata": {
      "needs_background": "light"
     },
     "output_type": "display_data"
    },
    {
     "name": "stdout",
     "output_type": "stream",
     "text": [
      "stop?: f\n"
     ]
    }
   ],
   "source": [
    "m, n = 5, 14\n",
    "for i in itertools.count():\n",
    "    clear_output()\n",
    "    ar1, ar2, args2 = get_tables(m, n)\n",
    "    plt.plot(args2['list_x'], ar1[m-1], label=f\"явная\")\n",
    "    plt.plot(args2['list_x'], ar2[m-1], label=f\"не явная\" )\n",
    "    plt.legend(loc='upper left')\n",
    "    print(\"шаг h=%d, шаг l=%f\" % (args2['hh'], args2['ll']))\n",
    "    print(\"шаг[%d] m=%d, n=%d\" %(i+1, m, n))\n",
    "    #print(tabulate({\"явная\": ar1[m-1], \"неявная\": ar2[m-1], \"погрешность\": ar1[m-1] - ar2[m-1]}, headers='keys', tablefmt=\"github\" , floatfmt=\".5\"))\n",
    "    plt.show()   \n",
    "    #display(*solve1(zad1, n))\n",
    "    if(input(\"stop?: \") != ''):\n",
    "        break\n",
    "    n += 1"
   ]
  },
  {
   "cell_type": "code",
   "execution_count": 114,
   "metadata": {},
   "outputs": [
    {
     "name": "stdout",
     "output_type": "stream",
     "text": [
      "  m\\n        3        4        5        6        7        8        9       10       11       12       13       14      15\n",
      "-----  -------  -------  -------  -------  -------  -------  -------  -------  -------  -------  -------  -------  ------\n",
      "    2  0.3992   0.4848   0.6126   0.7279   0.8252   0.9062   0.9741   1.031    1.08     1.122    1.159     1.191    1.219\n",
      "    3  0.1836   0.1994   0.2621   0.3175   0.3857   0.4645   0.6973   1.075    1.513    2.011    2.565     3.177    3.844\n",
      "    4  0.1206   0.1303   0.154    0.1823   0.2243   0.2624   0.5008   1.022    1.874    3.153    4.968     7.433   10.68\n",
      "    5  0.08998  0.0971   0.1135   0.1191   0.1498   0.1783   0.3028   0.7701   1.817    3.846    7.418    13.33    23.15\n",
      "    6  0.07181  0.07743  0.09017  0.09255  0.1075   0.1298   0.1506   0.3483   1.244    3.838    9.875    22.48    46.71\n",
      "    7  0.05977  0.06442  0.07487  0.07687  0.08134  0.099    0.1159   0.1566   0.7033   2.896    9.855    28.66    73.84\n",
      "    8  0.05119  0.05516  0.06403  0.06576  0.0695   0.07818  0.09225  0.1056   0.2907   1.537    7.442    28.49    92.51\n",
      "    9  0.04477  0.04823  0.05595  0.05747  0.06068  0.06339  0.07531  0.08669  0.1204   0.6805   4.477    22.78    94.46\n",
      "   10  0.03978  0.04285  0.04969  0.05104  0.05387  0.05561  0.06271  0.07258  0.08197  0.2588   2.212    14.84    79.66\n",
      "   11  0.03579  0.03856  0.04469  0.0459   0.04843  0.05023  0.05309  0.06172  0.07001  0.09137  0.8325    8.292   58.21\n",
      "   12  0.03253  0.03504  0.04061  0.04171  0.04399  0.04535  0.04727  0.05318  0.06055  0.0676   0.3024    3.823   36.17\n",
      "   13  0.02982  0.03212  0.03721  0.03822  0.04031  0.041    0.04361  0.04633  0.05293  0.05928  0.1041    1.382   18.74\n",
      "   14  0.02752  0.02964  0.03434  0.03527  0.03719  0.03772  0.04018  0.04102  0.0467   0.05245  0.05797   0.4478   8.201\n",
      "   15  0.02555  0.02752  0.03188  0.03275  0.03452  0.03518  0.03703  0.03844  0.04153  0.04677  0.05181   0.13     2.984\n"
     ]
    }
   ],
   "source": [
    "m, n = 15, 15\n",
    "etable = [[None]*(1+n-2) for _ in range(m-1)]\n",
    "for i in range(m-1):\n",
    "    etable[i][0] = i+2\n",
    "\n",
    "for i in range(m-1):\n",
    "    #break\n",
    "    for j in range(n-2):\n",
    "        ar1, ar2, args2 = get_tables(i+2, j+3)\n",
    "        ar3 = ar1 - ar2\n",
    "        ar3 = np.where(ar3 < 0, -ar3, ar3)\n",
    "        etable[i][1+j] = np.amax(ar3)\n",
    "        \n",
    "print(tabulate(etable , headers=['m\\\\n']+[i+3 for i in range(n-2)], floatfmt=\".4\"))"
   ]
  },
  {
   "cell_type": "code",
   "execution_count": null,
   "metadata": {},
   "outputs": [],
   "source": []
  }
 ],
 "metadata": {
  "hide_input": false,
  "kernelspec": {
   "display_name": "Python 3",
   "language": "python",
   "name": "python3"
  },
  "toc": {
   "base_numbering": 1,
   "nav_menu": {},
   "number_sections": true,
   "sideBar": true,
   "skip_h1_title": false,
   "title_cell": "Table of Contents",
   "title_sidebar": "Contents",
   "toc_cell": false,
   "toc_position": {},
   "toc_section_display": true,
   "toc_window_display": false
  },
  "varInspector": {
   "cols": {
    "lenName": 16,
    "lenType": 16,
    "lenVar": 40
   },
   "kernels_config": {
    "python": {
     "delete_cmd_postfix": "",
     "delete_cmd_prefix": "del ",
     "library": "var_list.py",
     "varRefreshCmd": "print(var_dic_list())"
    },
    "r": {
     "delete_cmd_postfix": ") ",
     "delete_cmd_prefix": "rm(",
     "library": "var_list.r",
     "varRefreshCmd": "cat(var_dic_list()) "
    }
   },
   "oldHeight": 636,
   "position": {
    "height": "658px",
    "left": "1469px",
    "right": "20px",
    "top": "119px",
    "width": "350px"
   },
   "types_to_exclude": [
    "module",
    "function",
    "builtin_function_or_method",
    "instance",
    "_Feature"
   ],
   "varInspector_section_display": "block",
   "window_display": false
  }
 },
 "nbformat": 4,
 "nbformat_minor": 2
}
