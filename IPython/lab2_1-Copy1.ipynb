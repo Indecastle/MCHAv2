{
 "cells": [
  {
   "cell_type": "markdown",
   "metadata": {},
   "source": [
    "# lab2_1"
   ]
  },
  {
   "cell_type": "code",
   "execution_count": 1,
   "metadata": {},
   "outputs": [],
   "source": [
    "import math\n",
    "import numpy as np\n",
    "import sympy as sm\n",
    "from sympy import Derivative, diff\n",
    "from itertools import groupby\n",
    "import matplotlib.pyplot as plt\n",
    "from tabulate import tabulate\n",
    "from pprint import pprint\n",
    "\n",
    "from IPython.display import display, Latex, clear_output"
   ]
  },
  {
   "cell_type": "code",
   "execution_count": 2,
   "metadata": {},
   "outputs": [],
   "source": [
    "t, y =sm.symbols('t, y')\n",
    "x=sm.Function('x')\n",
    "p=sm.Function('p')"
   ]
  },
  {
   "cell_type": "code",
   "execution_count": 3,
   "metadata": {},
   "outputs": [
    {
     "data": {
      "text/latex": [
       "$\\displaystyle \\left( u^{j}_{i+1}, \\  u^{j}_{i-1}, \\  u^{j}_{i}\\right)$"
      ],
      "text/plain": [
       "(u_i+1__j, u_i-1__j, u_i__j)"
      ]
     },
     "execution_count": 3,
     "metadata": {},
     "output_type": "execute_result"
    }
   ],
   "source": [
    "sm.init_printing(use_latex='mathjax')\n",
    "x, y, t = sm.symbols('x, y, t', real=True)\n",
    "C1, C2 = sm.symbols(\"C1, C2\", real=True)\n",
    "c = sm.symbols(\"c\")\n",
    "u = sm.Function('u')\n",
    "ux = u(x)\n",
    "ux1 = Derivative(u(x), x)\n",
    "ux2 = Derivative(u(x), (x, 2))\n",
    "\n",
    "h, uup1, uum1, uu0 = sm.symbols('h, u_i+1^j, u_i-1^j, u_i^j')\n",
    "uux1 = (uup1 - uum1)/(2*h)\n",
    "uux2 = (uup1 - 2*uu0 + uum1)/(h**2)\n",
    "\n",
    "uup1, uum1, uu0"
   ]
  },
  {
   "cell_type": "code",
   "execution_count": 4,
   "metadata": {},
   "outputs": [],
   "source": [
    "zad1 = {\n",
    "    'a': 0, 'b': 2,\n",
    "    'k': 0.5, 'T': 0.4,\n",
    "    'fx': sm.lambdify(x, 1), 'fxt': sm.lambdify([x, t], 2),\n",
    "    'g1t': sm.lambdify(t, sm.exp(-t)), 'g2t': sm.lambdify(t, sm.exp(-5*t))\n",
    "    \n",
    "}"
   ]
  },
  {
   "cell_type": "code",
   "execution_count": null,
   "metadata": {
    "scrolled": false
   },
   "outputs": [],
   "source": [
    "n = 9\n",
    "hh = (zad1['b'] - zad1['a']) / (n-1)\n",
    "tt = 0.5 * hh**2 / zad1['k']\n",
    "us = sm.symbols(' '.join([f\"u{i}\" for i in range(n)]))\n",
    "list_x = [zad1['a'] + hh*i for i in range(n)]\n",
    "list_tt = [tt*i for i in range(n)]\n",
    "list_g1t = [zad1['g1t'](list_tt[i]) for i in range(n)]\n",
    "list_g2t = [zad1['g2t'](list_tt[i]) for i in range(n)]\n",
    "print(hh)\n",
    "print(us)\n",
    "print(\"list_x:\", *list_x)\n",
    "print(\"list_tt:\", *list_tt)\n",
    "print(\"list_g1t:\", *list_g1t)\n",
    "print(\"list_g2t:\", *list_g2t)"
   ]
  },
  {
   "cell_type": "code",
   "execution_count": null,
   "metadata": {},
   "outputs": [],
   "source": [
    "table = [['']*(n+2) for _ in range(n+4)]\n",
    "table[0][0] = ''\n",
    "table[0][1] = 'i'\n",
    "for i in range(2, n+2):\n",
    "    table[0][i] = i-2\n",
    "table[1][0] = 'j'\n",
    "table[1][1] = 'tj \\\\ xi'\n",
    "for i in range(2, n+2):\n",
    "    table[1][i] = list_x[i-2]\n",
    "    \n",
    "for i in range(2, n+2):\n",
    "    table[i][0] = i-2\n",
    "for i in range(2, n+2):\n",
    "    table[i][1] = list_tt[i-2]\n",
    "table[n+4-2][1] = \"й(х;%s)\" % table[n+4-3][1]\n",
    "table[n+4-1][1] = \"|й - u|\"\n",
    "for i in range(n):\n",
    "    table[i+2][2] = round(list_g1t[i],3)\n",
    "    table[i+2][n+2-1] = round(list_g2t[i], 3)\n",
    "for i in range(n):\n",
    "    table[i+2][2] = round(list_g1t[i],3)\n",
    "    table[i+2][n+2-1] = round(list_g2t[i], 3)\n",
    " \n",
    "for i in range(1, n-1):\n",
    "    table[2][i+2] = round(zad1['fx'](list_x[i]),3)\n",
    "\n",
    "for i in range(1, n):\n",
    "    for j in range(1, n-1):\n",
    "        table[2+i][2+j] = round(0.5*(table[2+i-1][2+j-1]+table[2+i-1][2+j+1]) + tt*zad1['fxt'](list_x[i], list_tt[j]), 5)\n",
    "print(tabulate(table, floatfmt=\".3\", tablefmt='fancy_grid'))"
   ]
  },
  {
   "cell_type": "code",
   "execution_count": null,
   "metadata": {},
   "outputs": [],
   "source": []
  },
  {
   "cell_type": "code",
   "execution_count": null,
   "metadata": {},
   "outputs": [],
   "source": []
  }
 ],
 "metadata": {
  "hide_input": false,
  "kernelspec": {
   "display_name": "Python 3",
   "language": "python",
   "name": "python3"
  },
  "language_info": {
   "codemirror_mode": {
    "name": "ipython",
    "version": 3
   },
   "file_extension": ".py",
   "mimetype": "text/x-python",
   "name": "python",
   "nbconvert_exporter": "python",
   "pygments_lexer": "ipython3",
   "version": "3.7.2"
  },
  "varInspector": {
   "cols": {
    "lenName": 16,
    "lenType": 16,
    "lenVar": 40
   },
   "kernels_config": {
    "python": {
     "delete_cmd_postfix": "",
     "delete_cmd_prefix": "del ",
     "library": "var_list.py",
     "varRefreshCmd": "print(var_dic_list())"
    },
    "r": {
     "delete_cmd_postfix": ") ",
     "delete_cmd_prefix": "rm(",
     "library": "var_list.r",
     "varRefreshCmd": "cat(var_dic_list()) "
    }
   },
   "types_to_exclude": [
    "module",
    "function",
    "builtin_function_or_method",
    "instance",
    "_Feature"
   ],
   "window_display": false
  }
 },
 "nbformat": 4,
 "nbformat_minor": 2
}
