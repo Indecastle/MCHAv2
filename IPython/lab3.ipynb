{
 "cells": [
  {
   "cell_type": "code",
   "execution_count": 2,
   "metadata": {},
   "outputs": [],
   "source": [
    "import math\n",
    "import numpy as np\n",
    "import sympy as sm\n",
    "from sympy import Derivative, diff\n",
    "import itertools\n",
    "from itertools import groupby\n",
    "import matplotlib.pyplot as plt\n",
    "from tabulate import tabulate\n",
    "from pprint import pprint\n",
    "import TDMA\n",
    "\n",
    "from IPython.display import display, Latex, clear_output"
   ]
  },
  {
   "cell_type": "code",
   "execution_count": 3,
   "metadata": {},
   "outputs": [
    {
     "data": {
      "text/latex": [
       "$\\displaystyle \\left( u_{i+1}, \\  u_{i-1}, \\  u_{i}\\right)$"
      ],
      "text/plain": [
       "(uᵢ₊₁, uᵢ₋₁, uᵢ)"
      ]
     },
     "execution_count": 3,
     "metadata": {},
     "output_type": "execute_result"
    }
   ],
   "source": [
    "sm.init_printing(use_latex='mathjax')\n",
    "x, y, t, l = sm.symbols('x, y, t, l', real=True)\n",
    "C1, C2 = sm.symbols(\"C1, C2\", real=True)\n",
    "c = sm.symbols(\"c\")\n",
    "u = sm.Function('u')\n",
    "ux = u(x)\n",
    "ux1 = Derivative(u(x), x)\n",
    "ux2 = Derivative(u(x), (x, 2))\n",
    "\n",
    "h, uup1, uum1, uu0 = sm.symbols('h, u_i+1, u_i-1, u_i')\n",
    "\n",
    "uup1, uum1, uu0"
   ]
  },
  {
   "cell_type": "code",
   "execution_count": 60,
   "metadata": {},
   "outputs": [
    {
     "data": {
      "text/latex": [
       "$\\displaystyle 8762886597938.145$"
      ],
      "text/plain": [
       "8762886597938.145"
      ]
     },
     "execution_count": 60,
     "metadata": {},
     "output_type": "execute_result"
    }
   ],
   "source": [
    "zad = {\n",
    "    'L1': 0, 'L2': 6,\n",
    "    'u':0.15,\n",
    "    'E': 85*10**9,\n",
    "    'p': 9.7*10**3,\n",
    "    'a': 85*10**9 / 9.7*10**3,\n",
    "    \n",
    "    'fx': sm.lambdify(x, x**2)\n",
    "}\n",
    "zad['a']"
   ]
  },
  {
   "cell_type": "code",
   "execution_count": 62,
   "metadata": {},
   "outputs": [
    {
     "name": "stdout",
     "output_type": "stream",
     "text": [
      "0.75 0.1111111111111111 1.685337317494078e+24\n",
      "[0.0, 0.75, 1.5, 2.25, 3.0, 3.75, 4.5, 5.25, 6.0]\n"
     ]
    }
   ],
   "source": [
    "n = 9\n",
    "m = 10\n",
    "hh = (zad['L2'] - zad['L1']) / (n-1)\n",
    "ll = 1 / (m-1) ## 1 sek\n",
    "bb = (zad['a']*ll/hh)**2\n",
    "us = sm.symbols(' '.join([f\"u{i}\" for i in range(n)]))\n",
    "list_x = [zad['L1'] + hh*i for i in range(n)]\n",
    "list_t = [ll*i for i in range(m)]\n",
    "list_g1t = [0 for i in range(m)]\n",
    "list_g2t = [0 for i in range(m)]\n",
    "print(hh, ll, bb)\n",
    "print(list_x)"
   ]
  },
  {
   "cell_type": "code",
   "execution_count": 73,
   "metadata": {
    "code_folding": []
   },
   "outputs": [],
   "source": [
    "table = np.zeros((m,n))\n",
    "for i in range(m):\n",
    "    table[i][0] = list_g1t[i]\n",
    "    table[i][n-1] = list_g2t[i]\n",
    "for i in range(1, n-1):\n",
    "    table[0][i] = zad['fx'](list_x[i])\n",
    "for i in range(1, n-1):\n",
    "    table[1][i] = table[0][i] + ll**2 / 2 * (table[1][i-1] + table[1][i+1] - 2*table[1][i])\n",
    "\n",
    "table1 = np.copy(table)\n",
    "table2 = np.copy(table)\n",
    "\n",
    "for i in range(1, m):\n",
    "    for j in range(1, n-1):\n",
    "        table1[i][j] = bb*(table1[i-1][j-1] + table1[i-1][j+1] - 2*table1[i-1][j]) + 2*table1[i-1][j] - table1[i-2][j]"
   ]
  },
  {
   "cell_type": "code",
   "execution_count": 74,
   "metadata": {},
   "outputs": [
    {
     "name": "stdout",
     "output_type": "stream",
     "text": [
      "---  -----------  -----------  -----------  -----------  -----------  -----------  -----------  ---\n",
      "0.0   0.5625       2.25         5.062        9.0         14.06        20.25        27.56        0.0\n",
      "0.0   1.896e+24    1.896e+24    1.896e+24    1.896e+24    1.896e+24    1.896e+24   -5.878e+25   0.0\n",
      "0.0  -3.195e+48    3.792e+24    3.792e+24    3.792e+24    3.792e+24   -1.023e+50    2.013e+50   0.0\n",
      "0.0   1.077e+73   -5.385e+72    5.688e+24    5.688e+24   -1.723e+74    6.839e+74   -8.509e+74   0.0\n",
      "0.0  -4.538e+97    3.63e+97    -9.076e+96   -2.904e+98    1.734e+99   -4.03e+99     4.021e+99   0.0\n",
      "0.0   2.141e+122  -2.141e+122  -3.977e+122   3.885e+123  -1.312e+124   2.328e+124  -2.034e+124  0.0\n",
      "0.0  -1.083e+147   4.125e+146   7.528e+147  -3.588e+148   9.002e+148  -1.349e+149   1.078e+149  0.0\n",
      "0.0   4.345e+171   9.471e+171  -8.516e+172   2.854e+173  -5.912e+173   7.88e+173   -5.907e+173  0.0\n",
      "0.0   1.318e+195  -1.681e+197   7.839e+197  -2.102e+198   3.802e+198  -4.648e+198   3.319e+198  0.0\n",
      "0.0  -2.878e+221   1.89e+222   -6.468e+222   1.481e+223  -2.419e+223   2.767e+223  -1.902e+223  0.0\n",
      "---  -----------  -----------  -----------  -----------  -----------  -----------  -----------  ---\n"
     ]
    }
   ],
   "source": [
    "print(tabulate(table1, floatfmt=\".4\"))"
   ]
  },
  {
   "cell_type": "code",
   "execution_count": null,
   "metadata": {},
   "outputs": [],
   "source": []
  }
 ],
 "metadata": {
  "hide_input": false,
  "kernelspec": {
   "display_name": "Python 3",
   "language": "python",
   "name": "python3"
  },
  "language_info": {
   "codemirror_mode": {
    "name": "ipython",
    "version": 3
   },
   "file_extension": ".py",
   "mimetype": "text/x-python",
   "name": "python",
   "nbconvert_exporter": "python",
   "pygments_lexer": "ipython3",
   "version": "3.7.4"
  },
  "toc": {
   "base_numbering": 1,
   "nav_menu": {},
   "number_sections": true,
   "sideBar": true,
   "skip_h1_title": false,
   "title_cell": "Table of Contents",
   "title_sidebar": "Contents",
   "toc_cell": false,
   "toc_position": {},
   "toc_section_display": true,
   "toc_window_display": false
  },
  "varInspector": {
   "cols": {
    "lenName": 16,
    "lenType": 16,
    "lenVar": 40
   },
   "kernels_config": {
    "python": {
     "delete_cmd_postfix": "",
     "delete_cmd_prefix": "del ",
     "library": "var_list.py",
     "varRefreshCmd": "print(var_dic_list())"
    },
    "r": {
     "delete_cmd_postfix": ") ",
     "delete_cmd_prefix": "rm(",
     "library": "var_list.r",
     "varRefreshCmd": "cat(var_dic_list()) "
    }
   },
   "position": {
    "height": "491px",
    "left": "1543px",
    "right": "20px",
    "top": "124px",
    "width": "350px"
   },
   "types_to_exclude": [
    "module",
    "function",
    "builtin_function_or_method",
    "instance",
    "_Feature"
   ],
   "window_display": false
  }
 },
 "nbformat": 4,
 "nbformat_minor": 2
}
