{
 "cells": [
  {
   "cell_type": "code",
   "execution_count": 1,
   "metadata": {},
   "outputs": [],
   "source": [
    "import math\n",
    "import numpy as np\n",
    "import sympy as sm\n",
    "from sympy import Derivative\n",
    "from itertools import groupby\n",
    "import matplotlib.pyplot as plt\n",
    "from tabulate import tabulate\n",
    "from pprint import pprint\n",
    "\n",
    "from IPython.display import display, Latex, clear_output\n",
    "#%matplotlib inline"
   ]
  },
  {
   "cell_type": "code",
   "execution_count": 2,
   "metadata": {},
   "outputs": [],
   "source": [
    "sm.init_printing(use_latex='mathjax')\n",
    "x, y, c = sm.symbols('x, y, c', real=True)\n",
    "C1, C2 = sm.symbols(\"C1, C2\", real=True)\n",
    "c = sm.symbols(\"c\")\n",
    "u = sm.Function('u')\n",
    "ux1 = Derivative(u(x), x)"
   ]
  },
  {
   "cell_type": "code",
   "execution_count": 3,
   "metadata": {},
   "outputs": [],
   "source": [
    "zad1 = {'K': x**2,\n",
    "        'f': 2*x**2 + 2*x,\n",
    "        'a': 0.5, 'UA': 2,\n",
    "        'b': 1.6, 'UB': 6}\n",
    "\n",
    "zad0 = {'K': x,\n",
    "        'f': x**(sm.Pow(3,-1))*4/3,\n",
    "        'a': 0.5, 'UA': 1,\n",
    "        'b': 1, 'UB': 2}\n",
    "\n",
    "express = [\n",
    "    lambda zad: {**zad, 'K':zad['K'], 'UA':zad['UA'], 'c':1 },\n",
    "    lambda zad: {**zad, 'K':zad['K']*c, 'UA':zad['UA'], 'UB':zad['UB'], 'c':2 },\n",
    "    lambda zad: {**zad, 'K':zad['K']*c, 'UA':zad['UA'], 'UB':zad['UB'], 'c':0.1 },\n",
    "    #lambda zad: {**zad, 'K':sm.Pow(zad['K'],-1), 'UA':zad['UA'], 'b':zad['b'], 'UB':zad['UB'], 'c':1 },\n",
    "    lambda zad: {**zad, 'K':zad['K'], 'UA':-zad['UA'], 'UB':zad['UB'], 'c':1 },\n",
    "    lambda zad: {**zad, 'K':zad['K'], 'UA':zad['UA'], 'UB':-zad['UB'], 'c':1 },\n",
    "    lambda zad: {**zad, 'K':zad['K'], 'UA':-zad['UA'], 'UB':-zad['UB'], 'c':1 }\n",
    "]"
   ]
  },
  {
   "cell_type": "code",
   "execution_count": 4,
   "metadata": {},
   "outputs": [],
   "source": [
    "def getroots(expr, zad):\n",
    "    tyt1 = sm.Eq(expr.rhs.subs(x, zad['a']), zad['UA'])\n",
    "    tyt2 = sm.Eq(expr.rhs.subs(x, zad['b']), zad['UB'])\n",
    "    sol = sm.solve((tyt1, tyt2), (C1, C2))\n",
    "    return sol\n",
    "\n",
    "def getresult(zad):\n",
    "    rer = sm.Eq(Derivative(zad['K']*ux1, x), -zad['f'])\n",
    "    #display(rer)\n",
    "    \n",
    "    res = sm.integrate(rer, x)\n",
    "    res = sm.Eq(res.lhs, res.rhs + C1)\n",
    "    \n",
    "    res2 = sm.Eq(ux1, sm.solve(res, ux1)[0])\n",
    "    \n",
    "    res3 = sm.integrate(res2, x)\n",
    "    res3 = sm.Eq(res3.lhs, res3.rhs + C2)\n",
    "    \n",
    "    res4 = res3.subs(c, zad['c'])\n",
    "    \n",
    "    sol = getroots(res4, zad)\n",
    "    equation = res4.subs({C1:sol[C1], C2:sol[C2]})\n",
    "    return equation\n",
    "    #return [equation, sol]\n",
    "    \n",
    "def func1(zad, express):\n",
    "    results = [getresult(expr(zad)) for expr in express]\n",
    "    return results"
   ]
  },
  {
   "cell_type": "code",
   "execution_count": 5,
   "metadata": {},
   "outputs": [
    {
     "data": {
      "text/latex": [
       "$\\displaystyle u{\\left(x \\right)} = - \\frac{x^{2}}{3} - x + 11.1215151515152 - \\frac{4.26909090909091}{x}$"
      ],
      "text/plain": [
       "          2                                          \n",
       "         x                           4.26909090909091\n",
       "u(x) = - ── - x + 11.1215151515152 - ────────────────\n",
       "         3                                  x        "
      ]
     },
     "metadata": {},
     "output_type": "display_data"
    },
    {
     "data": {
      "text/latex": [
       "$\\displaystyle u{\\left(x \\right)} = - \\frac{x^{2}}{6} - \\frac{x}{2} + 9.46984848484849 - \\frac{3.58909090909091}{x}$"
      ],
      "text/plain": [
       "          2                                          \n",
       "         x    x                      3.58909090909091\n",
       "u(x) = - ── - ─ + 9.46984848484849 - ────────────────\n",
       "         6    2                             x        "
      ]
     },
     "metadata": {},
     "output_type": "display_data"
    },
    {
     "data": {
      "text/latex": [
       "$\\displaystyle u{\\left(x \\right)} = - 3.33333333333333 x^{2} - 10.0 x + 40.8515151515152 - \\frac{16.5090909090909}{x}$"
      ],
      "text/plain": [
       "                           2                               16.5090909090909\n",
       "u(x) = - 3.33333333333333⋅x  - 10.0⋅x + 40.8515151515152 - ────────────────\n",
       "                                                                  x        "
      ]
     },
     "metadata": {},
     "output_type": "display_data"
    },
    {
     "data": {
      "text/latex": [
       "$\\displaystyle u{\\left(x \\right)} = - \\frac{x^{2}}{3} - x + 12.939696969697 - \\frac{7.17818181818182}{x}$"
      ],
      "text/plain": [
       "          2                                         \n",
       "         x                          7.17818181818182\n",
       "u(x) = - ── - x + 12.939696969697 - ────────────────\n",
       "         3                                 x        "
      ]
     },
     "metadata": {},
     "output_type": "display_data"
    },
    {
     "data": {
      "text/latex": [
       "$\\displaystyle u{\\left(x \\right)} = - \\frac{x^{2}}{3} - x - 6.3330303030303 + \\frac{4.45818181818182}{x}$"
      ],
      "text/plain": [
       "          2                                         \n",
       "         x                          4.45818181818182\n",
       "u(x) = - ── - x - 6.3330303030303 + ────────────────\n",
       "         3                                 x        "
      ]
     },
     "metadata": {},
     "output_type": "display_data"
    },
    {
     "data": {
      "text/latex": [
       "$\\displaystyle u{\\left(x \\right)} = - \\frac{x^{2}}{3} - x - 4.51484848484848 + \\frac{1.54909090909091}{x}$"
      ],
      "text/plain": [
       "          2                                          \n",
       "         x                           1.54909090909091\n",
       "u(x) = - ── - x - 4.51484848484848 + ────────────────\n",
       "         3                                  x        "
      ]
     },
     "metadata": {},
     "output_type": "display_data"
    }
   ],
   "source": [
    "results = func1(zad1, express[:3])\n",
    "results2 = func1(zad1, express[3:])\n",
    "display(*results)\n",
    "display(*results2)"
   ]
  },
  {
   "cell_type": "markdown",
   "metadata": {},
   "source": [
    "# One\n",
    "\n",
    "## Two\n",
    "\n",
    "### Three"
   ]
  },
  {
   "cell_type": "code",
   "execution_count": 6,
   "metadata": {
    "scrolled": false
   },
   "outputs": [
    {
     "data": {
      "image/png": "[encoded data removed]",
      "text/plain": [
       "<Figure size 432x288 with 1 Axes>"
      ]
     },
     "metadata": {
      "needs_background": "light"
     },
     "output_type": "display_data"
    }
   ],
   "source": [
    "args = []\n",
    "for ress in results:\n",
    "    args.append( (ress.rhs, (x, 0.0001, 10)) )\n",
    "plot = sm.plot(*args, xlim=[-1,10], ylim=[-50,20], show=False, Legend=False)\n",
    "plot.show()"
   ]
  },
  {
   "cell_type": "code",
   "execution_count": 7,
   "metadata": {},
   "outputs": [
    {
     "data": {
      "image/png": "[encoded data removed]",
      "text/plain": [
       "<Figure size 432x288 with 1 Axes>"
      ]
     },
     "metadata": {
      "needs_background": "light"
     },
     "output_type": "display_data"
    }
   ],
   "source": [
    "args = []\n",
    "for ress in results2:\n",
    "    args.append( (ress.rhs, (x, 0.0001, 10)) )\n",
    "plot = sm.plot(*args, xlim=[-1,10], ylim=[-20,20], show=False, Legend=True)\n",
    "plot.show()"
   ]
  },
  {
   "cell_type": "code",
   "execution_count": null,
   "metadata": {},
   "outputs": [],
   "source": []
  },
  {
   "cell_type": "code",
   "execution_count": null,
   "metadata": {},
   "outputs": [],
   "source": []
  }
 ],
 "metadata": {
  "hide_input": false,
  "kernelspec": {
   "display_name": "Python 3",
   "language": "python",
   "name": "python3"
  },
  "language_info": {
   "codemirror_mode": {
    "name": "ipython",
    "version": 3
   },
   "file_extension": ".py",
   "mimetype": "text/x-python",
   "name": "python",
   "nbconvert_exporter": "python",
   "pygments_lexer": "ipython3",
   "version": "3.7.4"
  },
  "toc": {
   "base_numbering": 1,
   "nav_menu": {},
   "number_sections": true,
   "sideBar": true,
   "skip_h1_title": false,
   "title_cell": "Table of Contents",
   "title_sidebar": "Contents",
   "toc_cell": false,
   "toc_position": {},
   "toc_section_display": true,
   "toc_window_display": false
  },
  "varInspector": {
   "cols": {
    "lenName": 16,
    "lenType": 16,
    "lenVar": 40
   },
   "kernels_config": {
    "python": {
     "delete_cmd_postfix": "",
     "delete_cmd_prefix": "del ",
     "library": "var_list.py",
     "varRefreshCmd": "print(var_dic_list())"
    },
    "r": {
     "delete_cmd_postfix": ") ",
     "delete_cmd_prefix": "rm(",
     "library": "var_list.r",
     "varRefreshCmd": "cat(var_dic_list()) "
    }
   },
   "types_to_exclude": [
    "module",
    "function",
    "builtin_function_or_method",
    "instance",
    "_Feature"
   ],
   "window_display": false
  }
 },
 "nbformat": 4,
 "nbformat_minor": 2
}
