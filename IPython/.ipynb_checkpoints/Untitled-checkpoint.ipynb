{
 "cells": [
  {
   "cell_type": "code",
   "execution_count": 186,
   "metadata": {},
   "outputs": [],
   "source": [
    "import math\n",
    "import numpy as np\n",
    "import sympy as sm\n",
    "from sympy import Derivative\n",
    "from itertools import groupby\n",
    "import matplotlib.pyplot as plt\n",
    "from tabulate import tabulate\n",
    "from pprint import pprint\n",
    "\n",
    "from IPython.display import display, Latex"
   ]
  },
  {
   "cell_type": "code",
   "execution_count": 236,
   "metadata": {},
   "outputs": [],
   "source": [
    "sm.init_printing(use_latex='mathjax')\n",
    "x, y, c = sm.symbols('x, y, c', real=True)\n",
    "C1, C2 = sm.symbols(\"C1, C2\", real=True)\n",
    "c = sm.symbols(\"c\")\n",
    "u = sm.Function('u')\n",
    "ux1 = Derivative(u(x), x)"
   ]
  },
  {
   "cell_type": "code",
   "execution_count": 296,
   "metadata": {},
   "outputs": [],
   "source": [
    "zad1 = {'K': c*x**2,\n",
    "        'f': 2*x**2 + 2*x,\n",
    "        'a': 0.5, 'UA': 2,\n",
    "        'b': 1.6, 'UB': 6}\n",
    "\n",
    "zad0 = {'K': x,\n",
    "        'f': x**(sm.Pow(3,-1))*4/3,\n",
    "        'a': 0.5, 'UA': 1,\n",
    "        'b': 1, 'UB': 2}\n",
    "\n",
    "express = [\n",
    "    lambda zad: {'K':zad['K'], 'f':zad['f'], 'a':zad['a'], 'UA':zad['UA'], 'b':zad['b'], 'UB':zad['UB'], 'c':1 },\n",
    "    lambda zad: {'K':zad['K']*c, 'f':zad['f'], 'a':zad['a'], 'UA':zad['UA'], 'b':zad['b'], 'UB':zad['UB'], 'c':2 },\n",
    "    lambda zad: {'K':zad['K']*c, 'f':zad['f'], 'a':zad['a'], 'UA':zad['UA'], 'b':zad['b'], 'UB':zad['UB'], 'c':0.1 },\n",
    "    lambda zad: {'K':sm.Pow(zad['K'],-1), 'f':zad['f'], 'a':zad['a'], 'UA':zad['UA'], 'b':zad['b'], 'UB':zad['UB'], 'c':1 },\n",
    "    lambda zad: {'K':zad['K'], 'f':zad['f'], 'a':zad['a'], 'UA':-zad['UA'], 'b':zad['b'], 'UB':zad['UB'], 'c':1 },\n",
    "    lambda zad: {'K':zad['K'], 'f':zad['f'], 'a':zad['a'], 'UA':zad['UA'], 'b':zad['b'], 'UB':-zad['UB'], 'c':1 },\n",
    "    lambda zad: {'K':zad['K'], 'f':zad['f'], 'a':zad['a'], 'UA':-zad['UA'], 'b':zad['b'], 'UB':-zad['UB'], 'c':1 }\n",
    "]"
   ]
  },
  {
   "cell_type": "code",
   "execution_count": 297,
   "metadata": {},
   "outputs": [
    {
     "data": {
      "text/latex": [
       "$\\displaystyle \\frac{d}{d x} x \\frac{d}{d x} u{\\left(x \\right)} = - \\frac{4 \\sqrt[3]{x}}{3}$"
      ],
      "text/plain": [
       "                    3 ___ \n",
       "d ⎛  d       ⎞   -4⋅╲╱ x  \n",
       "──⎜x⋅──(u(x))⎟ = ─────────\n",
       "dx⎝  dx      ⎠       3    "
      ]
     },
     "execution_count": 297,
     "metadata": {},
     "output_type": "execute_result"
    }
   ],
   "source": [
    "rer = sm.Eq(Derivative(zad0['K']*ux1, x), - zad0['f'])\n",
    "rer"
   ]
  },
  {
   "cell_type": "code",
   "execution_count": 298,
   "metadata": {
    "scrolled": true
   },
   "outputs": [
    {
     "data": {
      "text/latex": [
       "$\\displaystyle x \\frac{d}{d x} u{\\left(x \\right)} = C_{1} - x^{\\frac{4}{3}}$"
      ],
      "text/plain": [
       "  d                4/3\n",
       "x⋅──(u(x)) = C₁ - x   \n",
       "  dx                  "
      ]
     },
     "execution_count": 298,
     "metadata": {},
     "output_type": "execute_result"
    }
   ],
   "source": [
    "res = sm.integrate(rer, x)\n",
    "res = sm.Eq(res.lhs, res.rhs + C1)\n",
    "res"
   ]
  },
  {
   "cell_type": "code",
   "execution_count": 299,
   "metadata": {},
   "outputs": [
    {
     "data": {
      "text/latex": [
       "$\\displaystyle \\frac{d}{d x} u{\\left(x \\right)} = \\frac{C_{1} - x^{\\frac{4}{3}}}{x}$"
      ],
      "text/plain": [
       "                 4/3\n",
       "d          C₁ - x   \n",
       "──(u(x)) = ─────────\n",
       "dx             x    "
      ]
     },
     "execution_count": 299,
     "metadata": {},
     "output_type": "execute_result"
    }
   ],
   "source": [
    "res2 = sm.Eq(ux1, sm.solve(res, ux1)[0])\n",
    "res2"
   ]
  },
  {
   "cell_type": "code",
   "execution_count": 300,
   "metadata": {},
   "outputs": [
    {
     "data": {
      "text/latex": [
       "$\\displaystyle u{\\left(x \\right)} = C_{1} \\log{\\left(x \\right)} + C_{2} - \\frac{3 x^{\\frac{4}{3}}}{4}$"
      ],
      "text/plain": [
       "                           4/3\n",
       "                        3⋅x   \n",
       "u(x) = C₁⋅log(x) + C₂ - ──────\n",
       "                          4   "
      ]
     },
     "execution_count": 300,
     "metadata": {},
     "output_type": "execute_result"
    }
   ],
   "source": [
    "res3 = sm.integrate(res2, x)\n",
    "res3 = sm.Eq(res3.lhs, res3.rhs + C2)\n",
    "#res3 = sm.expand(res3)\n",
    "res3"
   ]
  },
  {
   "cell_type": "code",
   "execution_count": 305,
   "metadata": {
    "scrolled": false
   },
   "outputs": [
    {
     "data": {
      "text/latex": [
       "$\\displaystyle u{\\left(x \\right)} = C_{1} \\log{\\left(x \\right)} + C_{2} - \\frac{3 x^{\\frac{4}{3}}}{4}$"
      ],
      "text/plain": [
       "                           4/3\n",
       "                        3⋅x   \n",
       "u(x) = C₁⋅log(x) + C₂ - ──────\n",
       "                          4   "
      ]
     },
     "execution_count": 305,
     "metadata": {},
     "output_type": "execute_result"
    }
   ],
   "source": [
    "res4 = res3.subs(c, 1)\n",
    "res4"
   ]
  },
  {
   "cell_type": "code",
   "execution_count": null,
   "metadata": {},
   "outputs": [],
   "source": [
    "def getroots(expr, zad):\n",
    "    tyt1 = sm.Eq(expr.rhs.subs(x, zad['a']), zad['UA'])\n",
    "    tyt2 = sm.Eq(expr.rhs.subs(x, zad['b']), zad['UB'])\n",
    "    sol = sm.solve((tyt1, tyt2), (C1, C2))\n",
    "    return sol\n",
    "\n",
    "def getresult(zad):\n",
    "    rer = sm.Eq(Derivative(zad0['K']*ux1, x), - zad0['f'])\n",
    "    \n",
    "    res = sm.integrate(rer, x)\n",
    "    res = sm.Eq(res.lhs, res.rhs + C1)\n",
    "    \n",
    "    res2 = sm.Eq(ux1, sm.solve(res, ux1)[0])\n",
    "    \n",
    "    res3 = sm.integrate(res2, x)\n",
    "    res3 = sm.Eq(res3.lhs, res3.rhs + C2)\n",
    "    \n",
    "    res4 = res3.subs(c, zad['c'])\n",
    "    \n",
    "    sol = getroots(res3, zad)\n",
    "    equation = res4.subs({C1:sol[C1], C2:sol[C2]})\n",
    "    return [equation, sol]\n",
    "    \n",
    "def func1(zad):\n",
    "    results = [getresult(expr(zad0)) for expr in express]\n",
    "    display(results)"
   ]
  },
  {
   "cell_type": "code",
   "execution_count": 302,
   "metadata": {},
   "outputs": [],
   "source": [
    "#%timeit -n 3 -r 3 print(tyt1)\n",
    "#display(tyt1)\n",
    "#display(tyt2)"
   ]
  },
  {
   "cell_type": "code",
   "execution_count": 303,
   "metadata": {},
   "outputs": [
    {
     "data": {
      "text/latex": [
       "$\\displaystyle \\left\\{ C_{1} : 2.0953158917601, \\  C_{2} : 2.75\\right\\}$"
      ],
      "text/plain": [
       "{C₁: 2.0953158917601, C₂: 2.75}"
      ]
     },
     "execution_count": 303,
     "metadata": {},
     "output_type": "execute_result"
    }
   ],
   "source": [
    "sol = getroots(res3, 1, zad0)\n",
    "sol"
   ]
  },
  {
   "cell_type": "code",
   "execution_count": 304,
   "metadata": {},
   "outputs": [
    {
     "data": {
      "text/latex": [
       "$\\displaystyle u{\\left(x \\right)} = - \\frac{3 x^{\\frac{4}{3}}}{4} + 2.0953158917601 \\log{\\left(x \\right)} + 2.75$"
      ],
      "text/plain": [
       "            4/3                                \n",
       "         3⋅x                                   \n",
       "u(x) = - ────── + 2.0953158917601⋅log(x) + 2.75\n",
       "           4                                   "
      ]
     },
     "execution_count": 304,
     "metadata": {},
     "output_type": "execute_result"
    }
   ],
   "source": [
    "res4.subs({C1:sol[C1], C2:sol[C2]})"
   ]
  },
  {
   "cell_type": "code",
   "execution_count": null,
   "metadata": {},
   "outputs": [],
   "source": []
  }
 ],
 "metadata": {
  "kernelspec": {
   "display_name": "Python 3",
   "language": "python",
   "name": "python3"
  },
  "language_info": {
   "codemirror_mode": {
    "name": "ipython",
    "version": 3
   },
   "file_extension": ".py",
   "mimetype": "text/x-python",
   "name": "python",
   "nbconvert_exporter": "python",
   "pygments_lexer": "ipython3",
   "version": "3.7.4"
  }
 },
 "nbformat": 4,
 "nbformat_minor": 2
}
