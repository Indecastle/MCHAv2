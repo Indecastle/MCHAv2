{
 "cells": [
  {
   "cell_type": "markdown",
   "metadata": {
    "hide_input": false,
    "slideshow": {
     "slide_type": "slide"
    }
   },
   "source": [
    "# lab1_3"
   ]
  },
  {
   "cell_type": "code",
   "execution_count": 1,
   "metadata": {
    "hide_input": false,
    "slideshow": {
     "slide_type": "fragment"
    }
   },
   "outputs": [],
   "source": [
    "import math\n",
    "import numpy as np\n",
    "import sympy as sm\n",
    "from sympy import Derivative\n",
    "from itertools import groupby\n",
    "import matplotlib.pyplot as plt\n",
    "from tabulate import tabulate\n",
    "from pprint import pprint\n",
    "\n",
    "from IPython.display import display, Latex, clear_output"
   ]
  },
  {
   "cell_type": "code",
   "execution_count": 2,
   "metadata": {
    "slideshow": {
     "slide_type": "fragment"
    }
   },
   "outputs": [],
   "source": [
    "sm.init_printing(use_latex='mathjax')\n",
    "x, y, c = sm.symbols('x, y, c', real=True)\n",
    "C1, C2 = sm.symbols(\"C1, C2\", real=True)\n",
    "c = sm.symbols(\"c\")\n",
    "u = sm.Function('u')\n",
    "ux = u(x)\n",
    "ux1 = Derivative(u(x), x)\n",
    "ux2 = Derivative(u(x), (x, 2))\n",
    "\n",
    "h, uup1, uum1, uu0 = sm.symbols('h, u_i+1, u_i-1, u_i')\n",
    "uux1 = (uup1 - uum1)/(2*h)\n",
    "uux2 = (uup1 - 2*uu0 + uum1)/(h**2)"
   ]
  },
  {
   "cell_type": "code",
   "execution_count": 3,
   "metadata": {
    "code_folding": [],
    "hide_input": true,
    "slideshow": {
     "slide_type": "fragment"
    }
   },
   "outputs": [],
   "source": [
    "zad1 = {\n",
    "    'p': 0.0,\n",
    "    'q': -5.0,\n",
    "    'f': sm.exp(x),\n",
    "    'a': 2, 'UA': 0,\n",
    "    'b': 4, 'UB': 2,\n",
    "    'E': 0.2\n",
    "}"
   ]
  },
  {
   "cell_type": "markdown",
   "metadata": {
    "slideshow": {
     "slide_type": "slide"
    }
   },
   "source": [
    "## тестовый пример"
   ]
  },
  {
   "cell_type": "code",
   "execution_count": 4,
   "metadata": {
    "hide_input": true,
    "scrolled": true,
    "slideshow": {
     "slide_type": "fragment"
    }
   },
   "outputs": [
    {
     "data": {
      "text/latex": [
       "$\\displaystyle - 5.0 u{\\left(x \\right)} + \\frac{d^{2}}{d x^{2}} u{\\left(x \\right)} = e^{x}$"
      ],
      "text/plain": [
       "              2           \n",
       "             d           x\n",
       "-5.0⋅u(x) + ───(u(x)) = ℯ \n",
       "              2           \n",
       "            dx            "
      ]
     },
     "execution_count": 4,
     "metadata": {},
     "output_type": "execute_result"
    }
   ],
   "source": [
    "mainEq = sm.Eq(ux2 + zad1['p']*ux1 + zad1['q']*ux,  zad1['f'])\n",
    "mainEq"
   ]
  },
  {
   "cell_type": "markdown",
   "metadata": {
    "slideshow": {
     "slide_type": "subslide"
    }
   },
   "source": [
    "### апроксимированное уравнение"
   ]
  },
  {
   "cell_type": "code",
   "execution_count": 5,
   "metadata": {
    "code_folding": [],
    "hide_input": false,
    "scrolled": true,
    "slideshow": {
     "slide_type": "fragment"
    }
   },
   "outputs": [
    {
     "data": {
      "text/latex": [
       "$\\displaystyle - 5.0 u_{i} + \\frac{- 2 u_{i} + u_{i+1} + u_{i-1}}{h^{2}} = e^{x}$"
      ],
      "text/plain": [
       "          -2⋅uᵢ + uᵢ₊₁ + uᵢ₋₁    x\n",
       "-5.0⋅uᵢ + ─────────────────── = ℯ \n",
       "                    2             \n",
       "                   h              "
      ]
     },
     "execution_count": 5,
     "metadata": {},
     "output_type": "execute_result"
    }
   ],
   "source": [
    "#apro = mainEq.subs({ux: uu0, ux2: uux2, ux1: uux1 })\n",
    "apro = sm.Eq(uux2 + zad1['p']*uux1 + zad1['q']*uu0,  zad1['f'])\n",
    "apro"
   ]
  },
  {
   "cell_type": "markdown",
   "metadata": {
    "slideshow": {
     "slide_type": "subslide"
    }
   },
   "source": [
    "### вычисление шага, переменных и массива абсцисс"
   ]
  },
  {
   "cell_type": "code",
   "execution_count": 13,
   "metadata": {
    "slideshow": {
     "slide_type": "fragment"
    }
   },
   "outputs": [
    {
     "data": {
      "text/latex": [
       "$\\displaystyle 0.5$"
      ],
      "text/plain": [
       "0.5"
      ]
     },
     "metadata": {},
     "output_type": "display_data"
    },
    {
     "data": {
      "text/latex": [
       "$\\displaystyle \\left( u_{0}, \\  u_{1}, \\  u_{2}, \\  u_{3}, \\  u_{4}\\right)$"
      ],
      "text/plain": [
       "(u₀, u₁, u₂, u₃, u₄)"
      ]
     },
     "metadata": {},
     "output_type": "display_data"
    },
    {
     "data": {
      "text/latex": [
       "$\\displaystyle \\left[ 2.0, \\  2.5, \\  3.0, \\  3.5, \\  4.0\\right]$"
      ],
      "text/plain": [
       "[2.0, 2.5, 3.0, 3.5, 4.0]"
      ]
     },
     "metadata": {},
     "output_type": "display_data"
    }
   ],
   "source": [
    "count, n = 5, 5\n",
    "n -= 1\n",
    "\n",
    "hh = (zad1['b'] - zad1['a']) / n\n",
    "us = sm.symbols(' '.join([f\"u{i}\" for i in range(n+1)]))\n",
    "list_x = [zad1['a'] + hh*i for i in range(n+1)]\n",
    "display(hh)\n",
    "display(us)\n",
    "display(list_x)"
   ]
  },
  {
   "cell_type": "markdown",
   "metadata": {
    "slideshow": {
     "slide_type": "subslide"
    }
   },
   "source": [
    "### система"
   ]
  },
  {
   "cell_type": "code",
   "execution_count": 14,
   "metadata": {
    "scrolled": true,
    "slideshow": {
     "slide_type": "fragment"
    }
   },
   "outputs": [
    {
     "data": {
      "text/latex": [
       "$\\displaystyle - 2.0 u_{0} + 2.0 u_{1} = 0$"
      ],
      "text/plain": [
       "-2.0⋅u₀ + 2.0⋅u₁ = 0"
      ]
     },
     "metadata": {},
     "output_type": "display_data"
    },
    {
     "data": {
      "text/latex": [
       "$\\displaystyle 4.0 u_{0} - 13.0 u_{1} + 4.0 u_{2} = 12.1824939607035$"
      ],
      "text/plain": [
       "4.0⋅u₀ - 13.0⋅u₁ + 4.0⋅u₂ = 12.1824939607035"
      ]
     },
     "metadata": {},
     "output_type": "display_data"
    },
    {
     "data": {
      "text/latex": [
       "$\\displaystyle 4.0 u_{1} - 13.0 u_{2} + 4.0 u_{3} = 20.0855369231877$"
      ],
      "text/plain": [
       "4.0⋅u₁ - 13.0⋅u₂ + 4.0⋅u₃ = 20.0855369231877"
      ]
     },
     "metadata": {},
     "output_type": "display_data"
    },
    {
     "data": {
      "text/latex": [
       "$\\displaystyle 4.0 u_{2} - 13.0 u_{3} + 4.0 u_{4} = 33.1154519586923$"
      ],
      "text/plain": [
       "4.0⋅u₂ - 13.0⋅u₃ + 4.0⋅u₄ = 33.1154519586923"
      ]
     },
     "metadata": {},
     "output_type": "display_data"
    },
    {
     "data": {
      "text/latex": [
       "$\\displaystyle u_{4} = 2$"
      ],
      "text/plain": [
       "u₄ = 2"
      ]
     },
     "metadata": {},
     "output_type": "display_data"
    }
   ],
   "source": [
    "tyts = []\n",
    "#tyts.append(sm.Eq((-us[2]+4*us[1]-3*us[0])/(2*hh), zad1['UA']))\n",
    "tyts.append(sm.Eq((us[1]-us[0])/(hh), zad1['UA']))\n",
    "tyts.extend([apro.subs({x: list_x[i], h: hh, uum1: us[i-1], uu0: us[i], uup1: us[i+1]})  for i in range(1,n)])\n",
    "tyts.append(sm.Eq(us[count-1], zad1['UB']))\n",
    "display(*tyts)"
   ]
  },
  {
   "cell_type": "code",
   "execution_count": 19,
   "metadata": {
    "code_folding": [],
    "hide_input": false,
    "scrolled": true
   },
   "outputs": [
    {
     "name": "stdout",
     "output_type": "stream",
     "text": [
      "-----  ------  ------  ------  ----\n",
      "-2.00    2.00    0.00    0.00  0.00\n",
      " 4.00  -13.00    4.00    0.00  0.00\n",
      " 0.00    4.00  -13.00    4.00  0.00\n",
      " 0.00    0.00    4.00  -13.00  4.00\n",
      " 0.00    0.00    0.00    0.00  1.00\n",
      "-----  ------  ------  ------  ----\n",
      "[0.0, 12.182493960703473, 20.085536923187668, 33.11545195869231, 2.0]\n"
     ]
    }
   ],
   "source": [
    "def maper(expr):\n",
    "    if (expr.func == sm.Mul or expr.func == sm.Symbol):\n",
    "        return [expr]\n",
    "    return list(expr.args)\n",
    "\n",
    "def maper2(expr):\n",
    "    if(isinstance(expr, int) or isinstance(expr, float)):\n",
    "        return float(expr)\n",
    "    if (expr.func == sm.Symbol):\n",
    "        return 1.0\n",
    "    elif (expr == 0):\n",
    "        return 0.0\n",
    "    return float(expr.args[0])\n",
    "\n",
    "def maper3(express):\n",
    "    for e in express:\n",
    "        e.sort(key=comparator)\n",
    "    for e in express:\n",
    "        if (len(e) != n+1):\n",
    "            for i, v in enumerate(e):\n",
    "                if comparator(v) != i:\n",
    "                    e.insert(i, 0)\n",
    "            if (len(e) != n+1):\n",
    "                e.extend([0]*(n+1-len(e)))\n",
    "\n",
    "def comparator(expr):\n",
    "    if (expr.args == () ):\n",
    "        text = str(expr)\n",
    "    else:\n",
    "        text = str(expr.args[1])\n",
    "    return int(text[1:])\n",
    "\n",
    "express = list(map(lambda t: maper(t.lhs), tyts))\n",
    "maper3(express)\n",
    "\n",
    "\n",
    "#print(express)        \n",
    "\n",
    "expr_values = list(map(lambda t: list(map(lambda t2: maper2(t2), t)), express))\n",
    "f_values = list(map(lambda t: float(t.rhs), tyts))\n",
    "print(tabulate(expr_values, floatfmt=\".2f\"))\n",
    "print(f_values)"
   ]
  },
  {
   "cell_type": "raw",
   "metadata": {
    "hide_input": false
   },
   "source": [
    "ptable = np.eye(count)\n",
    "ptable[0,0:2] = expr_values[0][1:3]\n",
    "\n",
    "for i, e in enumerate(expr_values[:-2], 1):\n",
    "    ptable[i,i-1:i+2] = expr_values[i]\n",
    "ptable[count-1,count-2:count] = expr_values[count-1][1:]\n",
    "print(tabulate(ptable))"
   ]
  },
  {
   "cell_type": "code",
   "execution_count": 61,
   "metadata": {
    "code_folding": []
   },
   "outputs": [
    {
     "name": "stdout",
     "output_type": "stream",
     "text": [
      "|    |   a |   b |   c |\n",
      "|----|-----|-----|-----|\n",
      "|  0 |   0 |  -2 |   2 |\n",
      "|  1 |   4 | -13 |   4 |\n",
      "|  2 |   4 | -13 |   4 |\n",
      "|  3 |   4 | -13 |   4 |\n",
      "|  4 |   0 |   1 |   0 |\n"
     ]
    },
    {
     "data": {
      "text/latex": [
       "$\\displaystyle -2.8316652928421444$"
      ],
      "text/plain": [
       "-2.8316652928421444"
      ]
     },
     "metadata": {},
     "output_type": "display_data"
    },
    {
     "data": {
      "text/latex": [
       "$\\displaystyle -2.8316652928421444$"
      ],
      "text/plain": [
       "-2.8316652928421444"
      ]
     },
     "metadata": {},
     "output_type": "display_data"
    },
    {
     "data": {
      "text/latex": [
       "$\\displaystyle -3.3256234187189575$"
      ],
      "text/plain": [
       "-3.3256234187189575"
      ]
     },
     "metadata": {},
     "output_type": "display_data"
    },
    {
     "data": {
      "text/latex": [
       "$\\displaystyle -2.955226587197549$"
      ],
      "text/plain": [
       "-2.955226587197549"
      ]
     },
     "metadata": {},
     "output_type": "display_data"
    },
    {
     "data": {
      "text/latex": [
       "$\\displaystyle 2.0$"
      ],
      "text/plain": [
       "2.0"
      ]
     },
     "metadata": {},
     "output_type": "display_data"
    }
   ],
   "source": [
    "def TDMA(a,b,c,f):\n",
    "    a, b, c, f = map(lambda k_list: list(map(float, k_list)), (a, b, c, f))\n",
    "    a[0] = 0\n",
    "    n = len(f)\n",
    "    c[n-1] = 0\n",
    "    alpha = [0]*n\n",
    "    beta = [0]*n\n",
    "    x = [0]*n\n",
    "    u = [0]*n\n",
    "    \n",
    "    x[0] = b[0]\n",
    "    alpha[0] = -c[0]/x[0]\n",
    "    beta[0] = f[0]/x[0]\n",
    "    \n",
    "    for i in range(1,n-1):\n",
    "        x[i] = b[i] + a[i]*alpha[i-1]\n",
    "        alpha[i] = -c[i]/x[i]\n",
    "        beta[i] = (f[i] - a[i]*beta[i-1])/x[i]\n",
    "    \n",
    "    x[n-1] = b[n-1] + a[n-1]*alpha[n-2]\n",
    "    beta[n-1] = (f[n-1] - a[n-1]*beta[n-2])/x[n-1]\n",
    "    \n",
    "    u[n-1] = beta[n-1]\n",
    "    for i in range(n-2,-1,-1):\n",
    "        u[i] = alpha[i]*u[i+1] + beta[i]\n",
    "    \n",
    "\n",
    "    return u\n",
    "\n",
    "a = [0] + [expr_values[i+1][i] for i in range(n+1-1)]\n",
    "b = [expr_values[i][i] for i in range(n+1)]\n",
    "c = [expr_values[i][i+1] for i in range(n+1-1)] + [0]\n",
    "\n",
    "print(tabulate({'a':a, 'b':b, 'c':c}, headers='keys', showindex=\"always\", tablefmt=\"github\"))\n",
    "#print(tabulate([a, b, c], headers=['a', 'b', 'c'], showindex=\"always\"))\n",
    "xxx = TDMA(*[a,b,c], f_values)\n",
    "display(*xxx)"
   ]
  },
  {
   "cell_type": "markdown",
   "metadata": {
    "slideshow": {
     "slide_type": "-"
    }
   },
   "source": [
    "вычисление системы"
   ]
  },
  {
   "cell_type": "code",
   "execution_count": 17,
   "metadata": {
    "slideshow": {
     "slide_type": "fragment"
    }
   },
   "outputs": [
    {
     "data": {
      "text/latex": [
       "$\\displaystyle \\left( u_{0}, \\  -2.83166529284215\\right)$"
      ],
      "text/plain": [
       "(u₀, -2.83166529284215)"
      ]
     },
     "metadata": {},
     "output_type": "display_data"
    },
    {
     "data": {
      "text/latex": [
       "$\\displaystyle \\left( u_{1}, \\  -2.83166529284215\\right)$"
      ],
      "text/plain": [
       "(u₁, -2.83166529284215)"
      ]
     },
     "metadata": {},
     "output_type": "display_data"
    },
    {
     "data": {
      "text/latex": [
       "$\\displaystyle \\left( u_{2}, \\  -3.32562341871896\\right)$"
      ],
      "text/plain": [
       "(u₂, -3.32562341871896)"
      ]
     },
     "metadata": {},
     "output_type": "display_data"
    },
    {
     "data": {
      "text/latex": [
       "$\\displaystyle \\left( u_{3}, \\  -2.95522658719755\\right)$"
      ],
      "text/plain": [
       "(u₃, -2.95522658719755)"
      ]
     },
     "metadata": {},
     "output_type": "display_data"
    },
    {
     "data": {
      "text/latex": [
       "$\\displaystyle \\left( u_{4}, \\  2.0\\right)$"
      ],
      "text/plain": [
       "(u₄, 2.0)"
      ]
     },
     "metadata": {},
     "output_type": "display_data"
    }
   ],
   "source": [
    "result = sm.solve(tyts, us)\n",
    "display(*result.items())"
   ]
  },
  {
   "cell_type": "markdown",
   "metadata": {
    "slideshow": {
     "slide_type": "slide"
    }
   },
   "source": [
    "## основная задача"
   ]
  },
  {
   "cell_type": "code",
   "execution_count": 11,
   "metadata": {
    "code_folding": [],
    "slideshow": {
     "slide_type": "fragment"
    }
   },
   "outputs": [],
   "source": [
    "def solve1(zad, n):\n",
    "    count = n\n",
    "    n -= 1\n",
    "    ## апроксимированное уравнение\n",
    "    apro = sm.Eq(uux2 + zad['p']*uux1 + zad['q']*uu0,  zad['f'])\n",
    "    ## определяем шаг\n",
    "    hh = (zad['b'] - zad['a']) / n\n",
    "    ## переменные u1-u*\n",
    "    us = sm.symbols(' '.join([f\"u{i}\" for i in range(n+1)]))\n",
    "    ## массив обсцисс\n",
    "    list_x = [zad['a'] + hh*i for i in range(n+1)]\n",
    "    \n",
    "    ## система из n+1 уравнений\n",
    "    tyts = []\n",
    "    tyts.append(sm.Eq((us[1]-us[0])/(hh), zad['UA']))\n",
    "    tyts.extend([apro.subs({x: list_x[i], h: hh, uum1: us[i-1], uu0: us[i], uup1: us[i+1]})  for i in range(1,n)])\n",
    "    tyts.append(sm.Eq(us[count-1], zad['UB']))\n",
    "    \n",
    "    express = list(map(lambda t: maper(t.lhs), tyts))\n",
    "    maper3(express)\n",
    "    expr_values = list(map(lambda t: list(map(lambda t2: maper2(t2), t)), express))\n",
    "    f_values = list(map(lambda t: float(t.rhs), tyts))\n",
    "    \n",
    "    a = [0] + [expr_values[i+1][i] for i in range(count-1)]\n",
    "    b = [expr_values[i][i] for i in range(count)]\n",
    "    c = [expr_values[i][i+1] for i in range(count-1)] + [0]\n",
    "    xxx = TDMA(*[a,b,c], f_values)\n",
    "    \n",
    "    #result = sm.solve(tyts, us)\n",
    "    return list_x, xxx #, list(result.values())"
   ]
  },
  {
   "cell_type": "markdown",
   "metadata": {
    "slideshow": {
     "slide_type": "subslide"
    }
   },
   "source": [
    "### find accuracy"
   ]
  },
  {
   "cell_type": "code",
   "execution_count": 12,
   "metadata": {
    "code_folding": [],
    "hide_input": false,
    "scrolled": false,
    "slideshow": {
     "slide_type": "fragment"
    }
   },
   "outputs": [
    {
     "name": "stdout",
     "output_type": "stream",
     "text": [
      "шаг 0.050000\n"
     ]
    },
    {
     "data": {
      "image/png": "[encoded data removed]",
      "text/plain": [
       "<Figure size 432x288 with 1 Axes>"
      ]
     },
     "metadata": {
      "needs_background": "light"
     },
     "output_type": "display_data"
    },
    {
     "name": "stdout",
     "output_type": "stream",
     "text": [
      "qwerty: q\n"
     ]
    }
   ],
   "source": [
    "E = zad1['E']\n",
    "E_cur = 0\n",
    "n = 5\n",
    "result = solve1(zad1, n)\n",
    "n *= 2\n",
    "while(True):\n",
    "    hh = (zad1['b'] - zad1['a']) / n\n",
    "    plt.plot(*result, label=f\"old result n={int(n/2)}\")\n",
    "    result = solve1(zad1, n)\n",
    "    plt.plot(*result, label=f\"new result n={n}\" )\n",
    "    plt.legend(loc='upper left')\n",
    "    print(\"шаг %f\" % hh)\n",
    "    plt.show()   \n",
    "    #display(*solve1(zad1, n))\n",
    "    if(input(\"qwerty: \") == 'q'):\n",
    "        break\n",
    "    n *= 2\n",
    "    clear_output()"
   ]
  },
  {
   "cell_type": "code",
   "execution_count": null,
   "metadata": {},
   "outputs": [],
   "source": []
  }
 ],
 "metadata": {
  "celltoolbar": "Slideshow",
  "hide_input": false,
  "kernelspec": {
   "display_name": "Python 3",
   "language": "python",
   "name": "python3"
  },
  "language_info": {
   "codemirror_mode": {
    "name": "ipython",
    "version": 3
   },
   "file_extension": ".py",
   "mimetype": "text/x-python",
   "name": "python",
   "nbconvert_exporter": "python",
   "pygments_lexer": "ipython3",
   "version": "3.7.4"
  },
  "toc": {
   "base_numbering": 1,
   "nav_menu": {},
   "number_sections": true,
   "sideBar": true,
   "skip_h1_title": false,
   "title_cell": "Table of Contents",
   "title_sidebar": "Contents",
   "toc_cell": false,
   "toc_position": {
    "height": "calc(100% - 180px)",
    "left": "10px",
    "top": "150px",
    "width": "368px"
   },
   "toc_section_display": true,
   "toc_window_display": false
  },
  "varInspector": {
   "cols": {
    "lenName": 16,
    "lenType": 16,
    "lenVar": 40
   },
   "kernels_config": {
    "python": {
     "delete_cmd_postfix": "",
     "delete_cmd_prefix": "del ",
     "library": "var_list.py",
     "varRefreshCmd": "print(var_dic_list())"
    },
    "r": {
     "delete_cmd_postfix": ") ",
     "delete_cmd_prefix": "rm(",
     "library": "var_list.r",
     "varRefreshCmd": "cat(var_dic_list()) "
    }
   },
   "position": {
    "height": "419px",
    "left": "1473px",
    "right": "20px",
    "top": "141px",
    "width": "350px"
   },
   "types_to_exclude": [
    "module",
    "function",
    "builtin_function_or_method",
    "instance",
    "_Feature"
   ],
   "window_display": false
  }
 },
 "nbformat": 4,
 "nbformat_minor": 2
}
