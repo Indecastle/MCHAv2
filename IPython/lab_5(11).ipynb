{
 "cells": [
  {
   "cell_type": "code",
   "execution_count": 1,
   "metadata": {},
   "outputs": [],
   "source": [
    "import numpy as np\n",
    "import math\n",
    "import matplotlib.pyplot as plt\n",
    "from IPython.display import display"
   ]
  },
  {
   "cell_type": "code",
   "execution_count": 10,
   "metadata": {},
   "outputs": [],
   "source": [
    "left = -1\n",
    "right = 1\n",
    "k = 1\n",
    "n = 13"
   ]
  },
  {
   "cell_type": "code",
   "execution_count": 11,
   "metadata": {
    "code_folding": []
   },
   "outputs": [],
   "source": [
    "def phi(x, i):\n",
    "    return x**i * (1 - x ** 2)\n",
    "\n",
    "def a(x):\n",
    "    return math.sin(k)\n",
    "\n",
    "def b(x):\n",
    "    return math.cos(k)\n",
    "\n",
    "def f(x):\n",
    "    return -1\n",
    "\n",
    "def p(x):\n",
    "    return 1 + x * x * b(x)"
   ]
  },
  {
   "cell_type": "code",
   "execution_count": 18,
   "metadata": {},
   "outputs": [],
   "source": [
    "def GetBasisCoefficient(j, x):\n",
    "    if j == 0:\n",
    "        return -2 + (1 - x ** 2) * p(x)\n",
    "    elif j == 1:\n",
    "        return -6 * x + (x - x ** 3) * p(x)\n",
    "    else:\n",
    "        return j * (j - 1) * x ** (j - 2) - (j + 1) * (j + 2) * x ** j \\\n",
    "                     + (x ** j - x ** (j + 2)) * p(x)\n",
    "    \n",
    "def AddSolutionToPlot(X, A, y):\n",
    "    res = np.linalg.solve(A, y)\n",
    "    func = lambda x: sum(res[i] * phi(x, i) for i in range(n))\n",
    "    Y = [func(x) for x in X]\n",
    "    plt.grid()\n",
    "    plt.plot(X, Y)"
   ]
  },
  {
   "cell_type": "markdown",
   "metadata": {
    "slideshow": {
     "slide_type": "-"
    }
   },
   "source": [
    "# Метод коллокаций"
   ]
  },
  {
   "cell_type": "code",
   "execution_count": 19,
   "metadata": {},
   "outputs": [],
   "source": [
    "def func_1():\n",
    "    X = np.linspace(left, right, n)\n",
    "    y = [f(x) for x in X]\n",
    "    A = [[0] * n for _ in range(n)]\n",
    "    for i in range(n):\n",
    "        for j in range(n):\n",
    "            A[i][j] = GetBasisCoefficient(j, X[i])\n",
    "    AddSolutionToPlot(X, A, y)"
   ]
  },
  {
   "cell_type": "markdown",
   "metadata": {},
   "source": [
    "# Метод Найменьших квадратов (МНК)"
   ]
  },
  {
   "cell_type": "markdown",
   "metadata": {},
   "source": [
    "## Интегральный МНК"
   ]
  },
  {
   "cell_type": "code",
   "execution_count": 20,
   "metadata": {},
   "outputs": [],
   "source": [
    "def func_2_1():\n",
    "    X = np.linspace(left, right, n)\n",
    "    h = (right - left) / n\n",
    "    A = [[0] * n for _ in range(n)]\n",
    "    y = [0 for _ in range(n)]\n",
    "    for i in range(n):\n",
    "        y[i] = np.sum(f(X) * GetBasisCoefficient(i, X)) * h\n",
    "        for j in range(n):\n",
    "            A[i][j] = np.sum(GetBasisCoefficient(j, X) * GetBasisCoefficient(i, X)) * h\n",
    "    AddSolutionToPlot(X, A, y)"
   ]
  },
  {
   "cell_type": "markdown",
   "metadata": {},
   "source": [
    "## Дискретный МНК"
   ]
  },
  {
   "cell_type": "code",
   "execution_count": 21,
   "metadata": {},
   "outputs": [],
   "source": [
    "def func_2_2():\n",
    "    X = np.linspace(left, right, n)\n",
    "    A = [[0] * n for _ in range(n)]\n",
    "    y = [0 for _ in range(n)]\n",
    "    for i in range(n):\n",
    "        y[i] = np.sum([f(X) * GetBasisCoefficient(i, X)])\n",
    "        for j in range(n):\n",
    "            A[i][j] = np.sum(GetBasisCoefficient(j, X) * GetBasisCoefficient(i, X))\n",
    "    AddSolutionToPlot(X, A, y)"
   ]
  },
  {
   "cell_type": "markdown",
   "metadata": {},
   "source": [
    "# Метод Галеркина"
   ]
  },
  {
   "cell_type": "code",
   "execution_count": 22,
   "metadata": {},
   "outputs": [],
   "source": [
    "def func_3():\n",
    "    X = np.linspace(left, right, n)\n",
    "    A = [[0] * n for _ in range(n)]\n",
    "    h = (right - left) / n\n",
    "    y = [0 for _ in range(n)]\n",
    "    for i in range(n):\n",
    "        y[i] = np.sum(f(X) * phi(X, i)) * h\n",
    "        for j in range(n):\n",
    "            A[i][j] = np.sum(phi(X, i) * GetBasisCoefficient(j, X)) * h\n",
    "    AddSolutionToPlot(X, A, y)"
   ]
  },
  {
   "cell_type": "code",
   "execution_count": 23,
   "metadata": {},
   "outputs": [
    {
     "data": {
      "image/png": "[encoded data removed]",
      "text/plain": [
       "<Figure size 432x288 with 1 Axes>"
      ]
     },
     "metadata": {
      "needs_background": "light"
     },
     "output_type": "display_data"
    }
   ],
   "source": [
    "func_1()\n",
    "func_2_1()\n",
    "func_2_2()\n",
    "func_3()"
   ]
  },
  {
   "cell_type": "code",
   "execution_count": null,
   "metadata": {},
   "outputs": [],
   "source": []
  }
 ],
 "metadata": {
  "celltoolbar": "Slideshow",
  "hide_input": false,
  "kernelspec": {
   "display_name": "Python 3",
   "language": "python",
   "name": "python3"
  },
  "toc": {
   "base_numbering": 1,
   "nav_menu": {},
   "number_sections": true,
   "sideBar": true,
   "skip_h1_title": false,
   "title_cell": "Table of Contents",
   "title_sidebar": "Contents",
   "toc_cell": false,
   "toc_position": {},
   "toc_section_display": true,
   "toc_window_display": false
  },
  "varInspector": {
   "cols": {
    "lenName": 16,
    "lenType": 16,
    "lenVar": 40
   },
   "kernels_config": {
    "python": {
     "delete_cmd_postfix": "",
     "delete_cmd_prefix": "del ",
     "library": "var_list.py",
     "varRefreshCmd": "print(var_dic_list())"
    },
    "r": {
     "delete_cmd_postfix": ") ",
     "delete_cmd_prefix": "rm(",
     "library": "var_list.r",
     "varRefreshCmd": "cat(var_dic_list()) "
    }
   },
   "types_to_exclude": [
    "module",
    "function",
    "builtin_function_or_method",
    "instance",
    "_Feature"
   ],
   "window_display": false
  }
 },
 "nbformat": 4,
 "nbformat_minor": 2
}
