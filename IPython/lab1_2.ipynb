{
 "cells": [
  {
   "cell_type": "markdown",
   "metadata": {
    "hide_input": false,
    "slideshow": {
     "slide_type": "slide"
    }
   },
   "source": [
    "# lab1_2"
   ]
  },
  {
   "cell_type": "code",
   "execution_count": 54,
   "metadata": {
    "hide_input": false,
    "slideshow": {
     "slide_type": "fragment"
    }
   },
   "outputs": [],
   "source": [
    "import math\n",
    "import numpy as np\n",
    "import sympy as sm\n",
    "from sympy import Derivative\n",
    "from itertools import groupby\n",
    "import matplotlib.pyplot as plt\n",
    "from tabulate import tabulate\n",
    "from pprint import pprint\n",
    "\n",
    "from IPython.display import display, Latex, clear_output"
   ]
  },
  {
   "cell_type": "code",
   "execution_count": 55,
   "metadata": {
    "slideshow": {
     "slide_type": "fragment"
    }
   },
   "outputs": [],
   "source": [
    "t, y =sm.symbols('t, y')\n",
    "x=sm.Function('x')\n",
    "p=sm.Function('p')"
   ]
  },
  {
   "cell_type": "code",
   "execution_count": 56,
   "metadata": {
    "slideshow": {
     "slide_type": "fragment"
    }
   },
   "outputs": [],
   "source": [
    "sm.init_printing(use_latex='mathjax')\n",
    "x, y, c = sm.symbols('x, y, c', real=True)\n",
    "C1, C2 = sm.symbols(\"C1, C2\", real=True)\n",
    "c = sm.symbols(\"c\")\n",
    "u = sm.Function('u')\n",
    "ux = u(x)\n",
    "ux1 = Derivative(u(x), x)\n",
    "ux2 = Derivative(u(x), (x, 2))\n",
    "\n",
    "h, uup1, uum1, uu0 = sm.symbols('h, u_i+1, u_i-1, u_i')\n",
    "uux1 = (uup1 - uum1)/(2*h)\n",
    "uux2 = (uup1 - 2*uu0 + uum1)/(h**2)"
   ]
  },
  {
   "cell_type": "code",
   "execution_count": 57,
   "metadata": {
    "code_folding": [],
    "hide_input": true,
    "slideshow": {
     "slide_type": "fragment"
    }
   },
   "outputs": [],
   "source": [
    "zad1 = {\n",
    "    'p': sm.sqrt(1 + x**2)*0.4,\n",
    "    'q': 4*(1 + x**2),\n",
    "    'f': 20*sm.exp(-x),\n",
    "    'a': 0, 'UA': 0,\n",
    "    'b': 2.5, 'UB': 0,\n",
    "    'E': 0.05\n",
    "}"
   ]
  },
  {
   "cell_type": "markdown",
   "metadata": {
    "slideshow": {
     "slide_type": "slide"
    }
   },
   "source": [
    "## тестовый пример"
   ]
  },
  {
   "cell_type": "code",
   "execution_count": 58,
   "metadata": {
    "hide_input": true,
    "scrolled": true,
    "slideshow": {
     "slide_type": "fragment"
    }
   },
   "outputs": [
    {
     "data": {
      "text/latex": [
       "$\\displaystyle 0.4 \\sqrt{x^{2} + 1} \\frac{d}{d x} u{\\left(x \\right)} + \\left(4 x^{2} + 4\\right) u{\\left(x \\right)} + \\frac{d^{2}}{d x^{2}} u{\\left(x \\right)} = 20 e^{- x}$"
      ],
      "text/plain": [
       "       ________                                2               \n",
       "      ╱  2      d          ⎛   2    ⎞         d              -x\n",
       "0.4⋅╲╱  x  + 1 ⋅──(u(x)) + ⎝4⋅x  + 4⎠⋅u(x) + ───(u(x)) = 20⋅ℯ  \n",
       "                dx                             2               \n",
       "                                             dx                "
      ]
     },
     "execution_count": 58,
     "metadata": {},
     "output_type": "execute_result"
    }
   ],
   "source": [
    "mainEq = sm.Eq(ux2 + zad1['p']*ux1 + zad1['q']*ux,  zad1['f'])\n",
    "mainEq"
   ]
  },
  {
   "cell_type": "markdown",
   "metadata": {
    "slideshow": {
     "slide_type": "subslide"
    }
   },
   "source": [
    "### апроксимированное уравнение"
   ]
  },
  {
   "cell_type": "code",
   "execution_count": 59,
   "metadata": {
    "code_folding": [],
    "hide_input": false,
    "slideshow": {
     "slide_type": "fragment"
    }
   },
   "outputs": [
    {
     "data": {
      "text/latex": [
       "$\\displaystyle u_{i} \\left(4 x^{2} + 4\\right) + \\frac{0.2 \\left(u_{i+1} - u_{i-1}\\right) \\sqrt{x^{2} + 1}}{h} + \\frac{- 2 u_{i} + u_{i+1} + u_{i-1}}{h^{2}} = 20 e^{- x}$"
      ],
      "text/plain": [
       "                                     ________                               \n",
       "                                    ╱  2                                    \n",
       "   ⎛   2    ⎞   0.2⋅(uᵢ₊₁ - uᵢ₋₁)⋅╲╱  x  + 1    -2⋅uᵢ + uᵢ₊₁ + uᵢ₋₁       -x\n",
       "uᵢ⋅⎝4⋅x  + 4⎠ + ───────────────────────────── + ─────────────────── = 20⋅ℯ  \n",
       "                              h                           2                 \n",
       "                                                         h                  "
      ]
     },
     "execution_count": 59,
     "metadata": {},
     "output_type": "execute_result"
    }
   ],
   "source": [
    "#apro = mainEq.subs({ux: uu0, ux2: uux2, ux1: uux1 })\n",
    "apro = sm.Eq(uux2 + zad1['p']*uux1 + zad1['q']*uu0,  zad1['f'])\n",
    "apro"
   ]
  },
  {
   "cell_type": "markdown",
   "metadata": {
    "slideshow": {
     "slide_type": "subslide"
    }
   },
   "source": [
    "### вычисление шага, переменных и массива абсцисс"
   ]
  },
  {
   "cell_type": "code",
   "execution_count": 60,
   "metadata": {
    "slideshow": {
     "slide_type": "fragment"
    }
   },
   "outputs": [
    {
     "data": {
      "text/latex": [
       "$\\displaystyle 0.5$"
      ],
      "text/plain": [
       "0.5"
      ]
     },
     "metadata": {},
     "output_type": "display_data"
    },
    {
     "data": {
      "text/latex": [
       "$\\displaystyle \\left( u_{0}, \\  u_{1}, \\  u_{2}, \\  u_{3}, \\  u_{4}, \\  u_{5}\\right)$"
      ],
      "text/plain": [
       "(u₀, u₁, u₂, u₃, u₄, u₅)"
      ]
     },
     "metadata": {},
     "output_type": "display_data"
    },
    {
     "data": {
      "text/latex": [
       "$\\displaystyle \\left[ 0.0, \\  0.5, \\  1.0, \\  1.5, \\  2.0, \\  2.5\\right]$"
      ],
      "text/plain": [
       "[0.0, 0.5, 1.0, 1.5, 2.0, 2.5]"
      ]
     },
     "metadata": {},
     "output_type": "display_data"
    }
   ],
   "source": [
    "n = 5  # n=6\n",
    "hh = (zad1['b'] - zad1['a']) / n\n",
    "us = sm.symbols(' '.join([f\"u{i}\" for i in range(n+1)]))\n",
    "list_x = [zad1['a'] + hh*i for i in range(n+1)]\n",
    "display(hh)\n",
    "display(us)\n",
    "display(list_x)"
   ]
  },
  {
   "cell_type": "markdown",
   "metadata": {
    "slideshow": {
     "slide_type": "subslide"
    }
   },
   "source": [
    "### система"
   ]
  },
  {
   "cell_type": "code",
   "execution_count": 61,
   "metadata": {
    "scrolled": true,
    "slideshow": {
     "slide_type": "fragment"
    }
   },
   "outputs": [
    {
     "data": {
      "text/latex": [
       "$\\displaystyle 3.55278640450004 u_{0} - 3.0 u_{1} + 4.44721359549996 u_{2} = 12.1306131942527$"
      ],
      "text/plain": [
       "3.55278640450004⋅u₀ - 3.0⋅u₁ + 4.44721359549996⋅u₂ = 12.1306131942527"
      ]
     },
     "metadata": {},
     "output_type": "display_data"
    },
    {
     "data": {
      "text/latex": [
       "$\\displaystyle 3.43431457505076 u_{1} + 4.56568542494924 u_{3} = 7.35758882342885$"
      ],
      "text/plain": [
       "3.43431457505076⋅u₁ + 4.56568542494924⋅u₃ = 7.35758882342885"
      ]
     },
     "metadata": {},
     "output_type": "display_data"
    },
    {
     "data": {
      "text/latex": [
       "$\\displaystyle 3.2788897449072 u_{2} + 5.0 u_{3} + 4.7211102550928 u_{4} = 4.4626032029686$"
      ],
      "text/plain": [
       "3.2788897449072⋅u₂ + 5.0⋅u₃ + 4.7211102550928⋅u₄ = 4.4626032029686"
      ]
     },
     "metadata": {},
     "output_type": "display_data"
    },
    {
     "data": {
      "text/latex": [
       "$\\displaystyle 3.10557280900008 u_{3} + 12.0 u_{4} + 4.89442719099992 u_{5} = 2.70670566473225$"
      ],
      "text/plain": [
       "3.10557280900008⋅u₃ + 12.0⋅u₄ + 4.89442719099992⋅u₅ = 2.70670566473225"
      ]
     },
     "metadata": {},
     "output_type": "display_data"
    },
    {
     "data": {
      "text/latex": [
       "$\\displaystyle u_{0} = 0$"
      ],
      "text/plain": [
       "u₀ = 0"
      ]
     },
     "metadata": {},
     "output_type": "display_data"
    },
    {
     "data": {
      "text/latex": [
       "$\\displaystyle u_{5} = 0$"
      ],
      "text/plain": [
       "u₅ = 0"
      ]
     },
     "metadata": {},
     "output_type": "display_data"
    }
   ],
   "source": [
    "tyts = [apro.subs({x: list_x[i], h: hh, uum1: us[i-1], uu0: us[i], uup1: us[i+1]})  for i in range(1,n)]\n",
    "tyts.append(sm.Eq(us[0], zad1['UA']))\n",
    "tyts.append(sm.Eq(us[5], zad1['UB']))\n",
    "display(*tyts)"
   ]
  },
  {
   "cell_type": "markdown",
   "metadata": {
    "slideshow": {
     "slide_type": "-"
    }
   },
   "source": [
    "вычисление системы"
   ]
  },
  {
   "cell_type": "code",
   "execution_count": 62,
   "metadata": {
    "slideshow": {
     "slide_type": "fragment"
    }
   },
   "outputs": [
    {
     "data": {
      "text/latex": [
       "$\\displaystyle \\left( u_{0}, \\  0.0\\right)$"
      ],
      "text/plain": [
       "(u₀, 0.0)"
      ]
     },
     "metadata": {},
     "output_type": "display_data"
    },
    {
     "data": {
      "text/latex": [
       "$\\displaystyle \\left( u_{1}, \\  18.4651461227225\\right)$"
      ],
      "text/plain": [
       "(u₁, 18.4651461227225)"
      ]
     },
     "metadata": {},
     "output_type": "display_data"
    },
    {
     "data": {
      "text/latex": [
       "$\\displaystyle \\left( u_{2}, \\  15.1839011354769\\right)$"
      ],
      "text/plain": [
       "(u₂, 15.1839011354769)"
      ]
     },
     "metadata": {},
     "output_type": "display_data"
    },
    {
     "data": {
      "text/latex": [
       "$\\displaystyle \\left( u_{3}, \\  -12.278010072694\\right)$"
      ],
      "text/plain": [
       "(u₃, -12.278010072694)"
      ]
     },
     "metadata": {},
     "output_type": "display_data"
    },
    {
     "data": {
      "text/latex": [
       "$\\displaystyle \\left( u_{4}, \\  3.40307999125999\\right)$"
      ],
      "text/plain": [
       "(u₄, 3.40307999125999)"
      ]
     },
     "metadata": {},
     "output_type": "display_data"
    },
    {
     "data": {
      "text/latex": [
       "$\\displaystyle \\left( u_{5}, \\  0.0\\right)$"
      ],
      "text/plain": [
       "(u₅, 0.0)"
      ]
     },
     "metadata": {},
     "output_type": "display_data"
    }
   ],
   "source": [
    "result = sm.solve(tyts, us)\n",
    "display(*result.items())"
   ]
  },
  {
   "cell_type": "markdown",
   "metadata": {
    "slideshow": {
     "slide_type": "slide"
    }
   },
   "source": [
    "## основная задача"
   ]
  },
  {
   "cell_type": "code",
   "execution_count": 63,
   "metadata": {
    "code_folding": [],
    "slideshow": {
     "slide_type": "fragment"
    }
   },
   "outputs": [],
   "source": [
    "def solve1(zad, n):\n",
    "    ## апроксимированное уравнение\n",
    "    apro = sm.Eq(uux2 + zad['p']*uux1 + zad['q']*uu0,  zad['f'])\n",
    "    ## определяем шаг\n",
    "    hh = (zad['b'] - zad['a']) / n\n",
    "    ## переменные u1-u*\n",
    "    us = sm.symbols(' '.join([f\"u{i}\" for i in range(n+1)]))\n",
    "    ## массив обсцисс\n",
    "    list_x = [zad['a'] + hh*i for i in range(n+1)]\n",
    "    \n",
    "    ## система из n+1 уравнений\n",
    "    tyts = [apro.subs({x: list_x[i], h: hh, uum1: us[i-1], uu0: us[i], uup1: us[i+1]})  for i in range(1,n)]\n",
    "    tyts.append(sm.Eq(us[0], zad['UA']))\n",
    "    tyts.append(sm.Eq(us[5], zad['UB']))\n",
    "    \n",
    "    result = sm.solve(tyts, us)\n",
    "    return list_x, list(result.values())"
   ]
  },
  {
   "cell_type": "markdown",
   "metadata": {
    "slideshow": {
     "slide_type": "subslide"
    }
   },
   "source": [
    "### find accuracy"
   ]
  },
  {
   "cell_type": "code",
   "execution_count": 64,
   "metadata": {
    "code_folding": [],
    "hide_input": false,
    "scrolled": true,
    "slideshow": {
     "slide_type": "fragment"
    }
   },
   "outputs": [
    {
     "name": "stdout",
     "output_type": "stream",
     "text": [
      "шаг 0.062500\n"
     ]
    },
    {
     "data": {
      "image/png": "[encoded data removed]",
      "text/plain": [
       "<Figure size 432x288 with 1 Axes>"
      ]
     },
     "metadata": {
      "needs_background": "light"
     },
     "output_type": "display_data"
    },
    {
     "name": "stdout",
     "output_type": "stream",
     "text": [
      "qwerty: q\n"
     ]
    }
   ],
   "source": [
    "E = zad1['E']\n",
    "E_cur = 0\n",
    "n = 10\n",
    "result = solve1(zad1, n)\n",
    "n *= 2\n",
    "while(True):\n",
    "    hh = (zad1['b'] - zad1['a']) / n\n",
    "    plt.plot(*result, label=f\"old result n={int(n/2)}\")\n",
    "    result = solve1(zad1, n)\n",
    "    plt.plot(*result, label=f\"new result n={n}\" )\n",
    "    plt.legend(loc='upper left')\n",
    "    print(\"шаг %f\" % hh)\n",
    "    plt.show()   \n",
    "    #display(*solve1(zad1, n))\n",
    "    if(input(\"qwerty: \") == 'q'):\n",
    "        break\n",
    "    n *= 2\n",
    "    clear_output()"
   ]
  },
  {
   "cell_type": "code",
   "execution_count": null,
   "metadata": {},
   "outputs": [],
   "source": []
  }
 ],
 "metadata": {
  "celltoolbar": "Slideshow",
  "hide_input": false,
  "kernelspec": {
   "display_name": "Python 3",
   "language": "python",
   "name": "python3"
  },
  "language_info": {
   "codemirror_mode": {
    "name": "ipython",
    "version": 3
   },
   "file_extension": ".py",
   "mimetype": "text/x-python",
   "name": "python",
   "nbconvert_exporter": "python",
   "pygments_lexer": "ipython3",
   "version": "3.7.2"
  },
  "toc": {
   "base_numbering": 1,
   "nav_menu": {},
   "number_sections": true,
   "sideBar": true,
   "skip_h1_title": false,
   "title_cell": "Table of Contents",
   "title_sidebar": "Contents",
   "toc_cell": false,
   "toc_position": {
    "height": "calc(100% - 180px)",
    "left": "10px",
    "top": "150px",
    "width": "368px"
   },
   "toc_section_display": true,
   "toc_window_display": false
  },
  "varInspector": {
   "cols": {
    "lenName": 16,
    "lenType": 16,
    "lenVar": 40
   },
   "kernels_config": {
    "python": {
     "delete_cmd_postfix": "",
     "delete_cmd_prefix": "del ",
     "library": "var_list.py",
     "varRefreshCmd": "print(var_dic_list())"
    },
    "r": {
     "delete_cmd_postfix": ") ",
     "delete_cmd_prefix": "rm(",
     "library": "var_list.r",
     "varRefreshCmd": "cat(var_dic_list()) "
    }
   },
   "position": {
    "height": "443px",
    "left": "1470px",
    "right": "20px",
    "top": "120px",
    "width": "350px"
   },
   "types_to_exclude": [
    "module",
    "function",
    "builtin_function_or_method",
    "instance",
    "_Feature"
   ],
   "window_display": false
  }
 },
 "nbformat": 4,
 "nbformat_minor": 2
}
