{
 "cells": [
  {
   "cell_type": "markdown",
   "metadata": {},
   "source": [
    "# lab2_1"
   ]
  },
  {
   "cell_type": "code",
   "execution_count": 3,
   "metadata": {},
   "outputs": [],
   "source": [
    "import math\n",
    "import numpy as np\n",
    "import sympy as sm\n",
    "from sympy import Derivative, diff\n",
    "from itertools import groupby\n",
    "import matplotlib.pyplot as plt\n",
    "from tabulate import tabulate\n",
    "from pprint import pprint\n",
    "\n",
    "from IPython.display import display, Latex, clear_output"
   ]
  },
  {
   "cell_type": "code",
   "execution_count": 4,
   "metadata": {},
   "outputs": [
    {
     "data": {
      "text/latex": [
       "$\\displaystyle \\left( u^{j}_{i+1}, \\  u^{j}_{i-1}, \\  u^{j}_{i}\\right)$"
      ],
      "text/plain": [
       "(u_i+1__j, u_i-1__j, u_i__j)"
      ]
     },
     "execution_count": 4,
     "metadata": {},
     "output_type": "execute_result"
    }
   ],
   "source": [
    "sm.init_printing(use_latex='mathjax')\n",
    "x, y, t, l = sm.symbols('x, y, t, l', real=True)\n",
    "C1, C2 = sm.symbols(\"C1, C2\", real=True)\n",
    "c = sm.symbols(\"c\")\n",
    "u = sm.Function('u')\n",
    "ux = u(x)\n",
    "ux1 = Derivative(u(x), x)\n",
    "ux2 = Derivative(u(x), (x, 2))\n",
    "\n",
    "h, uup1, uum1, uu0 = sm.symbols('h, u_i+1^j, u_i-1^j, u_i^j')\n",
    "uux1 = (uup1 - uum1)/(2*h)\n",
    "uux2 = (uup1 - 2*uu0 + uum1)/(h**2)\n",
    "\n",
    "uup1, uum1, uu0"
   ]
  },
  {
   "cell_type": "code",
   "execution_count": 5,
   "metadata": {},
   "outputs": [],
   "source": [
    "zad1 = {\n",
    "    'a': 0, 'b': 2,\n",
    "    'k': 0.5, 'T': 0.4,\n",
    "    'fx': sm.lambdify(x, 1), 'fxt': sm.lambdify([x, t], 2),\n",
    "    'g1t': sm.lambdify(t, sm.exp(-t)), 'g2t': sm.lambdify(t, sm.exp(-5*t))\n",
    "    \n",
    "}"
   ]
  },
  {
   "cell_type": "code",
   "execution_count": 7,
   "metadata": {
    "scrolled": false
   },
   "outputs": [
    {
     "name": "stdout",
     "output_type": "stream",
     "text": [
      "0.25 0.044444444444444446 0.35555555555555557\n",
      "(u0, u1, u2, u3, u4, u5, u6, u7, u8)\n"
     ]
    }
   ],
   "source": [
    "n = 9\n",
    "m = 10\n",
    "hh = (zad1['b'] - zad1['a']) / (n-1)\n",
    "ll = zad1['T'] / (m-1)\n",
    "bb = zad1['k'] * ll / hh**2\n",
    "us = sm.symbols(' '.join([f\"u{i}\" for i in range(n)]))\n",
    "list_x = [zad1['a'] + hh*i for i in range(n)]\n",
    "list_t = [ll*i for i in range(m)]\n",
    "list_g1t = [zad1['g1t'](list_t[i]) for i in range(m)]\n",
    "list_g2t = [zad1['g2t'](list_t[i]) for i in range(m)]\n",
    "print(hh, ll, bb)\n",
    "print(us)\n",
    "#print(\"list_x:\", *list_x)\n",
    "#print(\"list_tt:\", *list_tt)\n",
    "#print(\"list_g1t:\", *list_g1t)\n",
    "#print(\"list_g2t:\", *list_g2t)"
   ]
  },
  {
   "cell_type": "code",
   "execution_count": 8,
   "metadata": {
    "scrolled": false
   },
   "outputs": [
    {
     "name": "stdout",
     "output_type": "stream",
     "text": [
      "╒═══╤══════════════════════╤════════╤═══════╤═══════╤═══════╤═══════╤═══════╤═══════╤════════╤════════╕\n",
      "│   │ i                    │ 0.0    │ 1.0   │ 2.0   │ 3.0   │ 4.0   │ 5.0   │ 6.0   │ 7.0    │ 8.0    │\n",
      "├───┼──────────────────────┼────────┼───────┼───────┼───────┼───────┼───────┼───────┼────────┼────────┤\n",
      "│ j │ tj \\ xi              │ 0.0    │ 0.25  │ 0.5   │ 0.75  │ 1.0   │ 1.25  │ 1.5   │ 1.75   │ 2.0    │\n",
      "├───┼──────────────────────┼────────┼───────┼───────┼───────┼───────┼───────┼───────┼────────┼────────┤\n",
      "│ 0 │ 0.0                  │ 1.0    │ 1.0   │ 1.0   │ 1.0   │ 1.0   │ 1.0   │ 1.0   │ 1.0    │ 1.0    │\n",
      "├───┼──────────────────────┼────────┼───────┼───────┼───────┼───────┼───────┼───────┼────────┼────────┤\n",
      "│ 1 │ 0.044444444444444446 │ 0.9565 │ 1.089 │ 1.089 │ 1.089 │ 1.089 │ 1.089 │ 1.089 │ 1.089  │ 0.8007 │\n",
      "├───┼──────────────────────┼────────┼───────┼───────┼───────┼───────┼───────┼───────┼────────┼────────┤\n",
      "│ 2 │ 0.08888888888888889  │ 0.9149 │ 1.131 │ 1.178 │ 1.178 │ 1.178 │ 1.178 │ 1.178 │ 1.075  │ 0.6412 │\n",
      "├───┼──────────────────────┼────────┼───────┼───────┼───────┼───────┼───────┼───────┼────────┼────────┤\n",
      "│ 3 │ 0.13333333333333333  │ 0.8752 │ 1.16  │ 1.25  │ 1.267 │ 1.267 │ 1.267 │ 1.23  │ 1.046  │ 0.5134 │\n",
      "├───┼──────────────────────┼────────┼───────┼───────┼───────┼───────┼───────┼───────┼────────┼────────┤\n",
      "│ 4 │ 0.17777777777777778  │ 0.8371 │ 1.179 │ 1.313 │ 1.35  │ 1.356 │ 1.343 │ 1.267 │ 1.011  │ 0.4111 │\n",
      "├───┼──────────────────────┼────────┼───────┼───────┼───────┼───────┼───────┼───────┼────────┼────────┤\n",
      "│ 5 │ 0.22222222222222224  │ 0.8007 │ 1.194 │ 1.367 │ 1.427 │ 1.438 │ 1.409 │ 1.292 │ 0.9775 │ 0.3292 │\n",
      "├───┼──────────────────────┼────────┼───────┼───────┼───────┼───────┼───────┼───────┼────────┼────────┤\n",
      "│ 6 │ 0.26666666666666666  │ 0.7659 │ 1.205 │ 1.416 │ 1.499 │ 1.513 │ 1.466 │ 1.311 │ 0.9476 │ 0.2636 │\n",
      "├───┼──────────────────────┼────────┼───────┼───────┼───────┼───────┼───────┼───────┼────────┼────────┤\n",
      "│ 7 │ 0.3111111111111111   │ 0.7326 │ 1.213 │ 1.459 │ 1.563 │ 1.58  │ 1.516 │ 1.326 │ 0.9224 │ 0.2111 │\n",
      "├───┼──────────────────────┼────────┼───────┼───────┼───────┼───────┼───────┼───────┼────────┼────────┤\n",
      "│ 8 │ 0.35555555555555557  │ 0.7008 │ 1.219 │ 1.497 │ 1.621 │ 1.64  │ 1.56  │ 1.339 │ 0.9018 │ 0.169  │\n",
      "├───┼──────────────────────┼────────┼───────┼───────┼───────┼───────┼───────┼───────┼────────┼────────┤\n",
      "│ 9 │ 0.4                  │ 0.6703 │ 1.222 │ 1.531 │ 1.673 │ 1.694 │ 1.599 │ 1.351 │ 0.8856 │ 0.1353 │\n",
      "├───┼──────────────────────┼────────┼───────┼───────┼───────┼───────┼───────┼───────┼────────┼────────┤\n",
      "│   │ й(х;0.4)             │        │       │       │       │       │       │       │        │        │\n",
      "├───┼──────────────────────┼────────┼───────┼───────┼───────┼───────┼───────┼───────┼────────┼────────┤\n",
      "│   │ |й - u|              │        │       │       │       │       │       │       │        │        │\n",
      "╘═══╧══════════════════════╧════════╧═══════╧═══════╧═══════╧═══════╧═══════╧═══════╧════════╧════════╛\n"
     ]
    }
   ],
   "source": [
    "table = [[None]*(n+2) for _ in range(m+4)]\n",
    "table[0][0] = ''\n",
    "table[0][1] = 'i'\n",
    "for i in range(2, n+2):\n",
    "    table[0][i] = i-2\n",
    "table[1][0] = 'j'\n",
    "table[1][1] = 'tj \\\\ xi'\n",
    "for i in range(2, n+2):\n",
    "    table[1][i] = list_x[i-2]\n",
    "    \n",
    "for i in range(2, m+2):\n",
    "    table[i][0] = i-2\n",
    "for i in range(2, m+2):\n",
    "    table[i][1] = list_t[i-2]\n",
    "table[m+4-2][1] = \"й(х;%s)\" % table[m+4-3][1]\n",
    "table[m+4-1][1] = \"|й - u|\"\n",
    "for i in range(m):\n",
    "    table[i+2][2] = list_g1t[i]\n",
    "    table[i+2][n+2-1] = list_g2t[i]\n",
    " \n",
    "for i in range(1, n-1):\n",
    "    table[2][i+2] = zad1['fx'](list_x[i])\n",
    "\n",
    "for i in range(1, m):\n",
    "    for j in range(1, n-1):\n",
    "        table[2+i][2+j] = bb*(table[2+i-1][2+j-1] + table[2+i-1][2+j+1] - 2*table[2+i-1][2+j]) + table[2+i-1][2+j] + ll*zad1['fxt'](list_x[j], list_t[i])\n",
    "print(tabulate(table, tablefmt='fancy_grid', floatfmt=\".4\"))"
   ]
  },
  {
   "cell_type": "code",
   "execution_count": null,
   "metadata": {},
   "outputs": [],
   "source": []
  },
  {
   "cell_type": "code",
   "execution_count": null,
   "metadata": {},
   "outputs": [],
   "source": []
  }
 ],
 "metadata": {
  "hide_input": false,
  "kernelspec": {
   "display_name": "Python 3",
   "language": "python",
   "name": "python3"
  },
  "language_info": {
   "codemirror_mode": {
    "name": "ipython",
    "version": 3
   },
   "file_extension": ".py",
   "mimetype": "text/x-python",
   "name": "python",
   "nbconvert_exporter": "python",
   "pygments_lexer": "ipython3",
   "version": "3.7.4"
  },
  "toc": {
   "base_numbering": 1,
   "nav_menu": {},
   "number_sections": true,
   "sideBar": true,
   "skip_h1_title": false,
   "title_cell": "Table of Contents",
   "title_sidebar": "Contents",
   "toc_cell": false,
   "toc_position": {},
   "toc_section_display": true,
   "toc_window_display": false
  },
  "varInspector": {
   "cols": {
    "lenName": 16,
    "lenType": 16,
    "lenVar": 40
   },
   "kernels_config": {
    "python": {
     "delete_cmd_postfix": "",
     "delete_cmd_prefix": "del ",
     "library": "var_list.py",
     "varRefreshCmd": "print(var_dic_list())"
    },
    "r": {
     "delete_cmd_postfix": ") ",
     "delete_cmd_prefix": "rm(",
     "library": "var_list.r",
     "varRefreshCmd": "cat(var_dic_list()) "
    }
   },
   "position": {
    "height": "553px",
    "left": "1470px",
    "right": "20px",
    "top": "120px",
    "width": "350px"
   },
   "types_to_exclude": [
    "module",
    "function",
    "builtin_function_or_method",
    "instance",
    "_Feature"
   ],
   "window_display": false
  }
 },
 "nbformat": 4,
 "nbformat_minor": 2
}
