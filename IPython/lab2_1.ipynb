{
 "cells": [
  {
   "cell_type": "markdown",
   "metadata": {},
   "source": [
    "# lab2_1"
   ]
  },
  {
   "cell_type": "code",
   "execution_count": 1,
   "metadata": {},
   "outputs": [],
   "source": [
    "import math\n",
    "import numpy as np\n",
    "import sympy as sm\n",
    "from sympy import Derivative, diff\n",
    "from itertools import groupby\n",
    "import matplotlib.pyplot as plt\n",
    "from tabulate import tabulate\n",
    "from pprint import pprint\n",
    "\n",
    "from IPython.display import display, Latex, clear_output"
   ]
  },
  {
   "cell_type": "code",
   "execution_count": 2,
   "metadata": {},
   "outputs": [],
   "source": [
    "t, y =sm.symbols('t, y')\n",
    "x=sm.Function('x')\n",
    "p=sm.Function('p')"
   ]
  },
  {
   "cell_type": "code",
   "execution_count": 3,
   "metadata": {},
   "outputs": [
    {
     "data": {
      "text/latex": [
       "$\\displaystyle \\left( u^{j}_{i+1}, \\  u^{j}_{i-1}, \\  u^{j}_{i}\\right)$"
      ],
      "text/plain": [
       "(u_i+1__j, u_i-1__j, u_i__j)"
      ]
     },
     "execution_count": 3,
     "metadata": {},
     "output_type": "execute_result"
    }
   ],
   "source": [
    "sm.init_printing(use_latex='mathjax')\n",
    "x, y, t = sm.symbols('x, y, t', real=True)\n",
    "C1, C2 = sm.symbols(\"C1, C2\", real=True)\n",
    "c = sm.symbols(\"c\")\n",
    "u = sm.Function('u')\n",
    "ux = u(x)\n",
    "ux1 = Derivative(u(x), x)\n",
    "ux2 = Derivative(u(x), (x, 2))\n",
    "\n",
    "h, uup1, uum1, uu0 = sm.symbols('h, u_i+1^j, u_i-1^j, u_i^j')\n",
    "uux1 = (uup1 - uum1)/(2*h)\n",
    "uux2 = (uup1 - 2*uu0 + uum1)/(h**2)\n",
    "\n",
    "uup1, uum1, uu0"
   ]
  },
  {
   "cell_type": "code",
   "execution_count": 4,
   "metadata": {},
   "outputs": [],
   "source": [
    "zad1 = {\n",
    "    'a': 0, 'b': 2,\n",
    "    'k': 0.5, 'T': 0.4,\n",
    "    'fx': sm.lambdify(x, 1), 'fxt': sm.lambdify([x, t], 2),\n",
    "    'g1t': sm.lambdify(t, sm.exp(-t)), 'g2t': sm.lambdify(t, sm.exp(-5*t))\n",
    "    \n",
    "}"
   ]
  },
  {
   "cell_type": "code",
   "execution_count": 5,
   "metadata": {
    "scrolled": false
   },
   "outputs": [
    {
     "name": "stdout",
     "output_type": "stream",
     "text": [
      "0.25\n",
      "(u0, u1, u2, u3, u4, u5, u6, u7, u8)\n",
      "list_x: 0.0 0.25 0.5 0.75 1.0 1.25 1.5 1.75 2.0\n",
      "list_tt: 0.0 0.0625 0.125 0.1875 0.25 0.3125 0.375 0.4375 0.5\n",
      "list_g1t: 1.0 0.9394130628134758 0.8824969025845955 0.8290291181804004 0.7788007830714049 0.7316156289466418 0.6872892787909722 0.645648526427892 0.6065306597126334\n",
      "list_g2t: 1.0 0.7316156289466418 0.5352614285189903 0.391605626676799 0.2865047968601901 0.2096113871510978 0.15335496684492847 0.11219689052034373 0.0820849986238988\n"
     ]
    }
   ],
   "source": [
    "n = 9\n",
    "hh = (zad1['b'] - zad1['a']) / (n-1)\n",
    "tt = 0.5 * hh**2 / zad1['k']\n",
    "us = sm.symbols(' '.join([f\"u{i}\" for i in range(n)]))\n",
    "list_x = [zad1['a'] + hh*i for i in range(n)]\n",
    "list_tt = [tt*i for i in range(n)]\n",
    "list_g1t = [zad1['g1t'](list_tt[i]) for i in range(n)]\n",
    "list_g2t = [zad1['g2t'](list_tt[i]) for i in range(n)]\n",
    "print(hh)\n",
    "print(us)\n",
    "print(\"list_x:\", *list_x)\n",
    "print(\"list_tt:\", *list_tt)\n",
    "print(\"list_g1t:\", *list_g1t)\n",
    "print(\"list_g2t:\", *list_g2t)"
   ]
  },
  {
   "cell_type": "code",
   "execution_count": 6,
   "metadata": {},
   "outputs": [
    {
     "name": "stdout",
     "output_type": "stream",
     "text": [
      "╒═══╤══════════╤═══════╤═════════╤═════════╤═════════╤═════════╤═════════╤═════════╤═════════╤═══════╕\n",
      "│   │ i        │ 0     │ 1       │ 2       │ 3       │ 4       │ 5       │ 6       │ 7       │ 8     │\n",
      "├───┼──────────┼───────┼─────────┼─────────┼─────────┼─────────┼─────────┼─────────┼─────────┼───────┤\n",
      "│ j │ tj \\ xi  │ 0.0   │ 0.25    │ 0.5     │ 0.75    │ 1.0     │ 1.25    │ 1.5     │ 1.75    │ 2.0   │\n",
      "├───┼──────────┼───────┼─────────┼─────────┼─────────┼─────────┼─────────┼─────────┼─────────┼───────┤\n",
      "│ 0 │ 0.0      │ 1.0   │ 1       │ 1       │ 1       │ 1       │ 1       │ 1       │ 1       │ 1.0   │\n",
      "├───┼──────────┼───────┼─────────┼─────────┼─────────┼─────────┼─────────┼─────────┼─────────┼───────┤\n",
      "│ 1 │ 0.0625   │ 0.939 │ 1.125   │ 1.125   │ 1.125   │ 1.125   │ 1.125   │ 1.125   │ 1.125   │ 0.732 │\n",
      "├───┼──────────┼───────┼─────────┼─────────┼─────────┼─────────┼─────────┼─────────┼─────────┼───────┤\n",
      "│ 2 │ 0.125    │ 0.882 │ 1.157   │ 1.25    │ 1.25    │ 1.25    │ 1.25    │ 1.25    │ 1.0535  │ 0.535 │\n",
      "├───┼──────────┼───────┼─────────┼─────────┼─────────┼─────────┼─────────┼─────────┼─────────┼───────┤\n",
      "│ 3 │ 0.1875   │ 0.829 │ 1.191   │ 1.3285  │ 1.375   │ 1.375   │ 1.375   │ 1.27675 │ 1.0175  │ 0.392 │\n",
      "├───┼──────────┼───────┼─────────┼─────────┼─────────┼─────────┼─────────┼─────────┼─────────┼───────┤\n",
      "│ 4 │ 0.25     │ 0.779 │ 1.20375 │ 1.408   │ 1.47675 │ 1.5     │ 1.45088 │ 1.32125 │ 0.95938 │ 0.287 │\n",
      "├───┼──────────┼───────┼─────────┼─────────┼─────────┼─────────┼─────────┼─────────┼─────────┼───────┤\n",
      "│ 5 │ 0.3125   │ 0.732 │ 1.2185  │ 1.46525 │ 1.579   │ 1.58882 │ 1.53562 │ 1.33013 │ 0.92912 │ 0.21  │\n",
      "├───┼──────────┼───────┼─────────┼─────────┼─────────┼─────────┼─────────┼─────────┼─────────┼───────┤\n",
      "│ 6 │ 0.375    │ 0.687 │ 1.22362 │ 1.52375 │ 1.65204 │ 1.68231 │ 1.58448 │ 1.35737 │ 0.89506 │ 0.153 │\n",
      "├───┼──────────┼───────┼─────────┼─────────┼─────────┼─────────┼─────────┼─────────┼─────────┼───────┤\n",
      "│ 7 │ 0.4375   │ 0.646 │ 1.23038 │ 1.56283 │ 1.72803 │ 1.74326 │ 1.64484 │ 1.36477 │ 0.88018 │ 0.112 │\n",
      "├───┼──────────┼───────┼─────────┼─────────┼─────────┼─────────┼─────────┼─────────┼─────────┼───────┤\n",
      "│ 8 │ 0.5      │ 0.607 │ 1.22941 │ 1.6042  │ 1.77804 │ 1.81144 │ 1.67902 │ 1.38751 │ 0.86338 │ 0.082 │\n",
      "├───┼──────────┼───────┼─────────┼─────────┼─────────┼─────────┼─────────┼─────────┼─────────┼───────┤\n",
      "│   │ й(х;0.5) │       │         │         │         │         │         │         │         │       │\n",
      "├───┼──────────┼───────┼─────────┼─────────┼─────────┼─────────┼─────────┼─────────┼─────────┼───────┤\n",
      "│   │ |й - u|  │       │         │         │         │         │         │         │         │       │\n",
      "╘═══╧══════════╧═══════╧═════════╧═════════╧═════════╧═════════╧═════════╧═════════╧═════════╧═══════╛\n"
     ]
    }
   ],
   "source": [
    "table = [['']*(n+2) for _ in range(n+4)]\n",
    "table[0][0] = ''\n",
    "table[0][1] = 'i'\n",
    "for i in range(2, n+2):\n",
    "    table[0][i] = i-2\n",
    "table[1][0] = 'j'\n",
    "table[1][1] = 'tj \\\\ xi'\n",
    "for i in range(2, n+2):\n",
    "    table[1][i] = list_x[i-2]\n",
    "    \n",
    "for i in range(2, n+2):\n",
    "    table[i][0] = i-2\n",
    "for i in range(2, n+2):\n",
    "    table[i][1] = list_tt[i-2]\n",
    "table[n+4-2][1] = \"й(х;%s)\" % table[n+4-3][1]\n",
    "table[n+4-1][1] = \"|й - u|\"\n",
    "for i in range(n):\n",
    "    table[i+2][2] = round(list_g1t[i],3)\n",
    "    table[i+2][n+2-1] = round(list_g2t[i], 3)\n",
    "for i in range(n):\n",
    "    table[i+2][2] = round(list_g1t[i],3)\n",
    "    table[i+2][n+2-1] = round(list_g2t[i], 3)\n",
    " \n",
    "for i in range(1, n-1):\n",
    "    table[2][i+2] = round(zad1['fx'](list_x[i]),3)\n",
    "\n",
    "for i in range(1, n):\n",
    "    for j in range(1, n-1):\n",
    "        table[2+i][2+j] = round(0.5*(table[2+i-1][2+j-1]+table[2+i-1][2+j+1]) + tt*zad1['fxt'](list_x[i], list_tt[j]), 5)\n",
    "print(tabulate(table, floatfmt=\".3\", tablefmt='fancy_grid'))"
   ]
  },
  {
   "cell_type": "code",
   "execution_count": null,
   "metadata": {},
   "outputs": [],
   "source": []
  }
 ],
 "metadata": {
  "kernelspec": {
   "display_name": "Python 3",
   "language": "python",
   "name": "python3"
  },
  "language_info": {
   "codemirror_mode": {
    "name": "ipython",
    "version": 3
   },
   "file_extension": ".py",
   "mimetype": "text/x-python",
   "name": "python",
   "nbconvert_exporter": "python",
   "pygments_lexer": "ipython3",
   "version": "3.7.3"
  }
 },
 "nbformat": 4,
 "nbformat_minor": 2
}
