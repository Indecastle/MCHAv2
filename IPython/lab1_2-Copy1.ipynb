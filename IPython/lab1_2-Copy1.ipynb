{
 "cells": [
  {
   "cell_type": "markdown",
   "metadata": {
    "slideshow": {
     "slide_type": "slide"
    }
   },
   "source": [
    "# lab1_2"
   ]
  },
  {
   "cell_type": "code",
   "execution_count": 193,
   "metadata": {
    "slideshow": {
     "slide_type": "fragment"
    }
   },
   "outputs": [],
   "source": [
    "import math\n",
    "import numpy as np\n",
    "import sympy as sm\n",
    "from sympy import Derivative, Dummy\n",
    "from sympy.core.evaluate import evaluate\n",
    "from itertools import groupby, zip_longest\n",
    "import matplotlib.pyplot as plt\n",
    "from tabulate import tabulate\n",
    "from pprint import pprint\n",
    "\n",
    "from IPython.display import display, Latex\n"
   ]
  },
  {
   "cell_type": "code",
   "execution_count": 194,
   "metadata": {},
   "outputs": [],
   "source": [
    "sm.init_printing(use_latex='mathjax')\n",
    "x, y, c = sm.symbols('x, y, c', real=True)\n",
    "C1, C2 = sm.symbols(\"C1, C2\", real=True)\n",
    "c = sm.symbols(\"c\")\n",
    "u = sm.Function('u')\n",
    "ux = u(x)\n",
    "ux1 = Derivative(u(x), x)\n",
    "ux2 = Derivative(u(x), (x, 2))\n",
    "\n",
    "h, uup1, uum1, uu0 = sm.symbols('h, u_i+1, u_i-1, u_i')\n",
    "uux1 = (uup1 - uum1)/(2*h)\n",
    "uux2 = (uup1 - 2*uu0 + uum1)/(h**2)"
   ]
  },
  {
   "cell_type": "code",
   "execution_count": 195,
   "metadata": {},
   "outputs": [],
   "source": [
    "zad1 = {\n",
    "    'p': sm.sqrt(1 + x**2)*0.4,\n",
    "    'q': 4*(1 + x**2),\n",
    "    'f': 20*sm.exp(-x),\n",
    "    'a': 0, 'UA': 0,\n",
    "    'b': 2.5, 'UB': 0,\n",
    "    'E': 0.05\n",
    "}\n",
    "zad0 = {\n",
    "    'p': 1/x,\n",
    "    'q': 0.5,\n",
    "    'f': 0.5*x**2 - sm.ln(x) + 4,\n",
    "    'a': 1, 'UA': 1,\n",
    "    'b': 2, 'UB': 1.1137,\n",
    "    'E': 0.05\n",
    "}"
   ]
  },
  {
   "cell_type": "code",
   "execution_count": 196,
   "metadata": {},
   "outputs": [
    {
     "data": {
      "text/latex": [
       "$\\displaystyle 0.4 \\sqrt{x^{2} + 1} \\frac{d}{d x} u{\\left(x \\right)} + \\left(4 x^{2} + 4\\right) u{\\left(x \\right)} + \\frac{d^{2}}{d x^{2}} u{\\left(x \\right)} = 20 e^{- x}$"
      ],
      "text/plain": [
       "       ________                                2               \n",
       "      ╱  2      d          ⎛   2    ⎞         d              -x\n",
       "0.4⋅╲╱  x  + 1 ⋅──(u(x)) + ⎝4⋅x  + 4⎠⋅u(x) + ───(u(x)) = 20⋅ℯ  \n",
       "                dx                             2               \n",
       "                                             dx                "
      ]
     },
     "execution_count": 196,
     "metadata": {},
     "output_type": "execute_result"
    }
   ],
   "source": [
    "mainEq = sm.Eq(ux2 + zad1['p']*ux1 + zad1['q']*ux, zad1['f'])\n",
    "mainEq"
   ]
  },
  {
   "cell_type": "code",
   "execution_count": 197,
   "metadata": {},
   "outputs": [
    {
     "data": {
      "text/latex": [
       "$\\displaystyle 0.5 u_{i} + \\frac{u_{i+1} - u_{i-1}}{2 h x} + \\frac{- 2 u_{i} + u_{i+1} + u_{i-1}}{h^{2}} = 0.5 x^{2} - \\log{\\left(x \\right)} + 4$"
      ],
      "text/plain": [
       "         uᵢ₊₁ - uᵢ₋₁   -2⋅uᵢ + uᵢ₊₁ + uᵢ₋₁        2             \n",
       "0.5⋅uᵢ + ─────────── + ─────────────────── = 0.5⋅x  - log(x) + 4\n",
       "            2⋅h⋅x                2                              \n",
       "                                h                               "
      ]
     },
     "execution_count": 197,
     "metadata": {},
     "output_type": "execute_result"
    }
   ],
   "source": [
    "#apro = mainEq.subs({ux: uu0, ux2: uux2, ux1: uux1 })\n",
    "apro = sm.Eq(uux2 + zad0['p']*uux1 + zad0['q']*uu0,  zad0['f'])\n",
    "apro"
   ]
  },
  {
   "cell_type": "code",
   "execution_count": 198,
   "metadata": {
    "scrolled": false
   },
   "outputs": [
    {
     "data": {
      "text/latex": [
       "$\\displaystyle 0.5$"
      ],
      "text/plain": [
       "0.5"
      ]
     },
     "metadata": {},
     "output_type": "display_data"
    },
    {
     "data": {
      "text/latex": [
       "$\\displaystyle \\left( u_{0}, \\  u_{1}, \\  u_{2}\\right)$"
      ],
      "text/plain": [
       "(u₀, u₁, u₂)"
      ]
     },
     "execution_count": 198,
     "metadata": {},
     "output_type": "execute_result"
    }
   ],
   "source": [
    "n = 2  # n=6\n",
    "hh = (zad0['b'] - zad0['a']) / n\n",
    "display(hh)\n",
    "us = sm.symbols(' '.join([f\"u{i}\" for i in range(n+1)]))\n",
    "us"
   ]
  },
  {
   "cell_type": "code",
   "execution_count": 199,
   "metadata": {},
   "outputs": [
    {
     "data": {
      "text/latex": [
       "$\\displaystyle \\left[ 1.0, \\  1.5, \\  2.0\\right]$"
      ],
      "text/plain": [
       "[1.0, 1.5, 2.0]"
      ]
     },
     "execution_count": 199,
     "metadata": {},
     "output_type": "execute_result"
    }
   ],
   "source": [
    "list_x = [zad0['a'] + hh*i for i in range(n+1)]\n",
    "list_x"
   ]
  },
  {
   "cell_type": "code",
   "execution_count": 200,
   "metadata": {},
   "outputs": [
    {
     "data": {
      "text/latex": [
       "$\\displaystyle 3.33333333333333 u_{0} - 7.5 u_{1} + 4.66666666666667 u_{2} = 4.71953489189184$"
      ],
      "text/plain": [
       "3.33333333333333⋅u₀ - 7.5⋅u₁ + 4.66666666666667⋅u₂ = 4.71953489189184"
      ]
     },
     "metadata": {},
     "output_type": "display_data"
    },
    {
     "data": {
      "text/latex": [
       "$\\displaystyle - 2.0 u_{0} + 4.0 u_{1} - 1.0 u_{2} = 1$"
      ],
      "text/plain": [
       "-2.0⋅u₀ + 4.0⋅u₁ - 1.0⋅u₂ = 1"
      ]
     },
     "metadata": {},
     "output_type": "display_data"
    },
    {
     "data": {
      "text/latex": [
       "$\\displaystyle - 0.5 u_{0} + 2.0 u_{1} - 0.5 u_{2} = 1.1137$"
      ],
      "text/plain": [
       "-0.5⋅u₀ + 2.0⋅u₁ - 0.5⋅u₂ = 1.1137"
      ]
     },
     "metadata": {},
     "output_type": "display_data"
    }
   ],
   "source": [
    "tyts = [apro.subs({x: list_x[i], h: hh, uum1: us[i-1], uu0: us[i], uup1: us[i+1]})  for i in range(1,n)]\n",
    "tyts.append(sm.Eq(us[0] + (-us[2]+4*us[1]-3*us[0])/(2*hh), zad0['UA']))\n",
    "tyts.append(sm.Eq(us[n] - 0.5*(3*us[n]-4*us[n-1]+us[n-2])/(2*hh), zad0['UB']))\n",
    "\n",
    "#tyts = [sm.Eq(2*us[0] + 1*us[1] + 0*us[2], 3), sm.Eq(5*us[0] + 4*us[1] + 2*us[2], 6), sm.Eq(0*us[0] + 1*us[1] - 3*us[2], 2)]\n",
    "display(*tyts)"
   ]
  },
  {
   "cell_type": "code",
   "execution_count": 201,
   "metadata": {},
   "outputs": [],
   "source": [
    "result = sm.solve(tyts, us)"
   ]
  },
  {
   "cell_type": "code",
   "execution_count": 202,
   "metadata": {},
   "outputs": [
    {
     "data": {
      "text/latex": [
       "$\\displaystyle \\left[ u_{0}, \\  1.227\\right]$"
      ],
      "text/plain": [
       "[u₀, 1.227]"
      ]
     },
     "metadata": {},
     "output_type": "display_data"
    },
    {
     "data": {
      "text/latex": [
       "$\\displaystyle \\left[ u_{1}, \\  1.5\\right]$"
      ],
      "text/plain": [
       "[u₁, 1.5]"
      ]
     },
     "metadata": {},
     "output_type": "display_data"
    },
    {
     "data": {
      "text/latex": [
       "$\\displaystyle \\left[ u_{2}, \\  2.545\\right]$"
      ],
      "text/plain": [
       "[u₂, 2.545]"
      ]
     },
     "metadata": {},
     "output_type": "display_data"
    }
   ],
   "source": [
    "display(*list(map(lambda e: [e[0], e[1].n(4)], result.items())))"
   ]
  },
  {
   "cell_type": "code",
   "execution_count": null,
   "metadata": {},
   "outputs": [],
   "source": []
  },
  {
   "cell_type": "code",
   "execution_count": 203,
   "metadata": {},
   "outputs": [
    {
     "name": "stdout",
     "output_type": "stream",
     "text": [
      "[[3.33333333333333*u0, -7.5*u1, 4.66666666666667*u2], [-2.0*u0, 4.0*u1, -1.0*u2], [-0.5*u0, 2.0*u1, -0.5*u2]]\n",
      "------  ------  ------\n",
      " 3.333  -7.500   4.667\n",
      "-2.000   4.000  -1.000\n",
      "-0.500   2.000  -0.500\n",
      "------  ------  ------\n",
      "[4.719534891891835, 1.0, 1.1137]\n"
     ]
    }
   ],
   "source": [
    "def maper(expr):\n",
    "    if (expr.func == sm.Mul):\n",
    "        return [expr]\n",
    "    return list(expr.args)\n",
    "\n",
    "def maper2(expr):\n",
    "    if(isinstance(expr, int) or isinstance(expr, float)):\n",
    "        return float(expr)\n",
    "    if (expr.func == sm.Symbol):\n",
    "        return 1.0\n",
    "    elif (expr == 0):\n",
    "        return 0.0\n",
    "    return float(expr.args[0])\n",
    "\n",
    "def comparator(expr):\n",
    "    if (expr.args == () ):\n",
    "        text = str(expr)\n",
    "    else:\n",
    "        text = str(expr.args[1])\n",
    "    return int(text[1:])\n",
    "\n",
    "express = list(map(lambda t: maper(t.lhs), tyts))\n",
    "\n",
    "for e in express:\n",
    "    e.sort(key=comparator)\n",
    "for e in express:\n",
    "    if (len(e) != n+1):\n",
    "        for i, v in enumerate(e):\n",
    "            if comparator(v) != i:\n",
    "                e.insert(i, 0)\n",
    "        if (len(e) != n+1):\n",
    "            e.extend([0]*(n+1-len(e)))\n",
    "print(express)        \n",
    "\n",
    "expr_values = list(map(lambda t: list(map(lambda t2: maper2(t2), t)), express))\n",
    "f_values = list(map(lambda t: float(t.rhs), tyts))\n",
    "print(tabulate(expr_values, floatfmt=\".3f\"))\n",
    "print(f_values)"
   ]
  },
  {
   "cell_type": "code",
   "execution_count": 204,
   "metadata": {
    "hide_input": false,
    "scrolled": true
   },
   "outputs": [
    {
     "name": "stdout",
     "output_type": "stream",
     "text": [
      "--------  ----  ----\n",
      " 3.33333  -7.5   0\n",
      "-2         4    -1\n",
      " 0         2    -0.5\n",
      "--------  ----  ----\n"
     ]
    }
   ],
   "source": [
    "count = n+1\n",
    "ptable = np.eye(count)\n",
    "ptable[0,0:2] = expr_values[0][:2]\n",
    "\n",
    "for i, e in enumerate(expr_values[:-2], 1):\n",
    "    ptable[i,i-1:i+2] = expr_values[i]\n",
    "ptable[count-1,count-2:count] = expr_values[count-1][1:]\n",
    "print(tabulate(ptable))"
   ]
  },
  {
   "cell_type": "code",
   "execution_count": 205,
   "metadata": {},
   "outputs": [
    {
     "name": "stdout",
     "output_type": "stream",
     "text": [
      "--------  --  ----\n",
      " 0        -2   2\n",
      " 3.33333   4  -0.5\n",
      "-7.5      -1   0\n",
      "--------  --  ----\n"
     ]
    },
    {
     "data": {
      "text/latex": [
       "$\\displaystyle 0.6137000000000006$"
      ],
      "text/plain": [
       "0.6137000000000006"
      ]
     },
     "metadata": {},
     "output_type": "display_data"
    },
    {
     "data": {
      "text/latex": [
       "$\\displaystyle -0.35651576336335555$"
      ],
      "text/plain": [
       "-0.35651576336335555"
      ]
     },
     "metadata": {},
     "output_type": "display_data"
    },
    {
     "data": {
      "text/latex": [
       "$\\displaystyle -3.6534630534534234$"
      ],
      "text/plain": [
       "-3.6534630534534234"
      ]
     },
     "metadata": {},
     "output_type": "display_data"
    }
   ],
   "source": [
    "Y, A, B = [], [], []\n",
    "Y = ptable[0,0]\n",
    "\n",
    "def TDMA(a,b,c,f):\n",
    "    a, b, c, f = map(lambda k_list: list(map(float, k_list)), (a, b, c, f))\n",
    "    a[0] = 0\n",
    "    n = len(f)\n",
    "    c[n-1] = 0\n",
    "    alpha = [0]*n\n",
    "    beta = [0]*n\n",
    "    x = [0]*n\n",
    "    u = [0]*n\n",
    "    \n",
    "    x[0] = b[0]\n",
    "    alpha[0] = -c[0]/x[0]\n",
    "    beta[0] = f[0]/x[0]\n",
    "    \n",
    "    for i in range(1,n-1):\n",
    "        x[i] = b[i] + a[i]*alpha[i-1]\n",
    "        alpha[i] = -c[i]/x[i]\n",
    "        beta[i] = (f[i] - a[i]*beta[i-1])/x[i]\n",
    "    \n",
    "    x[n-1] = b[n-1] + a[n-1]*alpha[n-2]\n",
    "    beta[n-1] = (f[n-1] - a[n-1]*beta[n-2])/x[n-1]\n",
    "    \n",
    "    u[n-1] = beta[n-1]\n",
    "    for i in range(n-2,-1,-1):\n",
    "        u[i] = alpha[i]*u[i+1] + beta[i]\n",
    "    \n",
    "\n",
    "    return u\n",
    "\n",
    "a = [0] + [expr_values[i+1][i] for i in range(n+1-1)]\n",
    "b = [expr_values[i][i] for i in range(n+1)]\n",
    "c = [expr_values[i][i+1] for i in range(n+1-1)] + [0]\n",
    "\n",
    "print(tabulate([a,b,c]))\n",
    "xxx = TDMA(*[a,b,c], f_values)\n",
    "display(*xxx)"
   ]
  },
  {
   "cell_type": "code",
   "execution_count": 206,
   "metadata": {},
   "outputs": [
    {
     "data": {
      "text/latex": [
       "$\\displaystyle \\left[ u_{0}, \\  1.227\\right]$"
      ],
      "text/plain": [
       "[u₀, 1.227]"
      ]
     },
     "metadata": {},
     "output_type": "display_data"
    },
    {
     "data": {
      "text/latex": [
       "$\\displaystyle \\left[ u_{1}, \\  1.5\\right]$"
      ],
      "text/plain": [
       "[u₁, 1.5]"
      ]
     },
     "metadata": {},
     "output_type": "display_data"
    },
    {
     "data": {
      "text/latex": [
       "$\\displaystyle \\left[ u_{2}, \\  2.545\\right]$"
      ],
      "text/plain": [
       "[u₂, 2.545]"
      ]
     },
     "metadata": {},
     "output_type": "display_data"
    }
   ],
   "source": [
    "display(*list(map(lambda e: [e[0], e[1].n(4)], result.items())))"
   ]
  },
  {
   "cell_type": "code",
   "execution_count": null,
   "metadata": {},
   "outputs": [],
   "source": []
  }
 ],
 "metadata": {
  "celltoolbar": "Slideshow",
  "hide_input": false,
  "kernelspec": {
   "display_name": "Python 3",
   "language": "python",
   "name": "python3"
  },
  "toc": {
   "base_numbering": 1,
   "nav_menu": {},
   "number_sections": true,
   "sideBar": true,
   "skip_h1_title": false,
   "title_cell": "Table of Contents",
   "title_sidebar": "Contents",
   "toc_cell": false,
   "toc_position": {},
   "toc_section_display": true,
   "toc_window_display": false
  },
  "varInspector": {
   "cols": {
    "lenName": 16,
    "lenType": 16,
    "lenVar": 40
   },
   "kernels_config": {
    "python": {
     "delete_cmd_postfix": "",
     "delete_cmd_prefix": "del ",
     "library": "var_list.py",
     "varRefreshCmd": "print(var_dic_list())"
    },
    "r": {
     "delete_cmd_postfix": ") ",
     "delete_cmd_prefix": "rm(",
     "library": "var_list.r",
     "varRefreshCmd": "cat(var_dic_list()) "
    }
   },
   "position": {
    "height": "462px",
    "left": "1470px",
    "right": "20px",
    "top": "120px",
    "width": "350px"
   },
   "types_to_exclude": [
    "module",
    "function",
    "builtin_function_or_method",
    "instance",
    "_Feature"
   ],
   "window_display": false
  }
 },
 "nbformat": 4,
 "nbformat_minor": 2
}
